{
  "nbformat": 4,
  "nbformat_minor": 0,
  "metadata": {
    "colab": {
      "provenance": []
    },
    "kernelspec": {
      "name": "python3",
      "display_name": "Python 3"
    },
    "language_info": {
      "name": "python"
    }
  },
  "cells": [
    {
      "cell_type": "markdown",
      "source": [
        "# Результаты экспериментов\n",
        "**Dataset_4**\n",
        "1. Базовая модель\n",
        "\n",
        "```\n",
        "  model = tf.keras.models.Sequential([\n",
        "  tf.keras.layers.Flatten(),\n",
        "  tf.keras.layers.Dense(128, activation='relu', input_shape = (9,)),\n",
        "  tf.keras.layers.Dense(256, activation='relu'),\n",
        "  tf.keras.layers.Dense(512, activation='relu'),\n",
        "  tf.keras.layers.Dense(1024, activation='relu'),\n",
        "  tf.keras.layers.Dense(2)])\n",
        "```\n",
        "\n",
        "***3-я итерация.*** loss: 0.0038 - accuracy: 0.7128 - val_loss: 0.0055 - val_accuracy: 0.7273\n",
        "\n",
        "Параметры для модели:\n",
        "1. split_percent = 0.9\n",
        "2. BATCH_SIZE = 12\n",
        "3. EPOCHS = 30\n",
        "4. NN_optimizer = 'adam'\n",
        "5. NN_loss = 'mse'\n",
        "\n",
        "**4-я итерация.** loss: 0.0552 - accuracy: 0.6667 - val_loss: 0.0516 - val_accuracy: 0.6818\n",
        "1. split_percent = 0.9\n",
        "2. BATCH_SIZE = 12\n",
        "3. EPOCHS = 45\n",
        "4. NN_optimizer = 'SGD'\n",
        "5. NN_loss = 'MeanAbsoluteError'\n",
        "\n",
        "**5-я итерация.**  loss: 0.0057 - accuracy: 0.6462 - val_loss: 0.0044 - val_accuracy: 0.6818\n",
        "1. split_percent = 0.9\n",
        "2. BATCH_SIZE = 12\n",
        "3. EPOCHS = 45\n",
        "4. NN_optimizer = 'SGD'\n",
        "5. NN_loss = 'mse'\n",
        "\n",
        "**6-я итерация.**  loss: 0.0566 - accuracy: 0.4923 - val_loss: 0.0592 - val_accuracy: 0.6818\n",
        "1. split_percent = 0.9\n",
        "2. BATCH_SIZE = 12\n",
        "3. EPOCHS = 30\n",
        "4. NN_optimizer = 'adam'\n",
        "5. NN_loss = 'MeanAbsoluteError'\n",
        "\n",
        "***7-я итерация.*** loss: 0.0033 - accuracy: 0.7128 - val_loss: 0.0058 - val_accuracy: 0.7273\n",
        "\n",
        "Параметры для модели:\n",
        "1. split_percent = 0.9\n",
        "2. BATCH_SIZE = 10\n",
        "3. EPOCHS = 33\n",
        "4. NN_optimizer = 'adam'\n",
        "5. NN_loss = 'mse'\n",
        "\n",
        "\n",
        "2. Базовая модель\n",
        "\n",
        "```\n",
        "  model = tf.keras.models.Sequential([\n",
        "  tf.keras.layers.Flatten(),\n",
        "  tf.keras.layers.Dense(32, activation='relu', input_shape = (9,)),\n",
        "  tf.keras.layers.Dense(128, activation='relu'),\n",
        "  tf.keras.layers.Dense(256, activation='relu'),\n",
        "  tf.keras.layers.Dense(256, activation='relu'),\n",
        "  tf.keras.layers.Dropout(0.3),\n",
        "  tf.keras.layers.Dense(2)])\n",
        "```\n",
        "\n",
        "**8-я итерация.** loss: 0.0072 - accuracy: 0.5692 - val_loss: 0.0045 - val_accuracy: 0.8182\n",
        "\n",
        "Параметры для модели:\n",
        "1. split_percent = 0.9\n",
        "2. BATCH_SIZE = 10\n",
        "3. EPOCHS = 32\n",
        "4. NN_optimizer = 'adam'\n",
        "5. NN_loss = 'mse'\n",
        "\n",
        "\n",
        "**Dataset_5**\n",
        "\n",
        "**9-я итерация.** loss: 0.0032 - accuracy: 0.6667 - val_loss: 0.0019 - val_accuracy: 0.7273\n",
        "\n",
        "Параметры для модели:\n",
        "1. split_percent = 0.9\n",
        "2. BATCH_SIZE = 10\n",
        "3. EPOCHS = 65\n",
        "4. NN_optimizer = 'adamax'\n",
        "5. NN_loss = 'mse'"
      ],
      "metadata": {
        "id": "nstMFIE1wdrP"
      }
    },
    {
      "cell_type": "markdown",
      "source": [
        "Подключим Гугл.Диск для сохранения и загрузки моделей"
      ],
      "metadata": {
        "id": "V-RmHxp-fJGY"
      }
    },
    {
      "cell_type": "code",
      "execution_count": null,
      "metadata": {
        "colab": {
          "base_uri": "https://localhost:8080/"
        },
        "id": "0_ZtuuescleK",
        "outputId": "2299e1f9-4cb3-4815-8cf8-253ec64a6d48"
      },
      "outputs": [
        {
          "output_type": "stream",
          "name": "stdout",
          "text": [
            "Mounted at /content/drive\n",
            "Requirement already satisfied: pyyaml in /usr/local/lib/python3.10/dist-packages (6.0.1)\n",
            "Requirement already satisfied: h5py in /usr/local/lib/python3.10/dist-packages (3.9.0)\n",
            "Requirement already satisfied: numpy>=1.17.3 in /usr/local/lib/python3.10/dist-packages (from h5py) (1.25.2)\n"
          ]
        }
      ],
      "source": [
        "from google.colab import drive\n",
        "drive.mount('/content/drive')\n",
        "! pip install pyyaml h5py  # Требуется для сохранения и загрузки моделей в HDF5-формате"
      ]
    },
    {
      "cell_type": "markdown",
      "source": [
        "Настройки"
      ],
      "metadata": {
        "id": "cWIuF35Rc0KT"
      }
    },
    {
      "cell_type": "code",
      "source": [
        "number_of_interations = 9 #Номер итерации для сохранения и загрузки готовой модели\n",
        "split_percent = 0.9 # Процент данных для обучения\n",
        "\n",
        "BATCH_SIZE = 10 # Размер пакета для обучения\n",
        "EPOCHS = 65 # Количество эпох обучения\n",
        "NN_optimizer = 'adamax' # Оптимизатор для модели НС\n",
        "NN_loss = 'mse' # Функция потерь\n",
        "csv_file = 'https://raw.githubusercontent.com/AnLiMan/Electronics_Differential_System/main/Datasets/Dataset_5.csv'  # Ссылка на датасет\n",
        "save_path = \"/content/drive/My Drive/Files for colab/NN for diss/NN_model_\" + str(number_of_interations) + \".h5\" # Путь для сохранения и загрузки моделей нейронки с гугл диска\n",
        "print('Текущий номер для сохранения модели, чекпоинтов, а также загрузки существующей модели с облака: ', number_of_interations)"
      ],
      "metadata": {
        "colab": {
          "base_uri": "https://localhost:8080/"
        },
        "id": "7rArNd4xczyr",
        "outputId": "46f2502c-f1d2-4db6-c4ba-8235b49eb0c6"
      },
      "execution_count": null,
      "outputs": [
        {
          "output_type": "stream",
          "name": "stdout",
          "text": [
            "Текущий номер для сохранения модели, чекпоинтов, а также загрузки существующей модели с облака:  9\n"
          ]
        }
      ]
    },
    {
      "cell_type": "markdown",
      "source": [
        "# Библиотеки"
      ],
      "metadata": {
        "id": "f4Om1GmWcvNs"
      }
    },
    {
      "cell_type": "code",
      "source": [
        "import pandas as pd\n",
        "import numpy as np\n",
        "\n",
        "import tensorflow as tf\n",
        "from keras import layers\n",
        "from tensorflow import keras\n",
        "import math\n",
        "from sklearn.metrics import mean_squared_error, accuracy_score\n",
        "from sklearn.model_selection import train_test_split\n",
        "import matplotlib.pyplot as plt\n",
        "import random\n",
        "import time"
      ],
      "metadata": {
        "id": "WWX8riPacwXs"
      },
      "execution_count": null,
      "outputs": []
    },
    {
      "cell_type": "markdown",
      "source": [
        "# Подготовка данных"
      ],
      "metadata": {
        "id": "Og2Y-kPRdfTD"
      }
    },
    {
      "cell_type": "markdown",
      "source": [
        "## Загрузим датасет, выведем некоторую информацию и совершим серию проверок"
      ],
      "metadata": {
        "id": "7rGNb3OOdgTT"
      }
    },
    {
      "cell_type": "code",
      "source": [
        "df = pd.read_csv(csv_file) # Прочтём датасет\n",
        "df.head() # Выведем заголовок"
      ],
      "metadata": {
        "colab": {
          "base_uri": "https://localhost:8080/",
          "height": 206
        },
        "id": "XSJwyRU2df8j",
        "outputId": "7ddcb261-3fec-4463-8454-cf3e0334c20d"
      },
      "execution_count": null,
      "outputs": [
        {
          "output_type": "execute_result",
          "data": {
            "text/plain": [
              "   AngleServo       V      ax      ay      az      gx      gy      gz    temp  \\\n",
              "0      0.8519  0.7725  0.1240 -0.0515  0.4374 -0.0157 -0.0157 -0.0157  0.9407   \n",
              "1      0.8519  0.7647  0.0398 -0.0079 -0.0079 -0.0079 -0.0079  0.0000  0.9397   \n",
              "2      0.8519  0.7529  0.0129 -0.0314 -0.0314 -0.0314 -0.0314  0.0000  0.9477   \n",
              "3      0.8519  0.7373 -0.0028 -0.0480  0.5966 -0.0178  0.0002 -0.0007  0.9397   \n",
              "4      0.8519  0.7843 -0.0338 -0.0073  0.0113  0.0000  0.0000 -0.0079  0.9661   \n",
              "\n",
              "   Deviation     V1     V2  \n",
              "0        0.0  0.788  0.788  \n",
              "1        0.0  0.780  0.780  \n",
              "2        0.0  0.768  0.768  \n",
              "3        0.0  0.752  0.752  \n",
              "4        0.0  0.800  0.800  "
            ],
            "text/html": [
              "\n",
              "  <div id=\"df-11fb1c28-b3ed-4290-8652-05a3e65501c4\" class=\"colab-df-container\">\n",
              "    <div>\n",
              "<style scoped>\n",
              "    .dataframe tbody tr th:only-of-type {\n",
              "        vertical-align: middle;\n",
              "    }\n",
              "\n",
              "    .dataframe tbody tr th {\n",
              "        vertical-align: top;\n",
              "    }\n",
              "\n",
              "    .dataframe thead th {\n",
              "        text-align: right;\n",
              "    }\n",
              "</style>\n",
              "<table border=\"1\" class=\"dataframe\">\n",
              "  <thead>\n",
              "    <tr style=\"text-align: right;\">\n",
              "      <th></th>\n",
              "      <th>AngleServo</th>\n",
              "      <th>V</th>\n",
              "      <th>ax</th>\n",
              "      <th>ay</th>\n",
              "      <th>az</th>\n",
              "      <th>gx</th>\n",
              "      <th>gy</th>\n",
              "      <th>gz</th>\n",
              "      <th>temp</th>\n",
              "      <th>Deviation</th>\n",
              "      <th>V1</th>\n",
              "      <th>V2</th>\n",
              "    </tr>\n",
              "  </thead>\n",
              "  <tbody>\n",
              "    <tr>\n",
              "      <th>0</th>\n",
              "      <td>0.8519</td>\n",
              "      <td>0.7725</td>\n",
              "      <td>0.1240</td>\n",
              "      <td>-0.0515</td>\n",
              "      <td>0.4374</td>\n",
              "      <td>-0.0157</td>\n",
              "      <td>-0.0157</td>\n",
              "      <td>-0.0157</td>\n",
              "      <td>0.9407</td>\n",
              "      <td>0.0</td>\n",
              "      <td>0.788</td>\n",
              "      <td>0.788</td>\n",
              "    </tr>\n",
              "    <tr>\n",
              "      <th>1</th>\n",
              "      <td>0.8519</td>\n",
              "      <td>0.7647</td>\n",
              "      <td>0.0398</td>\n",
              "      <td>-0.0079</td>\n",
              "      <td>-0.0079</td>\n",
              "      <td>-0.0079</td>\n",
              "      <td>-0.0079</td>\n",
              "      <td>0.0000</td>\n",
              "      <td>0.9397</td>\n",
              "      <td>0.0</td>\n",
              "      <td>0.780</td>\n",
              "      <td>0.780</td>\n",
              "    </tr>\n",
              "    <tr>\n",
              "      <th>2</th>\n",
              "      <td>0.8519</td>\n",
              "      <td>0.7529</td>\n",
              "      <td>0.0129</td>\n",
              "      <td>-0.0314</td>\n",
              "      <td>-0.0314</td>\n",
              "      <td>-0.0314</td>\n",
              "      <td>-0.0314</td>\n",
              "      <td>0.0000</td>\n",
              "      <td>0.9477</td>\n",
              "      <td>0.0</td>\n",
              "      <td>0.768</td>\n",
              "      <td>0.768</td>\n",
              "    </tr>\n",
              "    <tr>\n",
              "      <th>3</th>\n",
              "      <td>0.8519</td>\n",
              "      <td>0.7373</td>\n",
              "      <td>-0.0028</td>\n",
              "      <td>-0.0480</td>\n",
              "      <td>0.5966</td>\n",
              "      <td>-0.0178</td>\n",
              "      <td>0.0002</td>\n",
              "      <td>-0.0007</td>\n",
              "      <td>0.9397</td>\n",
              "      <td>0.0</td>\n",
              "      <td>0.752</td>\n",
              "      <td>0.752</td>\n",
              "    </tr>\n",
              "    <tr>\n",
              "      <th>4</th>\n",
              "      <td>0.8519</td>\n",
              "      <td>0.7843</td>\n",
              "      <td>-0.0338</td>\n",
              "      <td>-0.0073</td>\n",
              "      <td>0.0113</td>\n",
              "      <td>0.0000</td>\n",
              "      <td>0.0000</td>\n",
              "      <td>-0.0079</td>\n",
              "      <td>0.9661</td>\n",
              "      <td>0.0</td>\n",
              "      <td>0.800</td>\n",
              "      <td>0.800</td>\n",
              "    </tr>\n",
              "  </tbody>\n",
              "</table>\n",
              "</div>\n",
              "    <div class=\"colab-df-buttons\">\n",
              "\n",
              "  <div class=\"colab-df-container\">\n",
              "    <button class=\"colab-df-convert\" onclick=\"convertToInteractive('df-11fb1c28-b3ed-4290-8652-05a3e65501c4')\"\n",
              "            title=\"Convert this dataframe to an interactive table.\"\n",
              "            style=\"display:none;\">\n",
              "\n",
              "  <svg xmlns=\"http://www.w3.org/2000/svg\" height=\"24px\" viewBox=\"0 -960 960 960\">\n",
              "    <path d=\"M120-120v-720h720v720H120Zm60-500h600v-160H180v160Zm220 220h160v-160H400v160Zm0 220h160v-160H400v160ZM180-400h160v-160H180v160Zm440 0h160v-160H620v160ZM180-180h160v-160H180v160Zm440 0h160v-160H620v160Z\"/>\n",
              "  </svg>\n",
              "    </button>\n",
              "\n",
              "  <style>\n",
              "    .colab-df-container {\n",
              "      display:flex;\n",
              "      gap: 12px;\n",
              "    }\n",
              "\n",
              "    .colab-df-convert {\n",
              "      background-color: #E8F0FE;\n",
              "      border: none;\n",
              "      border-radius: 50%;\n",
              "      cursor: pointer;\n",
              "      display: none;\n",
              "      fill: #1967D2;\n",
              "      height: 32px;\n",
              "      padding: 0 0 0 0;\n",
              "      width: 32px;\n",
              "    }\n",
              "\n",
              "    .colab-df-convert:hover {\n",
              "      background-color: #E2EBFA;\n",
              "      box-shadow: 0px 1px 2px rgba(60, 64, 67, 0.3), 0px 1px 3px 1px rgba(60, 64, 67, 0.15);\n",
              "      fill: #174EA6;\n",
              "    }\n",
              "\n",
              "    .colab-df-buttons div {\n",
              "      margin-bottom: 4px;\n",
              "    }\n",
              "\n",
              "    [theme=dark] .colab-df-convert {\n",
              "      background-color: #3B4455;\n",
              "      fill: #D2E3FC;\n",
              "    }\n",
              "\n",
              "    [theme=dark] .colab-df-convert:hover {\n",
              "      background-color: #434B5C;\n",
              "      box-shadow: 0px 1px 3px 1px rgba(0, 0, 0, 0.15);\n",
              "      filter: drop-shadow(0px 1px 2px rgba(0, 0, 0, 0.3));\n",
              "      fill: #FFFFFF;\n",
              "    }\n",
              "  </style>\n",
              "\n",
              "    <script>\n",
              "      const buttonEl =\n",
              "        document.querySelector('#df-11fb1c28-b3ed-4290-8652-05a3e65501c4 button.colab-df-convert');\n",
              "      buttonEl.style.display =\n",
              "        google.colab.kernel.accessAllowed ? 'block' : 'none';\n",
              "\n",
              "      async function convertToInteractive(key) {\n",
              "        const element = document.querySelector('#df-11fb1c28-b3ed-4290-8652-05a3e65501c4');\n",
              "        const dataTable =\n",
              "          await google.colab.kernel.invokeFunction('convertToInteractive',\n",
              "                                                    [key], {});\n",
              "        if (!dataTable) return;\n",
              "\n",
              "        const docLinkHtml = 'Like what you see? Visit the ' +\n",
              "          '<a target=\"_blank\" href=https://colab.research.google.com/notebooks/data_table.ipynb>data table notebook</a>'\n",
              "          + ' to learn more about interactive tables.';\n",
              "        element.innerHTML = '';\n",
              "        dataTable['output_type'] = 'display_data';\n",
              "        await google.colab.output.renderOutput(dataTable, element);\n",
              "        const docLink = document.createElement('div');\n",
              "        docLink.innerHTML = docLinkHtml;\n",
              "        element.appendChild(docLink);\n",
              "      }\n",
              "    </script>\n",
              "  </div>\n",
              "\n",
              "\n",
              "<div id=\"df-daed10d4-549b-4bd2-a840-73b96a8a5342\">\n",
              "  <button class=\"colab-df-quickchart\" onclick=\"quickchart('df-daed10d4-549b-4bd2-a840-73b96a8a5342')\"\n",
              "            title=\"Suggest charts\"\n",
              "            style=\"display:none;\">\n",
              "\n",
              "<svg xmlns=\"http://www.w3.org/2000/svg\" height=\"24px\"viewBox=\"0 0 24 24\"\n",
              "     width=\"24px\">\n",
              "    <g>\n",
              "        <path d=\"M19 3H5c-1.1 0-2 .9-2 2v14c0 1.1.9 2 2 2h14c1.1 0 2-.9 2-2V5c0-1.1-.9-2-2-2zM9 17H7v-7h2v7zm4 0h-2V7h2v10zm4 0h-2v-4h2v4z\"/>\n",
              "    </g>\n",
              "</svg>\n",
              "  </button>\n",
              "\n",
              "<style>\n",
              "  .colab-df-quickchart {\n",
              "      --bg-color: #E8F0FE;\n",
              "      --fill-color: #1967D2;\n",
              "      --hover-bg-color: #E2EBFA;\n",
              "      --hover-fill-color: #174EA6;\n",
              "      --disabled-fill-color: #AAA;\n",
              "      --disabled-bg-color: #DDD;\n",
              "  }\n",
              "\n",
              "  [theme=dark] .colab-df-quickchart {\n",
              "      --bg-color: #3B4455;\n",
              "      --fill-color: #D2E3FC;\n",
              "      --hover-bg-color: #434B5C;\n",
              "      --hover-fill-color: #FFFFFF;\n",
              "      --disabled-bg-color: #3B4455;\n",
              "      --disabled-fill-color: #666;\n",
              "  }\n",
              "\n",
              "  .colab-df-quickchart {\n",
              "    background-color: var(--bg-color);\n",
              "    border: none;\n",
              "    border-radius: 50%;\n",
              "    cursor: pointer;\n",
              "    display: none;\n",
              "    fill: var(--fill-color);\n",
              "    height: 32px;\n",
              "    padding: 0;\n",
              "    width: 32px;\n",
              "  }\n",
              "\n",
              "  .colab-df-quickchart:hover {\n",
              "    background-color: var(--hover-bg-color);\n",
              "    box-shadow: 0 1px 2px rgba(60, 64, 67, 0.3), 0 1px 3px 1px rgba(60, 64, 67, 0.15);\n",
              "    fill: var(--button-hover-fill-color);\n",
              "  }\n",
              "\n",
              "  .colab-df-quickchart-complete:disabled,\n",
              "  .colab-df-quickchart-complete:disabled:hover {\n",
              "    background-color: var(--disabled-bg-color);\n",
              "    fill: var(--disabled-fill-color);\n",
              "    box-shadow: none;\n",
              "  }\n",
              "\n",
              "  .colab-df-spinner {\n",
              "    border: 2px solid var(--fill-color);\n",
              "    border-color: transparent;\n",
              "    border-bottom-color: var(--fill-color);\n",
              "    animation:\n",
              "      spin 1s steps(1) infinite;\n",
              "  }\n",
              "\n",
              "  @keyframes spin {\n",
              "    0% {\n",
              "      border-color: transparent;\n",
              "      border-bottom-color: var(--fill-color);\n",
              "      border-left-color: var(--fill-color);\n",
              "    }\n",
              "    20% {\n",
              "      border-color: transparent;\n",
              "      border-left-color: var(--fill-color);\n",
              "      border-top-color: var(--fill-color);\n",
              "    }\n",
              "    30% {\n",
              "      border-color: transparent;\n",
              "      border-left-color: var(--fill-color);\n",
              "      border-top-color: var(--fill-color);\n",
              "      border-right-color: var(--fill-color);\n",
              "    }\n",
              "    40% {\n",
              "      border-color: transparent;\n",
              "      border-right-color: var(--fill-color);\n",
              "      border-top-color: var(--fill-color);\n",
              "    }\n",
              "    60% {\n",
              "      border-color: transparent;\n",
              "      border-right-color: var(--fill-color);\n",
              "    }\n",
              "    80% {\n",
              "      border-color: transparent;\n",
              "      border-right-color: var(--fill-color);\n",
              "      border-bottom-color: var(--fill-color);\n",
              "    }\n",
              "    90% {\n",
              "      border-color: transparent;\n",
              "      border-bottom-color: var(--fill-color);\n",
              "    }\n",
              "  }\n",
              "</style>\n",
              "\n",
              "  <script>\n",
              "    async function quickchart(key) {\n",
              "      const quickchartButtonEl =\n",
              "        document.querySelector('#' + key + ' button');\n",
              "      quickchartButtonEl.disabled = true;  // To prevent multiple clicks.\n",
              "      quickchartButtonEl.classList.add('colab-df-spinner');\n",
              "      try {\n",
              "        const charts = await google.colab.kernel.invokeFunction(\n",
              "            'suggestCharts', [key], {});\n",
              "      } catch (error) {\n",
              "        console.error('Error during call to suggestCharts:', error);\n",
              "      }\n",
              "      quickchartButtonEl.classList.remove('colab-df-spinner');\n",
              "      quickchartButtonEl.classList.add('colab-df-quickchart-complete');\n",
              "    }\n",
              "    (() => {\n",
              "      let quickchartButtonEl =\n",
              "        document.querySelector('#df-daed10d4-549b-4bd2-a840-73b96a8a5342 button');\n",
              "      quickchartButtonEl.style.display =\n",
              "        google.colab.kernel.accessAllowed ? 'block' : 'none';\n",
              "    })();\n",
              "  </script>\n",
              "</div>\n",
              "    </div>\n",
              "  </div>\n"
            ],
            "application/vnd.google.colaboratory.intrinsic+json": {
              "type": "dataframe",
              "variable_name": "df",
              "summary": "{\n  \"name\": \"df\",\n  \"rows\": 217,\n  \"fields\": [\n    {\n      \"column\": \"AngleServo\",\n      \"properties\": {\n        \"dtype\": \"number\",\n        \"std\": 0.07849196526467606,\n        \"min\": 0.7407,\n        \"max\": 1.0,\n        \"num_unique_values\": 15,\n        \"samples\": [\n          0.9074,\n          0.9444,\n          0.8519\n        ],\n        \"semantic_type\": \"\",\n        \"description\": \"\"\n      }\n    },\n    {\n      \"column\": \"V\",\n      \"properties\": {\n        \"dtype\": \"number\",\n        \"std\": 0.0697721333227743,\n        \"min\": 0.702,\n        \"max\": 0.9706,\n        \"num_unique_values\": 96,\n        \"samples\": [\n          0.8333,\n          0.8118,\n          0.9157\n        ],\n        \"semantic_type\": \"\",\n        \"description\": \"\"\n      }\n    },\n    {\n      \"column\": \"ax\",\n      \"properties\": {\n        \"dtype\": \"number\",\n        \"std\": 0.14787017606513508,\n        \"min\": -0.8672,\n        \"max\": 0.9137,\n        \"num_unique_values\": 193,\n        \"samples\": [\n          0.069,\n          -0.1719,\n          0.0485\n        ],\n        \"semantic_type\": \"\",\n        \"description\": \"\"\n      }\n    },\n    {\n      \"column\": \"ay\",\n      \"properties\": {\n        \"dtype\": \"number\",\n        \"std\": 0.13900989941277547,\n        \"min\": -0.6015,\n        \"max\": 0.9062,\n        \"num_unique_values\": 197,\n        \"samples\": [\n          -0.0159,\n          -0.015,\n          -0.0157\n        ],\n        \"semantic_type\": \"\",\n        \"description\": \"\"\n      }\n    },\n    {\n      \"column\": \"az\",\n      \"properties\": {\n        \"dtype\": \"number\",\n        \"std\": 0.2681445384930278,\n        \"min\": -0.9453,\n        \"max\": 1.0,\n        \"num_unique_values\": 180,\n        \"samples\": [\n          0.5597,\n          0.5605,\n          0.6755\n        ],\n        \"semantic_type\": \"\",\n        \"description\": \"\"\n      }\n    },\n    {\n      \"column\": \"gx\",\n      \"properties\": {\n        \"dtype\": \"number\",\n        \"std\": 0.049269883178897377,\n        \"min\": -0.0668,\n        \"max\": 0.5085,\n        \"num_unique_values\": 68,\n        \"samples\": [\n          -0.0139,\n          0.0002,\n          0.0\n        ],\n        \"semantic_type\": \"\",\n        \"description\": \"\"\n      }\n    },\n    {\n      \"column\": \"gy\",\n      \"properties\": {\n        \"dtype\": \"number\",\n        \"std\": 0.01988672115225142,\n        \"min\": -0.139,\n        \"max\": 0.0551,\n        \"num_unique_values\": 47,\n        \"samples\": [\n          -0.0241,\n          0.0094,\n          0.0009\n        ],\n        \"semantic_type\": \"\",\n        \"description\": \"\"\n      }\n    },\n    {\n      \"column\": \"gz\",\n      \"properties\": {\n        \"dtype\": \"number\",\n        \"std\": 0.02664548144009152,\n        \"min\": -0.251,\n        \"max\": 0.063,\n        \"num_unique_values\": 50,\n        \"samples\": [\n          0.0294,\n          -0.0526,\n          -0.0269\n        ],\n        \"semantic_type\": \"\",\n        \"description\": \"\"\n      }\n    },\n    {\n      \"column\": \"temp\",\n      \"properties\": {\n        \"dtype\": \"number\",\n        \"std\": 0.1357474916150376,\n        \"min\": -0.8276,\n        \"max\": 1.0,\n        \"num_unique_values\": 115,\n        \"samples\": [\n          0.792,\n          0.9483,\n          0.9472\n        ],\n        \"semantic_type\": \"\",\n        \"description\": \"\"\n      }\n    },\n    {\n      \"column\": \"Deviation\",\n      \"properties\": {\n        \"dtype\": \"number\",\n        \"std\": 0.23421831182166905,\n        \"min\": -1.0,\n        \"max\": 0.6875,\n        \"num_unique_values\": 44,\n        \"samples\": [\n          0.075,\n          -0.8,\n          0.25\n        ],\n        \"semantic_type\": \"\",\n        \"description\": \"\"\n      }\n    },\n    {\n      \"column\": \"V1\",\n      \"properties\": {\n        \"dtype\": \"number\",\n        \"std\": 0.07772379664299389,\n        \"min\": 0.72,\n        \"max\": 1.0,\n        \"num_unique_values\": 56,\n        \"samples\": [\n          0.788,\n          0.84,\n          0.876\n        ],\n        \"semantic_type\": \"\",\n        \"description\": \"\"\n      }\n    },\n    {\n      \"column\": \"V2\",\n      \"properties\": {\n        \"dtype\": \"number\",\n        \"std\": 0.07494305968476206,\n        \"min\": 0.712,\n        \"max\": 1.0,\n        \"num_unique_values\": 53,\n        \"samples\": [\n          0.736,\n          0.98,\n          0.868\n        ],\n        \"semantic_type\": \"\",\n        \"description\": \"\"\n      }\n    }\n  ]\n}"
            }
          },
          "metadata": {},
          "execution_count": 7
        }
      ]
    },
    {
      "cell_type": "code",
      "source": [
        "df.dtypes # Используемые типы данных"
      ],
      "metadata": {
        "colab": {
          "base_uri": "https://localhost:8080/"
        },
        "id": "XrtlpRp4dqfJ",
        "outputId": "a7bb29fd-c66e-44ae-a7c8-ca91311f0660"
      },
      "execution_count": null,
      "outputs": [
        {
          "output_type": "execute_result",
          "data": {
            "text/plain": [
              "AngleServo    float64\n",
              "V             float64\n",
              "ax            float64\n",
              "ay            float64\n",
              "az            float64\n",
              "gx            float64\n",
              "gy            float64\n",
              "gz            float64\n",
              "temp          float64\n",
              "Deviation     float64\n",
              "V1            float64\n",
              "V2            float64\n",
              "dtype: object"
            ]
          },
          "metadata": {},
          "execution_count": 8
        }
      ]
    },
    {
      "cell_type": "code",
      "source": [
        "print(df.info())"
      ],
      "metadata": {
        "colab": {
          "base_uri": "https://localhost:8080/"
        },
        "id": "9G-cbbl8dr9x",
        "outputId": "813d4c09-1aeb-4107-939a-a5f770e1967f"
      },
      "execution_count": null,
      "outputs": [
        {
          "output_type": "stream",
          "name": "stdout",
          "text": [
            "<class 'pandas.core.frame.DataFrame'>\n",
            "RangeIndex: 217 entries, 0 to 216\n",
            "Data columns (total 12 columns):\n",
            " #   Column      Non-Null Count  Dtype  \n",
            "---  ------      --------------  -----  \n",
            " 0   AngleServo  217 non-null    float64\n",
            " 1   V           217 non-null    float64\n",
            " 2   ax          217 non-null    float64\n",
            " 3   ay          217 non-null    float64\n",
            " 4   az          217 non-null    float64\n",
            " 5   gx          217 non-null    float64\n",
            " 6   gy          217 non-null    float64\n",
            " 7   gz          217 non-null    float64\n",
            " 8   temp        217 non-null    float64\n",
            " 9   Deviation   217 non-null    float64\n",
            " 10  V1          217 non-null    float64\n",
            " 11  V2          217 non-null    float64\n",
            "dtypes: float64(12)\n",
            "memory usage: 20.5 KB\n",
            "None\n"
          ]
        }
      ]
    },
    {
      "cell_type": "code",
      "source": [
        "print(df.shape)"
      ],
      "metadata": {
        "colab": {
          "base_uri": "https://localhost:8080/"
        },
        "id": "uV9gDOONdtcc",
        "outputId": "1255e41b-897b-4a0c-a30f-549eafcb6de6"
      },
      "execution_count": null,
      "outputs": [
        {
          "output_type": "stream",
          "name": "stdout",
          "text": [
            "(217, 12)\n"
          ]
        }
      ]
    },
    {
      "cell_type": "markdown",
      "source": [
        "Проверим наличие отсутствующих значений."
      ],
      "metadata": {
        "id": "L7CKKzY6dydK"
      }
    },
    {
      "cell_type": "code",
      "source": [
        "print(df.isna().sum())"
      ],
      "metadata": {
        "colab": {
          "base_uri": "https://localhost:8080/"
        },
        "id": "6TyasRvUdu2D",
        "outputId": "96f8b077-4958-4eb8-9181-6fdbf38cd397"
      },
      "execution_count": null,
      "outputs": [
        {
          "output_type": "stream",
          "name": "stdout",
          "text": [
            "AngleServo    0\n",
            "V             0\n",
            "ax            0\n",
            "ay            0\n",
            "az            0\n",
            "gx            0\n",
            "gy            0\n",
            "gz            0\n",
            "temp          0\n",
            "Deviation     0\n",
            "V1            0\n",
            "V2            0\n",
            "dtype: int64\n"
          ]
        }
      ]
    },
    {
      "cell_type": "markdown",
      "source": [
        "Проверим на дубликаты"
      ],
      "metadata": {
        "id": "7g2N5IzWd0Cy"
      }
    },
    {
      "cell_type": "code",
      "source": [
        "print(df.duplicated(keep = False).value_counts())\n",
        "print(df[df.duplicated(keep = False)])"
      ],
      "metadata": {
        "colab": {
          "base_uri": "https://localhost:8080/"
        },
        "id": "Fz8kSoNTd1Xi",
        "outputId": "0d4033ad-4c29-4184-ee52-cafd38a154fb"
      },
      "execution_count": null,
      "outputs": [
        {
          "output_type": "stream",
          "name": "stdout",
          "text": [
            "False    217\n",
            "dtype: int64\n",
            "Empty DataFrame\n",
            "Columns: [AngleServo, V, ax, ay, az, gx, gy, gz, temp, Deviation, V1, V2]\n",
            "Index: []\n"
          ]
        }
      ]
    },
    {
      "cell_type": "markdown",
      "source": [
        "Выкинем дубликаты"
      ],
      "metadata": {
        "id": "nvqkGnxNd3AS"
      }
    },
    {
      "cell_type": "code",
      "source": [
        "df = df.drop_duplicates(keep = 'first').copy()\n",
        "print(df.shape)"
      ],
      "metadata": {
        "colab": {
          "base_uri": "https://localhost:8080/"
        },
        "id": "yyOf-A4qd3tS",
        "outputId": "37d3b344-84ec-49b0-acf7-c29db0c6abe8"
      },
      "execution_count": null,
      "outputs": [
        {
          "output_type": "stream",
          "name": "stdout",
          "text": [
            "(217, 12)\n"
          ]
        }
      ]
    },
    {
      "cell_type": "markdown",
      "source": [
        "Сбросим индекс dataframe"
      ],
      "metadata": {
        "id": "z98KC_1Td6Yx"
      }
    },
    {
      "cell_type": "code",
      "source": [
        "df = df.reset_index(drop = True)"
      ],
      "metadata": {
        "id": "1nlGW-VLd8iW"
      },
      "execution_count": null,
      "outputs": []
    },
    {
      "cell_type": "markdown",
      "source": [
        "Выделим колонки из датасета, которые нужно будет предсказывать в будущем (Y)."
      ],
      "metadata": {
        "id": "XgcOMupgd-nd"
      }
    },
    {
      "cell_type": "code",
      "source": [
        "target_names = ['V1', 'V2']\n",
        "y = df[target_names]\n",
        "y.head()"
      ],
      "metadata": {
        "colab": {
          "base_uri": "https://localhost:8080/",
          "height": 206
        },
        "id": "_Nt9SK_yd_W9",
        "outputId": "fec46afc-833f-4992-ca8a-88410bbfbfdf"
      },
      "execution_count": null,
      "outputs": [
        {
          "output_type": "execute_result",
          "data": {
            "text/plain": [
              "      V1     V2\n",
              "0  0.788  0.788\n",
              "1  0.780  0.780\n",
              "2  0.768  0.768\n",
              "3  0.752  0.752\n",
              "4  0.800  0.800"
            ],
            "text/html": [
              "\n",
              "  <div id=\"df-0f0b98cb-01f2-411b-affd-8aa57f880201\" class=\"colab-df-container\">\n",
              "    <div>\n",
              "<style scoped>\n",
              "    .dataframe tbody tr th:only-of-type {\n",
              "        vertical-align: middle;\n",
              "    }\n",
              "\n",
              "    .dataframe tbody tr th {\n",
              "        vertical-align: top;\n",
              "    }\n",
              "\n",
              "    .dataframe thead th {\n",
              "        text-align: right;\n",
              "    }\n",
              "</style>\n",
              "<table border=\"1\" class=\"dataframe\">\n",
              "  <thead>\n",
              "    <tr style=\"text-align: right;\">\n",
              "      <th></th>\n",
              "      <th>V1</th>\n",
              "      <th>V2</th>\n",
              "    </tr>\n",
              "  </thead>\n",
              "  <tbody>\n",
              "    <tr>\n",
              "      <th>0</th>\n",
              "      <td>0.788</td>\n",
              "      <td>0.788</td>\n",
              "    </tr>\n",
              "    <tr>\n",
              "      <th>1</th>\n",
              "      <td>0.780</td>\n",
              "      <td>0.780</td>\n",
              "    </tr>\n",
              "    <tr>\n",
              "      <th>2</th>\n",
              "      <td>0.768</td>\n",
              "      <td>0.768</td>\n",
              "    </tr>\n",
              "    <tr>\n",
              "      <th>3</th>\n",
              "      <td>0.752</td>\n",
              "      <td>0.752</td>\n",
              "    </tr>\n",
              "    <tr>\n",
              "      <th>4</th>\n",
              "      <td>0.800</td>\n",
              "      <td>0.800</td>\n",
              "    </tr>\n",
              "  </tbody>\n",
              "</table>\n",
              "</div>\n",
              "    <div class=\"colab-df-buttons\">\n",
              "\n",
              "  <div class=\"colab-df-container\">\n",
              "    <button class=\"colab-df-convert\" onclick=\"convertToInteractive('df-0f0b98cb-01f2-411b-affd-8aa57f880201')\"\n",
              "            title=\"Convert this dataframe to an interactive table.\"\n",
              "            style=\"display:none;\">\n",
              "\n",
              "  <svg xmlns=\"http://www.w3.org/2000/svg\" height=\"24px\" viewBox=\"0 -960 960 960\">\n",
              "    <path d=\"M120-120v-720h720v720H120Zm60-500h600v-160H180v160Zm220 220h160v-160H400v160Zm0 220h160v-160H400v160ZM180-400h160v-160H180v160Zm440 0h160v-160H620v160ZM180-180h160v-160H180v160Zm440 0h160v-160H620v160Z\"/>\n",
              "  </svg>\n",
              "    </button>\n",
              "\n",
              "  <style>\n",
              "    .colab-df-container {\n",
              "      display:flex;\n",
              "      gap: 12px;\n",
              "    }\n",
              "\n",
              "    .colab-df-convert {\n",
              "      background-color: #E8F0FE;\n",
              "      border: none;\n",
              "      border-radius: 50%;\n",
              "      cursor: pointer;\n",
              "      display: none;\n",
              "      fill: #1967D2;\n",
              "      height: 32px;\n",
              "      padding: 0 0 0 0;\n",
              "      width: 32px;\n",
              "    }\n",
              "\n",
              "    .colab-df-convert:hover {\n",
              "      background-color: #E2EBFA;\n",
              "      box-shadow: 0px 1px 2px rgba(60, 64, 67, 0.3), 0px 1px 3px 1px rgba(60, 64, 67, 0.15);\n",
              "      fill: #174EA6;\n",
              "    }\n",
              "\n",
              "    .colab-df-buttons div {\n",
              "      margin-bottom: 4px;\n",
              "    }\n",
              "\n",
              "    [theme=dark] .colab-df-convert {\n",
              "      background-color: #3B4455;\n",
              "      fill: #D2E3FC;\n",
              "    }\n",
              "\n",
              "    [theme=dark] .colab-df-convert:hover {\n",
              "      background-color: #434B5C;\n",
              "      box-shadow: 0px 1px 3px 1px rgba(0, 0, 0, 0.15);\n",
              "      filter: drop-shadow(0px 1px 2px rgba(0, 0, 0, 0.3));\n",
              "      fill: #FFFFFF;\n",
              "    }\n",
              "  </style>\n",
              "\n",
              "    <script>\n",
              "      const buttonEl =\n",
              "        document.querySelector('#df-0f0b98cb-01f2-411b-affd-8aa57f880201 button.colab-df-convert');\n",
              "      buttonEl.style.display =\n",
              "        google.colab.kernel.accessAllowed ? 'block' : 'none';\n",
              "\n",
              "      async function convertToInteractive(key) {\n",
              "        const element = document.querySelector('#df-0f0b98cb-01f2-411b-affd-8aa57f880201');\n",
              "        const dataTable =\n",
              "          await google.colab.kernel.invokeFunction('convertToInteractive',\n",
              "                                                    [key], {});\n",
              "        if (!dataTable) return;\n",
              "\n",
              "        const docLinkHtml = 'Like what you see? Visit the ' +\n",
              "          '<a target=\"_blank\" href=https://colab.research.google.com/notebooks/data_table.ipynb>data table notebook</a>'\n",
              "          + ' to learn more about interactive tables.';\n",
              "        element.innerHTML = '';\n",
              "        dataTable['output_type'] = 'display_data';\n",
              "        await google.colab.output.renderOutput(dataTable, element);\n",
              "        const docLink = document.createElement('div');\n",
              "        docLink.innerHTML = docLinkHtml;\n",
              "        element.appendChild(docLink);\n",
              "      }\n",
              "    </script>\n",
              "  </div>\n",
              "\n",
              "\n",
              "<div id=\"df-686f2094-6783-4082-9b06-c9e8e796307a\">\n",
              "  <button class=\"colab-df-quickchart\" onclick=\"quickchart('df-686f2094-6783-4082-9b06-c9e8e796307a')\"\n",
              "            title=\"Suggest charts\"\n",
              "            style=\"display:none;\">\n",
              "\n",
              "<svg xmlns=\"http://www.w3.org/2000/svg\" height=\"24px\"viewBox=\"0 0 24 24\"\n",
              "     width=\"24px\">\n",
              "    <g>\n",
              "        <path d=\"M19 3H5c-1.1 0-2 .9-2 2v14c0 1.1.9 2 2 2h14c1.1 0 2-.9 2-2V5c0-1.1-.9-2-2-2zM9 17H7v-7h2v7zm4 0h-2V7h2v10zm4 0h-2v-4h2v4z\"/>\n",
              "    </g>\n",
              "</svg>\n",
              "  </button>\n",
              "\n",
              "<style>\n",
              "  .colab-df-quickchart {\n",
              "      --bg-color: #E8F0FE;\n",
              "      --fill-color: #1967D2;\n",
              "      --hover-bg-color: #E2EBFA;\n",
              "      --hover-fill-color: #174EA6;\n",
              "      --disabled-fill-color: #AAA;\n",
              "      --disabled-bg-color: #DDD;\n",
              "  }\n",
              "\n",
              "  [theme=dark] .colab-df-quickchart {\n",
              "      --bg-color: #3B4455;\n",
              "      --fill-color: #D2E3FC;\n",
              "      --hover-bg-color: #434B5C;\n",
              "      --hover-fill-color: #FFFFFF;\n",
              "      --disabled-bg-color: #3B4455;\n",
              "      --disabled-fill-color: #666;\n",
              "  }\n",
              "\n",
              "  .colab-df-quickchart {\n",
              "    background-color: var(--bg-color);\n",
              "    border: none;\n",
              "    border-radius: 50%;\n",
              "    cursor: pointer;\n",
              "    display: none;\n",
              "    fill: var(--fill-color);\n",
              "    height: 32px;\n",
              "    padding: 0;\n",
              "    width: 32px;\n",
              "  }\n",
              "\n",
              "  .colab-df-quickchart:hover {\n",
              "    background-color: var(--hover-bg-color);\n",
              "    box-shadow: 0 1px 2px rgba(60, 64, 67, 0.3), 0 1px 3px 1px rgba(60, 64, 67, 0.15);\n",
              "    fill: var(--button-hover-fill-color);\n",
              "  }\n",
              "\n",
              "  .colab-df-quickchart-complete:disabled,\n",
              "  .colab-df-quickchart-complete:disabled:hover {\n",
              "    background-color: var(--disabled-bg-color);\n",
              "    fill: var(--disabled-fill-color);\n",
              "    box-shadow: none;\n",
              "  }\n",
              "\n",
              "  .colab-df-spinner {\n",
              "    border: 2px solid var(--fill-color);\n",
              "    border-color: transparent;\n",
              "    border-bottom-color: var(--fill-color);\n",
              "    animation:\n",
              "      spin 1s steps(1) infinite;\n",
              "  }\n",
              "\n",
              "  @keyframes spin {\n",
              "    0% {\n",
              "      border-color: transparent;\n",
              "      border-bottom-color: var(--fill-color);\n",
              "      border-left-color: var(--fill-color);\n",
              "    }\n",
              "    20% {\n",
              "      border-color: transparent;\n",
              "      border-left-color: var(--fill-color);\n",
              "      border-top-color: var(--fill-color);\n",
              "    }\n",
              "    30% {\n",
              "      border-color: transparent;\n",
              "      border-left-color: var(--fill-color);\n",
              "      border-top-color: var(--fill-color);\n",
              "      border-right-color: var(--fill-color);\n",
              "    }\n",
              "    40% {\n",
              "      border-color: transparent;\n",
              "      border-right-color: var(--fill-color);\n",
              "      border-top-color: var(--fill-color);\n",
              "    }\n",
              "    60% {\n",
              "      border-color: transparent;\n",
              "      border-right-color: var(--fill-color);\n",
              "    }\n",
              "    80% {\n",
              "      border-color: transparent;\n",
              "      border-right-color: var(--fill-color);\n",
              "      border-bottom-color: var(--fill-color);\n",
              "    }\n",
              "    90% {\n",
              "      border-color: transparent;\n",
              "      border-bottom-color: var(--fill-color);\n",
              "    }\n",
              "  }\n",
              "</style>\n",
              "\n",
              "  <script>\n",
              "    async function quickchart(key) {\n",
              "      const quickchartButtonEl =\n",
              "        document.querySelector('#' + key + ' button');\n",
              "      quickchartButtonEl.disabled = true;  // To prevent multiple clicks.\n",
              "      quickchartButtonEl.classList.add('colab-df-spinner');\n",
              "      try {\n",
              "        const charts = await google.colab.kernel.invokeFunction(\n",
              "            'suggestCharts', [key], {});\n",
              "      } catch (error) {\n",
              "        console.error('Error during call to suggestCharts:', error);\n",
              "      }\n",
              "      quickchartButtonEl.classList.remove('colab-df-spinner');\n",
              "      quickchartButtonEl.classList.add('colab-df-quickchart-complete');\n",
              "    }\n",
              "    (() => {\n",
              "      let quickchartButtonEl =\n",
              "        document.querySelector('#df-686f2094-6783-4082-9b06-c9e8e796307a button');\n",
              "      quickchartButtonEl.style.display =\n",
              "        google.colab.kernel.accessAllowed ? 'block' : 'none';\n",
              "    })();\n",
              "  </script>\n",
              "</div>\n",
              "    </div>\n",
              "  </div>\n"
            ],
            "application/vnd.google.colaboratory.intrinsic+json": {
              "type": "dataframe",
              "variable_name": "y",
              "summary": "{\n  \"name\": \"y\",\n  \"rows\": 217,\n  \"fields\": [\n    {\n      \"column\": \"V1\",\n      \"properties\": {\n        \"dtype\": \"number\",\n        \"std\": 0.07772379664299389,\n        \"min\": 0.72,\n        \"max\": 1.0,\n        \"num_unique_values\": 56,\n        \"samples\": [\n          0.788,\n          0.84,\n          0.876\n        ],\n        \"semantic_type\": \"\",\n        \"description\": \"\"\n      }\n    },\n    {\n      \"column\": \"V2\",\n      \"properties\": {\n        \"dtype\": \"number\",\n        \"std\": 0.07494305968476206,\n        \"min\": 0.712,\n        \"max\": 1.0,\n        \"num_unique_values\": 53,\n        \"samples\": [\n          0.736,\n          0.98,\n          0.868\n        ],\n        \"semantic_type\": \"\",\n        \"description\": \"\"\n      }\n    }\n  ]\n}"
            }
          },
          "metadata": {},
          "execution_count": 15
        }
      ]
    },
    {
      "cell_type": "markdown",
      "source": [
        "Выделим все независимые переменные из датасета, значений типа \"строка\" здесь быть не должно."
      ],
      "metadata": {
        "id": "2AT4hWNVeGds"
      }
    },
    {
      "cell_type": "code",
      "source": [
        "feature_names = ['AngleServo', 'V', 'ax', 'ay', 'az', 'gx', 'gy', 'gz', 'temp','Deviation']\n",
        "X = df[feature_names]\n",
        "X.head()"
      ],
      "metadata": {
        "colab": {
          "base_uri": "https://localhost:8080/",
          "height": 206
        },
        "id": "d5dcOaBCeRuB",
        "outputId": "ae42bc60-5d0f-4603-a49f-ecf73f9302c3"
      },
      "execution_count": null,
      "outputs": [
        {
          "output_type": "execute_result",
          "data": {
            "text/plain": [
              "   AngleServo       V      ax      ay      az      gx      gy      gz    temp  \\\n",
              "0      0.8519  0.7725  0.1240 -0.0515  0.4374 -0.0157 -0.0157 -0.0157  0.9407   \n",
              "1      0.8519  0.7647  0.0398 -0.0079 -0.0079 -0.0079 -0.0079  0.0000  0.9397   \n",
              "2      0.8519  0.7529  0.0129 -0.0314 -0.0314 -0.0314 -0.0314  0.0000  0.9477   \n",
              "3      0.8519  0.7373 -0.0028 -0.0480  0.5966 -0.0178  0.0002 -0.0007  0.9397   \n",
              "4      0.8519  0.7843 -0.0338 -0.0073  0.0113  0.0000  0.0000 -0.0079  0.9661   \n",
              "\n",
              "   Deviation  \n",
              "0        0.0  \n",
              "1        0.0  \n",
              "2        0.0  \n",
              "3        0.0  \n",
              "4        0.0  "
            ],
            "text/html": [
              "\n",
              "  <div id=\"df-c6056c41-d223-46d8-b087-fd1b7fabcc12\" class=\"colab-df-container\">\n",
              "    <div>\n",
              "<style scoped>\n",
              "    .dataframe tbody tr th:only-of-type {\n",
              "        vertical-align: middle;\n",
              "    }\n",
              "\n",
              "    .dataframe tbody tr th {\n",
              "        vertical-align: top;\n",
              "    }\n",
              "\n",
              "    .dataframe thead th {\n",
              "        text-align: right;\n",
              "    }\n",
              "</style>\n",
              "<table border=\"1\" class=\"dataframe\">\n",
              "  <thead>\n",
              "    <tr style=\"text-align: right;\">\n",
              "      <th></th>\n",
              "      <th>AngleServo</th>\n",
              "      <th>V</th>\n",
              "      <th>ax</th>\n",
              "      <th>ay</th>\n",
              "      <th>az</th>\n",
              "      <th>gx</th>\n",
              "      <th>gy</th>\n",
              "      <th>gz</th>\n",
              "      <th>temp</th>\n",
              "      <th>Deviation</th>\n",
              "    </tr>\n",
              "  </thead>\n",
              "  <tbody>\n",
              "    <tr>\n",
              "      <th>0</th>\n",
              "      <td>0.8519</td>\n",
              "      <td>0.7725</td>\n",
              "      <td>0.1240</td>\n",
              "      <td>-0.0515</td>\n",
              "      <td>0.4374</td>\n",
              "      <td>-0.0157</td>\n",
              "      <td>-0.0157</td>\n",
              "      <td>-0.0157</td>\n",
              "      <td>0.9407</td>\n",
              "      <td>0.0</td>\n",
              "    </tr>\n",
              "    <tr>\n",
              "      <th>1</th>\n",
              "      <td>0.8519</td>\n",
              "      <td>0.7647</td>\n",
              "      <td>0.0398</td>\n",
              "      <td>-0.0079</td>\n",
              "      <td>-0.0079</td>\n",
              "      <td>-0.0079</td>\n",
              "      <td>-0.0079</td>\n",
              "      <td>0.0000</td>\n",
              "      <td>0.9397</td>\n",
              "      <td>0.0</td>\n",
              "    </tr>\n",
              "    <tr>\n",
              "      <th>2</th>\n",
              "      <td>0.8519</td>\n",
              "      <td>0.7529</td>\n",
              "      <td>0.0129</td>\n",
              "      <td>-0.0314</td>\n",
              "      <td>-0.0314</td>\n",
              "      <td>-0.0314</td>\n",
              "      <td>-0.0314</td>\n",
              "      <td>0.0000</td>\n",
              "      <td>0.9477</td>\n",
              "      <td>0.0</td>\n",
              "    </tr>\n",
              "    <tr>\n",
              "      <th>3</th>\n",
              "      <td>0.8519</td>\n",
              "      <td>0.7373</td>\n",
              "      <td>-0.0028</td>\n",
              "      <td>-0.0480</td>\n",
              "      <td>0.5966</td>\n",
              "      <td>-0.0178</td>\n",
              "      <td>0.0002</td>\n",
              "      <td>-0.0007</td>\n",
              "      <td>0.9397</td>\n",
              "      <td>0.0</td>\n",
              "    </tr>\n",
              "    <tr>\n",
              "      <th>4</th>\n",
              "      <td>0.8519</td>\n",
              "      <td>0.7843</td>\n",
              "      <td>-0.0338</td>\n",
              "      <td>-0.0073</td>\n",
              "      <td>0.0113</td>\n",
              "      <td>0.0000</td>\n",
              "      <td>0.0000</td>\n",
              "      <td>-0.0079</td>\n",
              "      <td>0.9661</td>\n",
              "      <td>0.0</td>\n",
              "    </tr>\n",
              "  </tbody>\n",
              "</table>\n",
              "</div>\n",
              "    <div class=\"colab-df-buttons\">\n",
              "\n",
              "  <div class=\"colab-df-container\">\n",
              "    <button class=\"colab-df-convert\" onclick=\"convertToInteractive('df-c6056c41-d223-46d8-b087-fd1b7fabcc12')\"\n",
              "            title=\"Convert this dataframe to an interactive table.\"\n",
              "            style=\"display:none;\">\n",
              "\n",
              "  <svg xmlns=\"http://www.w3.org/2000/svg\" height=\"24px\" viewBox=\"0 -960 960 960\">\n",
              "    <path d=\"M120-120v-720h720v720H120Zm60-500h600v-160H180v160Zm220 220h160v-160H400v160Zm0 220h160v-160H400v160ZM180-400h160v-160H180v160Zm440 0h160v-160H620v160ZM180-180h160v-160H180v160Zm440 0h160v-160H620v160Z\"/>\n",
              "  </svg>\n",
              "    </button>\n",
              "\n",
              "  <style>\n",
              "    .colab-df-container {\n",
              "      display:flex;\n",
              "      gap: 12px;\n",
              "    }\n",
              "\n",
              "    .colab-df-convert {\n",
              "      background-color: #E8F0FE;\n",
              "      border: none;\n",
              "      border-radius: 50%;\n",
              "      cursor: pointer;\n",
              "      display: none;\n",
              "      fill: #1967D2;\n",
              "      height: 32px;\n",
              "      padding: 0 0 0 0;\n",
              "      width: 32px;\n",
              "    }\n",
              "\n",
              "    .colab-df-convert:hover {\n",
              "      background-color: #E2EBFA;\n",
              "      box-shadow: 0px 1px 2px rgba(60, 64, 67, 0.3), 0px 1px 3px 1px rgba(60, 64, 67, 0.15);\n",
              "      fill: #174EA6;\n",
              "    }\n",
              "\n",
              "    .colab-df-buttons div {\n",
              "      margin-bottom: 4px;\n",
              "    }\n",
              "\n",
              "    [theme=dark] .colab-df-convert {\n",
              "      background-color: #3B4455;\n",
              "      fill: #D2E3FC;\n",
              "    }\n",
              "\n",
              "    [theme=dark] .colab-df-convert:hover {\n",
              "      background-color: #434B5C;\n",
              "      box-shadow: 0px 1px 3px 1px rgba(0, 0, 0, 0.15);\n",
              "      filter: drop-shadow(0px 1px 2px rgba(0, 0, 0, 0.3));\n",
              "      fill: #FFFFFF;\n",
              "    }\n",
              "  </style>\n",
              "\n",
              "    <script>\n",
              "      const buttonEl =\n",
              "        document.querySelector('#df-c6056c41-d223-46d8-b087-fd1b7fabcc12 button.colab-df-convert');\n",
              "      buttonEl.style.display =\n",
              "        google.colab.kernel.accessAllowed ? 'block' : 'none';\n",
              "\n",
              "      async function convertToInteractive(key) {\n",
              "        const element = document.querySelector('#df-c6056c41-d223-46d8-b087-fd1b7fabcc12');\n",
              "        const dataTable =\n",
              "          await google.colab.kernel.invokeFunction('convertToInteractive',\n",
              "                                                    [key], {});\n",
              "        if (!dataTable) return;\n",
              "\n",
              "        const docLinkHtml = 'Like what you see? Visit the ' +\n",
              "          '<a target=\"_blank\" href=https://colab.research.google.com/notebooks/data_table.ipynb>data table notebook</a>'\n",
              "          + ' to learn more about interactive tables.';\n",
              "        element.innerHTML = '';\n",
              "        dataTable['output_type'] = 'display_data';\n",
              "        await google.colab.output.renderOutput(dataTable, element);\n",
              "        const docLink = document.createElement('div');\n",
              "        docLink.innerHTML = docLinkHtml;\n",
              "        element.appendChild(docLink);\n",
              "      }\n",
              "    </script>\n",
              "  </div>\n",
              "\n",
              "\n",
              "<div id=\"df-e60e9513-2301-45b1-8686-074c888ebd5c\">\n",
              "  <button class=\"colab-df-quickchart\" onclick=\"quickchart('df-e60e9513-2301-45b1-8686-074c888ebd5c')\"\n",
              "            title=\"Suggest charts\"\n",
              "            style=\"display:none;\">\n",
              "\n",
              "<svg xmlns=\"http://www.w3.org/2000/svg\" height=\"24px\"viewBox=\"0 0 24 24\"\n",
              "     width=\"24px\">\n",
              "    <g>\n",
              "        <path d=\"M19 3H5c-1.1 0-2 .9-2 2v14c0 1.1.9 2 2 2h14c1.1 0 2-.9 2-2V5c0-1.1-.9-2-2-2zM9 17H7v-7h2v7zm4 0h-2V7h2v10zm4 0h-2v-4h2v4z\"/>\n",
              "    </g>\n",
              "</svg>\n",
              "  </button>\n",
              "\n",
              "<style>\n",
              "  .colab-df-quickchart {\n",
              "      --bg-color: #E8F0FE;\n",
              "      --fill-color: #1967D2;\n",
              "      --hover-bg-color: #E2EBFA;\n",
              "      --hover-fill-color: #174EA6;\n",
              "      --disabled-fill-color: #AAA;\n",
              "      --disabled-bg-color: #DDD;\n",
              "  }\n",
              "\n",
              "  [theme=dark] .colab-df-quickchart {\n",
              "      --bg-color: #3B4455;\n",
              "      --fill-color: #D2E3FC;\n",
              "      --hover-bg-color: #434B5C;\n",
              "      --hover-fill-color: #FFFFFF;\n",
              "      --disabled-bg-color: #3B4455;\n",
              "      --disabled-fill-color: #666;\n",
              "  }\n",
              "\n",
              "  .colab-df-quickchart {\n",
              "    background-color: var(--bg-color);\n",
              "    border: none;\n",
              "    border-radius: 50%;\n",
              "    cursor: pointer;\n",
              "    display: none;\n",
              "    fill: var(--fill-color);\n",
              "    height: 32px;\n",
              "    padding: 0;\n",
              "    width: 32px;\n",
              "  }\n",
              "\n",
              "  .colab-df-quickchart:hover {\n",
              "    background-color: var(--hover-bg-color);\n",
              "    box-shadow: 0 1px 2px rgba(60, 64, 67, 0.3), 0 1px 3px 1px rgba(60, 64, 67, 0.15);\n",
              "    fill: var(--button-hover-fill-color);\n",
              "  }\n",
              "\n",
              "  .colab-df-quickchart-complete:disabled,\n",
              "  .colab-df-quickchart-complete:disabled:hover {\n",
              "    background-color: var(--disabled-bg-color);\n",
              "    fill: var(--disabled-fill-color);\n",
              "    box-shadow: none;\n",
              "  }\n",
              "\n",
              "  .colab-df-spinner {\n",
              "    border: 2px solid var(--fill-color);\n",
              "    border-color: transparent;\n",
              "    border-bottom-color: var(--fill-color);\n",
              "    animation:\n",
              "      spin 1s steps(1) infinite;\n",
              "  }\n",
              "\n",
              "  @keyframes spin {\n",
              "    0% {\n",
              "      border-color: transparent;\n",
              "      border-bottom-color: var(--fill-color);\n",
              "      border-left-color: var(--fill-color);\n",
              "    }\n",
              "    20% {\n",
              "      border-color: transparent;\n",
              "      border-left-color: var(--fill-color);\n",
              "      border-top-color: var(--fill-color);\n",
              "    }\n",
              "    30% {\n",
              "      border-color: transparent;\n",
              "      border-left-color: var(--fill-color);\n",
              "      border-top-color: var(--fill-color);\n",
              "      border-right-color: var(--fill-color);\n",
              "    }\n",
              "    40% {\n",
              "      border-color: transparent;\n",
              "      border-right-color: var(--fill-color);\n",
              "      border-top-color: var(--fill-color);\n",
              "    }\n",
              "    60% {\n",
              "      border-color: transparent;\n",
              "      border-right-color: var(--fill-color);\n",
              "    }\n",
              "    80% {\n",
              "      border-color: transparent;\n",
              "      border-right-color: var(--fill-color);\n",
              "      border-bottom-color: var(--fill-color);\n",
              "    }\n",
              "    90% {\n",
              "      border-color: transparent;\n",
              "      border-bottom-color: var(--fill-color);\n",
              "    }\n",
              "  }\n",
              "</style>\n",
              "\n",
              "  <script>\n",
              "    async function quickchart(key) {\n",
              "      const quickchartButtonEl =\n",
              "        document.querySelector('#' + key + ' button');\n",
              "      quickchartButtonEl.disabled = true;  // To prevent multiple clicks.\n",
              "      quickchartButtonEl.classList.add('colab-df-spinner');\n",
              "      try {\n",
              "        const charts = await google.colab.kernel.invokeFunction(\n",
              "            'suggestCharts', [key], {});\n",
              "      } catch (error) {\n",
              "        console.error('Error during call to suggestCharts:', error);\n",
              "      }\n",
              "      quickchartButtonEl.classList.remove('colab-df-spinner');\n",
              "      quickchartButtonEl.classList.add('colab-df-quickchart-complete');\n",
              "    }\n",
              "    (() => {\n",
              "      let quickchartButtonEl =\n",
              "        document.querySelector('#df-e60e9513-2301-45b1-8686-074c888ebd5c button');\n",
              "      quickchartButtonEl.style.display =\n",
              "        google.colab.kernel.accessAllowed ? 'block' : 'none';\n",
              "    })();\n",
              "  </script>\n",
              "</div>\n",
              "    </div>\n",
              "  </div>\n"
            ],
            "application/vnd.google.colaboratory.intrinsic+json": {
              "type": "dataframe",
              "variable_name": "X",
              "summary": "{\n  \"name\": \"X\",\n  \"rows\": 217,\n  \"fields\": [\n    {\n      \"column\": \"AngleServo\",\n      \"properties\": {\n        \"dtype\": \"number\",\n        \"std\": 0.07849196526467606,\n        \"min\": 0.7407,\n        \"max\": 1.0,\n        \"num_unique_values\": 15,\n        \"samples\": [\n          0.9074,\n          0.9444,\n          0.8519\n        ],\n        \"semantic_type\": \"\",\n        \"description\": \"\"\n      }\n    },\n    {\n      \"column\": \"V\",\n      \"properties\": {\n        \"dtype\": \"number\",\n        \"std\": 0.0697721333227743,\n        \"min\": 0.702,\n        \"max\": 0.9706,\n        \"num_unique_values\": 96,\n        \"samples\": [\n          0.8333,\n          0.8118,\n          0.9157\n        ],\n        \"semantic_type\": \"\",\n        \"description\": \"\"\n      }\n    },\n    {\n      \"column\": \"ax\",\n      \"properties\": {\n        \"dtype\": \"number\",\n        \"std\": 0.14787017606513508,\n        \"min\": -0.8672,\n        \"max\": 0.9137,\n        \"num_unique_values\": 193,\n        \"samples\": [\n          0.069,\n          -0.1719,\n          0.0485\n        ],\n        \"semantic_type\": \"\",\n        \"description\": \"\"\n      }\n    },\n    {\n      \"column\": \"ay\",\n      \"properties\": {\n        \"dtype\": \"number\",\n        \"std\": 0.13900989941277547,\n        \"min\": -0.6015,\n        \"max\": 0.9062,\n        \"num_unique_values\": 197,\n        \"samples\": [\n          -0.0159,\n          -0.015,\n          -0.0157\n        ],\n        \"semantic_type\": \"\",\n        \"description\": \"\"\n      }\n    },\n    {\n      \"column\": \"az\",\n      \"properties\": {\n        \"dtype\": \"number\",\n        \"std\": 0.2681445384930278,\n        \"min\": -0.9453,\n        \"max\": 1.0,\n        \"num_unique_values\": 180,\n        \"samples\": [\n          0.5597,\n          0.5605,\n          0.6755\n        ],\n        \"semantic_type\": \"\",\n        \"description\": \"\"\n      }\n    },\n    {\n      \"column\": \"gx\",\n      \"properties\": {\n        \"dtype\": \"number\",\n        \"std\": 0.049269883178897377,\n        \"min\": -0.0668,\n        \"max\": 0.5085,\n        \"num_unique_values\": 68,\n        \"samples\": [\n          -0.0139,\n          0.0002,\n          0.0\n        ],\n        \"semantic_type\": \"\",\n        \"description\": \"\"\n      }\n    },\n    {\n      \"column\": \"gy\",\n      \"properties\": {\n        \"dtype\": \"number\",\n        \"std\": 0.01988672115225142,\n        \"min\": -0.139,\n        \"max\": 0.0551,\n        \"num_unique_values\": 47,\n        \"samples\": [\n          -0.0241,\n          0.0094,\n          0.0009\n        ],\n        \"semantic_type\": \"\",\n        \"description\": \"\"\n      }\n    },\n    {\n      \"column\": \"gz\",\n      \"properties\": {\n        \"dtype\": \"number\",\n        \"std\": 0.02664548144009152,\n        \"min\": -0.251,\n        \"max\": 0.063,\n        \"num_unique_values\": 50,\n        \"samples\": [\n          0.0294,\n          -0.0526,\n          -0.0269\n        ],\n        \"semantic_type\": \"\",\n        \"description\": \"\"\n      }\n    },\n    {\n      \"column\": \"temp\",\n      \"properties\": {\n        \"dtype\": \"number\",\n        \"std\": 0.1357474916150376,\n        \"min\": -0.8276,\n        \"max\": 1.0,\n        \"num_unique_values\": 115,\n        \"samples\": [\n          0.792,\n          0.9483,\n          0.9472\n        ],\n        \"semantic_type\": \"\",\n        \"description\": \"\"\n      }\n    },\n    {\n      \"column\": \"Deviation\",\n      \"properties\": {\n        \"dtype\": \"number\",\n        \"std\": 0.23421831182166905,\n        \"min\": -1.0,\n        \"max\": 0.6875,\n        \"num_unique_values\": 44,\n        \"samples\": [\n          0.075,\n          -0.8,\n          0.25\n        ],\n        \"semantic_type\": \"\",\n        \"description\": \"\"\n      }\n    }\n  ]\n}"
            }
          },
          "metadata": {},
          "execution_count": 16
        }
      ]
    },
    {
      "cell_type": "markdown",
      "source": [
        "Проверим размерности"
      ],
      "metadata": {
        "id": "2FIZ6ceKfvDR"
      }
    },
    {
      "cell_type": "code",
      "source": [
        "print(f\"Рамерность Х, строки(общее количество значений), колонны (количество независимых переменных) = {X.shape}\")\n",
        "print(f\"Рамерность Y, строки(общее количество значений), колонны (количество зависимых переменных) = {y.shape} \")"
      ],
      "metadata": {
        "colab": {
          "base_uri": "https://localhost:8080/"
        },
        "id": "VbyAvkqeeojl",
        "outputId": "235cc82a-d178-4370-c35f-00576d8a9dfd"
      },
      "execution_count": null,
      "outputs": [
        {
          "output_type": "stream",
          "name": "stdout",
          "text": [
            "Рамерность Х, строки(общее количество значений), колонны (количество независимых переменных) = (217, 10)\n",
            "Рамерность Y, строки(общее количество значений), колонны (количество зависимых переменных) = (217, 2) \n"
          ]
        }
      ]
    },
    {
      "cell_type": "code",
      "source": [
        "print(\"Значения Х \")\n",
        "print(X)"
      ],
      "metadata": {
        "colab": {
          "base_uri": "https://localhost:8080/"
        },
        "id": "XJoX7Z38e4wL",
        "outputId": "e25a1aa9-1bbd-4821-89c6-7a10314b5be9"
      },
      "execution_count": null,
      "outputs": [
        {
          "output_type": "stream",
          "name": "stdout",
          "text": [
            "Значения Х \n",
            "     AngleServo       V      ax      ay      az      gx      gy      gz  \\\n",
            "0        0.8519  0.7725  0.1240 -0.0515  0.4374 -0.0157 -0.0157 -0.0157   \n",
            "1        0.8519  0.7647  0.0398 -0.0079 -0.0079 -0.0079 -0.0079  0.0000   \n",
            "2        0.8519  0.7529  0.0129 -0.0314 -0.0314 -0.0314 -0.0314  0.0000   \n",
            "3        0.8519  0.7373 -0.0028 -0.0480  0.5966 -0.0178  0.0002 -0.0007   \n",
            "4        0.8519  0.7843 -0.0338 -0.0073  0.0113  0.0000  0.0000 -0.0079   \n",
            "..          ...     ...     ...     ...     ...     ...     ...     ...   \n",
            "212      1.0000  0.9529 -0.0297 -0.0028  0.6945  0.0000  0.0000  0.0000   \n",
            "213      1.0000  0.7902 -0.0087 -0.0021  0.5551  0.0000  0.0000  0.0000   \n",
            "214      1.0000  0.7686  0.9137  0.5000  0.0000  0.0078  0.0000  0.0000   \n",
            "215      1.0000  0.8020 -0.0275  0.5508 -0.0806  0.0019  0.0000  0.0000   \n",
            "216      1.0000  0.8804 -0.0288 -0.0305  0.5544 -0.0157 -0.0157 -0.0157   \n",
            "\n",
            "       temp  Deviation  \n",
            "0    0.9407      0.000  \n",
            "1    0.9397      0.000  \n",
            "2    0.9477      0.000  \n",
            "3    0.9397      0.000  \n",
            "4    0.9661      0.000  \n",
            "..      ...        ...  \n",
            "212  0.8227      0.000  \n",
            "213  0.8238      0.250  \n",
            "214  0.8249      0.025  \n",
            "215  0.8238     -0.075  \n",
            "216  0.8227     -0.100  \n",
            "\n",
            "[217 rows x 10 columns]\n"
          ]
        }
      ]
    },
    {
      "cell_type": "code",
      "source": [
        "print(\"Значения Y\")\n",
        "print(y)"
      ],
      "metadata": {
        "colab": {
          "base_uri": "https://localhost:8080/"
        },
        "id": "irTeuQ8Pe61a",
        "outputId": "5e9f045d-02c1-4802-afd3-10be8b0c1c54"
      },
      "execution_count": null,
      "outputs": [
        {
          "output_type": "stream",
          "name": "stdout",
          "text": [
            "Значения Y\n",
            "        V1     V2\n",
            "0    0.788  0.788\n",
            "1    0.780  0.780\n",
            "2    0.768  0.768\n",
            "3    0.752  0.752\n",
            "4    0.800  0.800\n",
            "..     ...    ...\n",
            "212  1.000  0.944\n",
            "213  0.752  0.860\n",
            "214  0.748  0.820\n",
            "215  0.836  0.800\n",
            "216  0.920  0.876\n",
            "\n",
            "[217 rows x 2 columns]\n"
          ]
        }
      ]
    },
    {
      "cell_type": "markdown",
      "source": [
        "Далее данные следует нормализовать, но т.к. это было сделано ранее, то этот этап можно пропустить и приступить к разделению данных на тренировочную и тестовые выборки"
      ],
      "metadata": {
        "id": "zXNqgOlNfHoY"
      }
    },
    {
      "cell_type": "code",
      "source": [
        "X_train, X_valid, y_train, y_valid = train_test_split(X, y, test_size = 1 - split_percent)"
      ],
      "metadata": {
        "id": "r1PWetRIfSUW"
      },
      "execution_count": null,
      "outputs": []
    },
    {
      "cell_type": "code",
      "source": [
        "print(\"Тренировочные данные\")\n",
        "print(X_train)"
      ],
      "metadata": {
        "colab": {
          "base_uri": "https://localhost:8080/"
        },
        "id": "aDXgYC8GuH7r",
        "outputId": "b69defd7-1bd9-4513-ba73-421e7e649b90"
      },
      "execution_count": null,
      "outputs": [
        {
          "output_type": "stream",
          "name": "stdout",
          "text": [
            "Тренировочные данные\n",
            "     AngleServo       V      ax      ay      az      gx      gy      gz  \\\n",
            "129      0.9074  0.8667  0.0669 -0.0541  0.4794 -0.0079 -0.0079 -0.0079   \n",
            "215      1.0000  0.8020 -0.0275  0.5508 -0.0806  0.0019  0.0000  0.0000   \n",
            "72       0.7593  0.7216  0.0507 -0.0573  0.5937  0.0000  0.0000  0.0000   \n",
            "77       0.7593  0.7510  0.0485  0.9062 -0.0157 -0.0157 -0.0157 -0.0157   \n",
            "47       0.7963  0.7255  0.0352  0.0266  0.5605 -0.0270 -0.0048  0.0275   \n",
            "..          ...     ...     ...     ...     ...     ...     ...     ...   \n",
            "97       0.8704  0.7255  0.0299 -0.0149  0.5802  0.0000  0.0000  0.0000   \n",
            "134      0.9074  0.8235  0.0236 -0.0099  0.5313  0.0000  0.0000  0.0000   \n",
            "107      0.8889  0.7059  0.0497 -0.0288  0.5820 -0.0059  0.0009 -0.0138   \n",
            "175      0.9630  0.7922  0.0986 -0.1650  0.5390  0.0000  0.0000  0.0000   \n",
            "35       0.8148  0.7255 -0.0272 -0.0236  0.5610 -0.0233 -0.0097  0.0061   \n",
            "\n",
            "       temp  Deviation  \n",
            "129  0.8427      0.000  \n",
            "215  0.8238     -0.075  \n",
            "72   0.9644     -0.050  \n",
            "77   0.9138      0.000  \n",
            "47   0.9176     -0.025  \n",
            "..      ...        ...  \n",
            "97   0.8966     -0.500  \n",
            "134  0.7931     -0.425  \n",
            "107  0.7069     -0.050  \n",
            "175  0.8621      0.275  \n",
            "35   0.8217      0.000  \n",
            "\n",
            "[195 rows x 10 columns]\n"
          ]
        }
      ]
    },
    {
      "cell_type": "code",
      "source": [
        "print(\"Выходные данные для тренировочных\")\n",
        "print(y_train)"
      ],
      "metadata": {
        "colab": {
          "base_uri": "https://localhost:8080/"
        },
        "id": "Y6vE1hjduKsi",
        "outputId": "453c9f5e-6958-4064-a0b9-25d4dcf28c4b"
      },
      "execution_count": null,
      "outputs": [
        {
          "output_type": "stream",
          "name": "stdout",
          "text": [
            "Выходные данные для тренировочных\n",
            "        V1     V2\n",
            "129  0.880  0.888\n",
            "215  0.836  0.800\n",
            "72   0.752  0.720\n",
            "77   0.780  0.752\n",
            "47   0.760  0.720\n",
            "..     ...    ...\n",
            "97   0.720  0.760\n",
            "134  0.880  0.800\n",
            "107  0.720  0.720\n",
            "175  0.780  0.836\n",
            "35   0.760  0.720\n",
            "\n",
            "[195 rows x 2 columns]\n"
          ]
        }
      ]
    },
    {
      "cell_type": "code",
      "source": [
        "print(\"Данные для валидации (проверки)\")\n",
        "print(X_valid)"
      ],
      "metadata": {
        "colab": {
          "base_uri": "https://localhost:8080/"
        },
        "id": "uxUPQxKvuUjz",
        "outputId": "70e464f4-0e7a-4557-e66a-75546e40bc22"
      },
      "execution_count": null,
      "outputs": [
        {
          "output_type": "stream",
          "name": "stdout",
          "text": [
            "Данные для валидации (проверки)\n",
            "     AngleServo       V      ax      ay      az      gx      gy      gz  \\\n",
            "212      1.0000  0.9529 -0.0297 -0.0028  0.6945  0.0000  0.0000  0.0000   \n",
            "161      0.9444  0.7961  0.0378 -0.0400  0.6608 -0.0152  0.0148 -0.0260   \n",
            "36       0.8148  0.7333  0.0426 -0.0537  0.5074 -0.0079 -0.0079 -0.0079   \n",
            "28       0.8333  0.8922  0.0776 -0.0009  0.6614 -0.0260  0.0000  0.0000   \n",
            "99       0.8704  0.7647  0.0311 -0.0555  0.5781  0.0000  0.0000  0.0000   \n",
            "186      0.9630  0.8294 -0.0364 -0.0070  0.3818  0.0000  0.0000  0.0000   \n",
            "86       0.7407  0.7353  0.1034 -0.0336  0.4639  0.0000  0.0000  0.0000   \n",
            "51       0.7963  0.7549  0.5416 -0.0557 -0.0070  0.0229  0.0000  0.0000   \n",
            "193      0.9815  0.7549  0.0533 -0.0304  0.3071  0.0000  0.0000  0.0000   \n",
            "138      0.9259  0.7059  0.0427 -0.0249  0.5414  0.0000  0.0000  0.0000   \n",
            "54       0.7963  0.7569  0.0067 -0.0350  0.5577 -0.0060  0.0052  0.0128   \n",
            "152      0.9259  0.9157 -0.0334  0.1417  0.7096 -0.0293 -0.0820  0.0069   \n",
            "44       0.8148  0.8098 -0.5313 -0.5703  0.8594  0.0000  0.0000  0.0000   \n",
            "143      0.9259  0.7549  0.0609 -0.0205  0.5390  0.0000  0.0000  0.0000   \n",
            "41       0.8148  0.8431 -0.0359  0.0499  0.5114 -0.0342  0.0040  0.0234   \n",
            "145      0.9259  0.7353  0.1244 -0.0400  0.4651 -0.0628 -0.0628 -0.0628   \n",
            "123      0.9074  0.7118  0.0416 -0.0192  0.5366 -0.0145  0.0005 -0.0018   \n",
            "31       0.8333  0.7549  0.0627 -0.0054  0.4688  0.0000  0.0000  0.0000   \n",
            "162      0.9444  0.8196  0.0000 -0.0287  0.5385 -0.0157 -0.0157 -0.0157   \n",
            "110      0.8889  0.7294  0.0758  0.0425  0.5000  0.0000  0.0000  0.0000   \n",
            "30       0.8333  0.7255  0.8827 -0.3984 -0.9453  0.0000  0.0000  0.0000   \n",
            "116      0.8889  0.7412  0.0597 -0.0164  0.5000  0.0000  0.0000  0.0000   \n",
            "\n",
            "       temp  Deviation  \n",
            "212  0.8227     0.0000  \n",
            "161  0.8109     0.0000  \n",
            "36   0.8136     0.0000  \n",
            "28   0.8077     0.0000  \n",
            "99   0.8534     0.0000  \n",
            "186  0.8109     0.0250  \n",
            "86   0.8459     0.0000  \n",
            "51   0.9397    -0.2750  \n",
            "193  0.8297     0.0000  \n",
            "138  0.7920     0.4500  \n",
            "54   0.9445     0.0000  \n",
            "152  0.9596     0.0000  \n",
            "44   0.9186     0.1250  \n",
            "143  0.7947     0.3000  \n",
            "41   0.9661     0.0000  \n",
            "145  0.9440     0.0750  \n",
            "123  0.9569     0.0500  \n",
            "31   0.7500     0.2750  \n",
            "162  0.7241     0.0000  \n",
            "110  0.7328     0.0000  \n",
            "30   0.8362     0.1875  \n",
            "116  0.9483     0.1250  \n"
          ]
        }
      ]
    },
    {
      "cell_type": "code",
      "source": [
        "print(\"Выходные данные для валидации (проверки)\")\n",
        "print(y_valid)"
      ],
      "metadata": {
        "colab": {
          "base_uri": "https://localhost:8080/"
        },
        "id": "hSWnIk5MuWWo",
        "outputId": "c986bd90-0e61-477c-ea19-0c1aa567ae4d"
      },
      "execution_count": null,
      "outputs": [
        {
          "output_type": "stream",
          "name": "stdout",
          "text": [
            "Выходные данные для валидации (проверки)\n",
            "        V1     V2\n",
            "212  1.000  0.944\n",
            "161  0.844  0.780\n",
            "36   0.768  0.728\n",
            "28   0.940  0.880\n",
            "99   0.740  0.820\n",
            "186  0.888  0.804\n",
            "86   0.780  0.720\n",
            "51   0.800  0.740\n",
            "193  0.820  0.720\n",
            "138  0.720  0.720\n",
            "54   0.792  0.752\n",
            "152  0.980  0.888\n",
            "44   0.792  0.860\n",
            "143  0.760  0.780\n",
            "41   0.880  0.840\n",
            "145  0.780  0.720\n",
            "123  0.720  0.732\n",
            "31   0.740  0.800\n",
            "162  0.868  0.804\n",
            "110  0.736  0.752\n",
            "30   0.720  0.760\n",
            "116  0.740  0.772\n"
          ]
        }
      ]
    },
    {
      "cell_type": "markdown",
      "source": [
        "# Модель нейросети"
      ],
      "metadata": {
        "id": "En9Kxf4wusOr"
      }
    },
    {
      "cell_type": "markdown",
      "source": [
        "Параметр input_shape = (10,) задает количество входных независимых переменных"
      ],
      "metadata": {
        "id": "Vz7Id286vtPW"
      }
    },
    {
      "cell_type": "code",
      "source": [
        "def get_basic_model():\n",
        "  model = tf.keras.models.Sequential([\n",
        "  tf.keras.layers.Flatten(),\n",
        "  tf.keras.layers.Dense(32, activation='relu', input_shape = (10,)),\n",
        "  tf.keras.layers.Dense(128, activation='relu'),\n",
        "  tf.keras.layers.Dense(512, activation='relu'),\n",
        "  tf.keras.layers.Dense(512, activation='relu'),\n",
        "  tf.keras.layers.Dropout(0.35),\n",
        "  tf.keras.layers.Dense(2)])\n",
        "\n",
        "  model.compile(metrics = ['accuracy'], optimizer = NN_optimizer,loss = NN_loss)\n",
        "  return model"
      ],
      "metadata": {
        "id": "MjTjX261urrM"
      },
      "execution_count": null,
      "outputs": []
    },
    {
      "cell_type": "markdown",
      "source": [
        "# Обучение нейросети и её сохранение"
      ],
      "metadata": {
        "id": "b1N6T6m5u7UI"
      }
    },
    {
      "cell_type": "code",
      "source": [
        "model = get_basic_model() #Получаем модель и компилируем её\n",
        "\n",
        "#Обучаем\n",
        "history = model.fit(X_train, y_train,\n",
        "          batch_size = BATCH_SIZE,\n",
        "          epochs = EPOCHS,\n",
        "          verbose = 1,\n",
        "          validation_data = (X_valid, y_valid))\n",
        "\n",
        "model.summary() #Выводим резюме\n",
        "model.save(save_path) #Сохраняем"
      ],
      "metadata": {
        "colab": {
          "base_uri": "https://localhost:8080/"
        },
        "id": "DNhvFISiu60o",
        "outputId": "dd38267d-6761-4010-d86a-3b133478b598"
      },
      "execution_count": null,
      "outputs": [
        {
          "output_type": "stream",
          "name": "stdout",
          "text": [
            "Epoch 1/65\n",
            "20/20 [==============================] - 1s 19ms/step - loss: 0.0940 - accuracy: 0.5077 - val_loss: 0.0154 - val_accuracy: 0.4545\n",
            "Epoch 2/65\n",
            "20/20 [==============================] - 0s 8ms/step - loss: 0.0154 - accuracy: 0.4462 - val_loss: 0.0035 - val_accuracy: 0.6364\n",
            "Epoch 3/65\n",
            "20/20 [==============================] - 0s 8ms/step - loss: 0.0086 - accuracy: 0.6103 - val_loss: 0.0046 - val_accuracy: 0.5909\n",
            "Epoch 4/65\n",
            "20/20 [==============================] - 0s 9ms/step - loss: 0.0081 - accuracy: 0.5128 - val_loss: 0.0043 - val_accuracy: 0.5909\n",
            "Epoch 5/65\n",
            "20/20 [==============================] - 0s 8ms/step - loss: 0.0084 - accuracy: 0.5641 - val_loss: 0.0041 - val_accuracy: 0.5909\n",
            "Epoch 6/65\n",
            "20/20 [==============================] - 0s 9ms/step - loss: 0.0079 - accuracy: 0.5179 - val_loss: 0.0039 - val_accuracy: 0.5455\n",
            "Epoch 7/65\n",
            "20/20 [==============================] - 0s 9ms/step - loss: 0.0074 - accuracy: 0.5282 - val_loss: 0.0034 - val_accuracy: 0.6818\n",
            "Epoch 8/65\n",
            "20/20 [==============================] - 0s 8ms/step - loss: 0.0076 - accuracy: 0.5846 - val_loss: 0.0035 - val_accuracy: 0.5455\n",
            "Epoch 9/65\n",
            "20/20 [==============================] - 0s 9ms/step - loss: 0.0070 - accuracy: 0.5333 - val_loss: 0.0036 - val_accuracy: 0.3636\n",
            "Epoch 10/65\n",
            "20/20 [==============================] - 0s 8ms/step - loss: 0.0068 - accuracy: 0.5282 - val_loss: 0.0027 - val_accuracy: 0.6818\n",
            "Epoch 11/65\n",
            "20/20 [==============================] - 0s 9ms/step - loss: 0.0065 - accuracy: 0.5590 - val_loss: 0.0033 - val_accuracy: 0.7273\n",
            "Epoch 12/65\n",
            "20/20 [==============================] - 0s 9ms/step - loss: 0.0065 - accuracy: 0.5846 - val_loss: 0.0025 - val_accuracy: 0.6818\n",
            "Epoch 13/65\n",
            "20/20 [==============================] - 0s 8ms/step - loss: 0.0069 - accuracy: 0.5795 - val_loss: 0.0030 - val_accuracy: 0.6818\n",
            "Epoch 14/65\n",
            "20/20 [==============================] - 0s 9ms/step - loss: 0.0064 - accuracy: 0.5436 - val_loss: 0.0024 - val_accuracy: 0.6818\n",
            "Epoch 15/65\n",
            "20/20 [==============================] - 0s 8ms/step - loss: 0.0055 - accuracy: 0.5333 - val_loss: 0.0023 - val_accuracy: 0.7273\n",
            "Epoch 16/65\n",
            "20/20 [==============================] - 0s 8ms/step - loss: 0.0058 - accuracy: 0.5744 - val_loss: 0.0020 - val_accuracy: 0.7273\n",
            "Epoch 17/65\n",
            "20/20 [==============================] - 0s 8ms/step - loss: 0.0055 - accuracy: 0.6000 - val_loss: 0.0019 - val_accuracy: 0.7273\n",
            "Epoch 18/65\n",
            "20/20 [==============================] - 0s 8ms/step - loss: 0.0055 - accuracy: 0.5744 - val_loss: 0.0022 - val_accuracy: 0.6364\n",
            "Epoch 19/65\n",
            "20/20 [==============================] - 0s 9ms/step - loss: 0.0059 - accuracy: 0.5538 - val_loss: 0.0023 - val_accuracy: 0.7273\n",
            "Epoch 20/65\n",
            "20/20 [==============================] - 0s 8ms/step - loss: 0.0051 - accuracy: 0.5949 - val_loss: 0.0023 - val_accuracy: 0.6818\n",
            "Epoch 21/65\n",
            "20/20 [==============================] - 0s 8ms/step - loss: 0.0058 - accuracy: 0.5436 - val_loss: 0.0014 - val_accuracy: 0.7273\n",
            "Epoch 22/65\n",
            "20/20 [==============================] - 0s 8ms/step - loss: 0.0053 - accuracy: 0.5641 - val_loss: 0.0018 - val_accuracy: 0.7273\n",
            "Epoch 23/65\n",
            "20/20 [==============================] - 0s 7ms/step - loss: 0.0048 - accuracy: 0.6103 - val_loss: 0.0018 - val_accuracy: 0.7273\n",
            "Epoch 24/65\n",
            "20/20 [==============================] - 0s 9ms/step - loss: 0.0041 - accuracy: 0.5897 - val_loss: 0.0017 - val_accuracy: 0.7273\n",
            "Epoch 25/65\n",
            "20/20 [==============================] - 0s 8ms/step - loss: 0.0042 - accuracy: 0.6256 - val_loss: 0.0014 - val_accuracy: 0.7273\n",
            "Epoch 26/65\n",
            "20/20 [==============================] - 0s 7ms/step - loss: 0.0046 - accuracy: 0.5590 - val_loss: 0.0016 - val_accuracy: 0.7273\n",
            "Epoch 27/65\n",
            "20/20 [==============================] - 0s 8ms/step - loss: 0.0052 - accuracy: 0.5333 - val_loss: 0.0018 - val_accuracy: 0.7273\n",
            "Epoch 28/65\n",
            "20/20 [==============================] - 0s 8ms/step - loss: 0.0047 - accuracy: 0.5846 - val_loss: 0.0013 - val_accuracy: 0.7273\n",
            "Epoch 29/65\n",
            "20/20 [==============================] - 0s 8ms/step - loss: 0.0043 - accuracy: 0.5897 - val_loss: 0.0017 - val_accuracy: 0.6818\n",
            "Epoch 30/65\n",
            "20/20 [==============================] - 0s 8ms/step - loss: 0.0051 - accuracy: 0.5282 - val_loss: 0.0019 - val_accuracy: 0.7727\n",
            "Epoch 31/65\n",
            "20/20 [==============================] - 0s 9ms/step - loss: 0.0039 - accuracy: 0.5795 - val_loss: 0.0018 - val_accuracy: 0.6818\n",
            "Epoch 32/65\n",
            "20/20 [==============================] - 0s 8ms/step - loss: 0.0042 - accuracy: 0.6462 - val_loss: 0.0025 - val_accuracy: 0.7273\n",
            "Epoch 33/65\n",
            "20/20 [==============================] - 0s 8ms/step - loss: 0.0049 - accuracy: 0.5744 - val_loss: 0.0024 - val_accuracy: 0.7273\n",
            "Epoch 34/65\n",
            "20/20 [==============================] - 0s 8ms/step - loss: 0.0047 - accuracy: 0.5436 - val_loss: 0.0022 - val_accuracy: 0.6818\n",
            "Epoch 35/65\n",
            "20/20 [==============================] - 0s 8ms/step - loss: 0.0046 - accuracy: 0.5641 - val_loss: 0.0017 - val_accuracy: 0.5909\n",
            "Epoch 36/65\n",
            "20/20 [==============================] - 0s 8ms/step - loss: 0.0047 - accuracy: 0.6256 - val_loss: 0.0015 - val_accuracy: 0.7273\n",
            "Epoch 37/65\n",
            "20/20 [==============================] - 0s 9ms/step - loss: 0.0037 - accuracy: 0.5795 - val_loss: 0.0022 - val_accuracy: 0.6818\n",
            "Epoch 38/65\n",
            "20/20 [==============================] - 0s 8ms/step - loss: 0.0046 - accuracy: 0.5744 - val_loss: 0.0015 - val_accuracy: 0.7273\n",
            "Epoch 39/65\n",
            "20/20 [==============================] - 0s 8ms/step - loss: 0.0038 - accuracy: 0.6513 - val_loss: 0.0013 - val_accuracy: 0.7273\n",
            "Epoch 40/65\n",
            "20/20 [==============================] - 0s 8ms/step - loss: 0.0043 - accuracy: 0.5949 - val_loss: 0.0017 - val_accuracy: 0.7273\n",
            "Epoch 41/65\n",
            "20/20 [==============================] - 0s 8ms/step - loss: 0.0046 - accuracy: 0.5487 - val_loss: 0.0013 - val_accuracy: 0.6818\n",
            "Epoch 42/65\n",
            "20/20 [==============================] - 0s 8ms/step - loss: 0.0048 - accuracy: 0.5897 - val_loss: 0.0016 - val_accuracy: 0.7273\n",
            "Epoch 43/65\n",
            "20/20 [==============================] - 0s 8ms/step - loss: 0.0041 - accuracy: 0.6103 - val_loss: 0.0016 - val_accuracy: 0.7273\n",
            "Epoch 44/65\n",
            "20/20 [==============================] - 0s 7ms/step - loss: 0.0044 - accuracy: 0.6103 - val_loss: 0.0015 - val_accuracy: 0.6818\n",
            "Epoch 45/65\n",
            "20/20 [==============================] - 0s 8ms/step - loss: 0.0042 - accuracy: 0.6103 - val_loss: 0.0017 - val_accuracy: 0.7273\n",
            "Epoch 46/65\n",
            "20/20 [==============================] - 0s 8ms/step - loss: 0.0047 - accuracy: 0.5949 - val_loss: 0.0030 - val_accuracy: 0.6818\n",
            "Epoch 47/65\n",
            "20/20 [==============================] - 0s 7ms/step - loss: 0.0044 - accuracy: 0.5436 - val_loss: 0.0020 - val_accuracy: 0.6818\n",
            "Epoch 48/65\n",
            "20/20 [==============================] - 0s 7ms/step - loss: 0.0035 - accuracy: 0.5897 - val_loss: 0.0016 - val_accuracy: 0.6818\n",
            "Epoch 49/65\n",
            "20/20 [==============================] - 0s 9ms/step - loss: 0.0039 - accuracy: 0.6564 - val_loss: 0.0027 - val_accuracy: 0.6818\n",
            "Epoch 50/65\n",
            "20/20 [==============================] - 0s 8ms/step - loss: 0.0042 - accuracy: 0.6513 - val_loss: 0.0015 - val_accuracy: 0.7273\n",
            "Epoch 51/65\n",
            "20/20 [==============================] - 0s 8ms/step - loss: 0.0039 - accuracy: 0.6462 - val_loss: 0.0012 - val_accuracy: 0.6818\n",
            "Epoch 52/65\n",
            "20/20 [==============================] - 0s 8ms/step - loss: 0.0039 - accuracy: 0.6667 - val_loss: 0.0017 - val_accuracy: 0.6818\n",
            "Epoch 53/65\n",
            "20/20 [==============================] - 0s 9ms/step - loss: 0.0044 - accuracy: 0.6564 - val_loss: 0.0019 - val_accuracy: 0.6818\n",
            "Epoch 54/65\n",
            "20/20 [==============================] - 0s 13ms/step - loss: 0.0033 - accuracy: 0.6103 - val_loss: 0.0012 - val_accuracy: 0.6818\n",
            "Epoch 55/65\n",
            "20/20 [==============================] - 0s 13ms/step - loss: 0.0033 - accuracy: 0.6564 - val_loss: 0.0011 - val_accuracy: 0.7273\n",
            "Epoch 56/65\n",
            "20/20 [==============================] - 0s 12ms/step - loss: 0.0039 - accuracy: 0.5897 - val_loss: 0.0012 - val_accuracy: 0.7273\n",
            "Epoch 57/65\n",
            "20/20 [==============================] - 0s 12ms/step - loss: 0.0049 - accuracy: 0.6205 - val_loss: 0.0012 - val_accuracy: 0.7727\n",
            "Epoch 58/65\n",
            "20/20 [==============================] - 0s 12ms/step - loss: 0.0043 - accuracy: 0.5692 - val_loss: 0.0012 - val_accuracy: 0.6818\n",
            "Epoch 59/65\n",
            "20/20 [==============================] - 0s 12ms/step - loss: 0.0038 - accuracy: 0.5538 - val_loss: 0.0011 - val_accuracy: 0.6818\n",
            "Epoch 60/65\n",
            "20/20 [==============================] - 0s 12ms/step - loss: 0.0043 - accuracy: 0.6103 - val_loss: 0.0015 - val_accuracy: 0.7273\n",
            "Epoch 61/65\n",
            "20/20 [==============================] - 0s 12ms/step - loss: 0.0037 - accuracy: 0.5846 - val_loss: 0.0011 - val_accuracy: 0.6818\n",
            "Epoch 62/65\n",
            "20/20 [==============================] - 0s 12ms/step - loss: 0.0045 - accuracy: 0.5436 - val_loss: 0.0047 - val_accuracy: 0.7273\n",
            "Epoch 63/65\n",
            "20/20 [==============================] - 0s 13ms/step - loss: 0.0038 - accuracy: 0.6103 - val_loss: 0.0011 - val_accuracy: 0.7273\n",
            "Epoch 64/65\n",
            "20/20 [==============================] - 0s 13ms/step - loss: 0.0036 - accuracy: 0.6308 - val_loss: 0.0013 - val_accuracy: 0.6818\n",
            "Epoch 65/65\n",
            "20/20 [==============================] - 0s 13ms/step - loss: 0.0032 - accuracy: 0.6667 - val_loss: 0.0019 - val_accuracy: 0.7273\n",
            "Model: \"sequential_4\"\n",
            "_________________________________________________________________\n",
            " Layer (type)                Output Shape              Param #   \n",
            "=================================================================\n",
            " flatten_4 (Flatten)         (None, 10)                0         \n",
            "                                                                 \n",
            " dense_20 (Dense)            (None, 32)                352       \n",
            "                                                                 \n",
            " dense_21 (Dense)            (None, 128)               4224      \n",
            "                                                                 \n",
            " dense_22 (Dense)            (None, 512)               66048     \n",
            "                                                                 \n",
            " dense_23 (Dense)            (None, 512)               262656    \n",
            "                                                                 \n",
            " dropout_4 (Dropout)         (None, 512)               0         \n",
            "                                                                 \n",
            " dense_24 (Dense)            (None, 2)                 1026      \n",
            "                                                                 \n",
            "=================================================================\n",
            "Total params: 334306 (1.28 MB)\n",
            "Trainable params: 334306 (1.28 MB)\n",
            "Non-trainable params: 0 (0.00 Byte)\n",
            "_________________________________________________________________\n"
          ]
        },
        {
          "output_type": "stream",
          "name": "stderr",
          "text": [
            "/usr/local/lib/python3.10/dist-packages/keras/src/engine/training.py:3103: UserWarning: You are saving your model as an HDF5 file via `model.save()`. This file format is considered legacy. We recommend using instead the native Keras format, e.g. `model.save('my_model.keras')`.\n",
            "  saving_api.save_model(\n"
          ]
        }
      ]
    },
    {
      "cell_type": "markdown",
      "source": [
        "### Графики процесса обучения"
      ],
      "metadata": {
        "id": "YS6TEmq3v8w9"
      }
    },
    {
      "cell_type": "markdown",
      "source": [
        "Точность прогнозирования модели"
      ],
      "metadata": {
        "id": "QgI3SMgfwJ5S"
      }
    },
    {
      "cell_type": "code",
      "source": [
        "plt.figure(figsize=(10, 5), dpi=90)\n",
        "plt.plot(history.history['accuracy'])\n",
        "plt.plot(history.history['val_accuracy'])\n",
        "plt.title('Точность прогнозирования модели')\n",
        "plt.ylabel('Точность')\n",
        "plt.xlabel('Эпоха')\n",
        "plt.grid()\n",
        "plt.legend(['train', 'test'], loc='upper left')"
      ],
      "metadata": {
        "colab": {
          "base_uri": "https://localhost:8080/",
          "height": 457
        },
        "id": "pkM57Iynv8Ot",
        "outputId": "13a8df27-7473-4452-bcae-53f1ff2ebb99"
      },
      "execution_count": null,
      "outputs": [
        {
          "output_type": "execute_result",
          "data": {
            "text/plain": [
              "<matplotlib.legend.Legend at 0x7e7f40213fd0>"
            ]
          },
          "metadata": {},
          "execution_count": 55
        },
        {
          "output_type": "display_data",
          "data": {
            "text/plain": [
              "<Figure size 900x450 with 1 Axes>"
            ],
            "image/png": "[encoded data removed]"
          },
          "metadata": {}
        }
      ]
    },
    {
      "cell_type": "markdown",
      "source": [
        "Потери модели"
      ],
      "metadata": {
        "id": "Qkt5lQfkwNC5"
      }
    },
    {
      "cell_type": "code",
      "source": [
        "plt.figure(figsize=(10, 5), dpi=90)\n",
        "plt.plot(history.history['loss'])\n",
        "plt.plot(history.history['val_loss'])\n",
        "plt.title('Потери модели')\n",
        "plt.ylabel('Потери')\n",
        "plt.grid()\n",
        "plt.xlabel('Эпоха')\n",
        "plt.legend(['train', 'test'], loc='upper right')\n",
        "plt.show()"
      ],
      "metadata": {
        "colab": {
          "base_uri": "https://localhost:8080/",
          "height": 440
        },
        "id": "RXhjThr3wRsI",
        "outputId": "dea460ed-b139-4c08-a1e2-50212e823117"
      },
      "execution_count": null,
      "outputs": [
        {
          "output_type": "display_data",
          "data": {
            "text/plain": [
              "<Figure size 900x450 with 1 Axes>"
            ],
            "image/png": "[encoded data removed]"
          },
          "metadata": {}
        }
      ]
    },
    {
      "cell_type": "markdown",
      "source": [
        "# Работа с загруженной моделью"
      ],
      "metadata": {
        "id": "HHn8gtZZxNcc"
      }
    },
    {
      "cell_type": "code",
      "source": [
        "Loading_model = tf.keras.models.load_model(save_path)\n",
        "Loading_model.summary()"
      ],
      "metadata": {
        "colab": {
          "base_uri": "https://localhost:8080/"
        },
        "id": "hOlaKS62xPDU",
        "outputId": "0a56f79f-1a58-41af-c668-01d55a71d29b"
      },
      "execution_count": null,
      "outputs": [
        {
          "output_type": "stream",
          "name": "stdout",
          "text": [
            "Model: \"sequential_4\"\n",
            "_________________________________________________________________\n",
            " Layer (type)                Output Shape              Param #   \n",
            "=================================================================\n",
            " flatten_4 (Flatten)         (None, 10)                0         \n",
            "                                                                 \n",
            " dense_20 (Dense)            (None, 32)                352       \n",
            "                                                                 \n",
            " dense_21 (Dense)            (None, 128)               4224      \n",
            "                                                                 \n",
            " dense_22 (Dense)            (None, 512)               66048     \n",
            "                                                                 \n",
            " dense_23 (Dense)            (None, 512)               262656    \n",
            "                                                                 \n",
            " dropout_4 (Dropout)         (None, 512)               0         \n",
            "                                                                 \n",
            " dense_24 (Dense)            (None, 2)                 1026      \n",
            "                                                                 \n",
            "=================================================================\n",
            "Total params: 334306 (1.28 MB)\n",
            "Trainable params: 334306 (1.28 MB)\n",
            "Non-trainable params: 0 (0.00 Byte)\n",
            "_________________________________________________________________\n"
          ]
        }
      ]
    },
    {
      "cell_type": "markdown",
      "source": [
        "## Визуализация архитектуры модели"
      ],
      "metadata": {
        "id": "8eZSvaK8xY2j"
      }
    },
    {
      "cell_type": "code",
      "source": [
        "keras.utils.plot_model(Loading_model, 'Model.png')"
      ],
      "metadata": {
        "colab": {
          "base_uri": "https://localhost:8080/",
          "height": 758
        },
        "id": "W_M_3ps6xXPj",
        "outputId": "d2190fdc-ea4f-4d9f-b0ce-4d30626d6086"
      },
      "execution_count": null,
      "outputs": [
        {
          "output_type": "execute_result",
          "data": {
            "image/png": "[encoded data removed]",
            "text/plain": [
              "<IPython.core.display.Image object>"
            ]
          },
          "metadata": {},
          "execution_count": 65
        }
      ]
    },
    {
      "cell_type": "code",
      "source": [
        "keras.utils.plot_model(Loading_model, 'model_with_shape_info.png', show_shapes=True)"
      ],
      "metadata": {
        "colab": {
          "base_uri": "https://localhost:8080/",
          "height": 865
        },
        "id": "PfKiucMVxa7a",
        "outputId": "56d3ad10-308b-4c2a-9d84-7fa71f2002c3"
      },
      "execution_count": null,
      "outputs": [
        {
          "output_type": "execute_result",
          "data": {
            "image/png": "[encoded data removed]",
            "text/plain": [
              "<IPython.core.display.Image object>"
            ]
          },
          "metadata": {},
          "execution_count": 66
        }
      ]
    },
    {
      "cell_type": "markdown",
      "source": [
        "## Проверка точности предсказания"
      ],
      "metadata": {
        "id": "GZZ75NK5xgwZ"
      }
    },
    {
      "cell_type": "markdown",
      "source": [
        "Пробное предсказание"
      ],
      "metadata": {
        "id": "bM9wDQMOxpjn"
      }
    },
    {
      "cell_type": "code",
      "source": [
        "data = [[ 1.0000, 0.9529, -0.0297, -0.0028, 0.6945, 0.0000, 0.0000,  0.0000, 0.8227, 0.0000]] # X_valid[0]\n",
        "print(f\"Предсказание = {Loading_model.predict(data)}\")\n",
        "print(f\"Реальное значение = 1.000  0.944]\")"
      ],
      "metadata": {
        "colab": {
          "base_uri": "https://localhost:8080/"
        },
        "id": "tN7xRWTDxhfK",
        "outputId": "6b6a2b66-6fa5-4f2d-98a4-c9ac5574caf0"
      },
      "execution_count": null,
      "outputs": [
        {
          "output_type": "stream",
          "name": "stdout",
          "text": [
            "1/1 [==============================] - 0s 90ms/step\n",
            "Предсказание = [[0.93352956 0.9107862 ]]\n",
            "Реальное значение = 1.000  0.944]\n"
          ]
        }
      ]
    },
    {
      "cell_type": "markdown",
      "source": [
        "Преобразование данных в массив numpy"
      ],
      "metadata": {
        "id": "TenpQ5a7p8u-"
      }
    },
    {
      "cell_type": "code",
      "source": [
        "test_arr = np.array(y_valid, ndmin=2)\n",
        "predict_arr = np.array(X_valid, ndmin=2)\n",
        "test_predict = Loading_model.predict(predict_arr)"
      ],
      "metadata": {
        "colab": {
          "base_uri": "https://localhost:8080/"
        },
        "id": "tF-SbyoVm76i",
        "outputId": "bf2b2947-cb29-4b95-bfab-b7099bc322c6"
      },
      "execution_count": null,
      "outputs": [
        {
          "output_type": "stream",
          "name": "stdout",
          "text": [
            "1/1 [==============================] - 0s 26ms/step\n"
          ]
        }
      ]
    },
    {
      "cell_type": "markdown",
      "source": [
        "### График тестовой выборки"
      ],
      "metadata": {
        "id": "8bn1pGEgoGEM"
      }
    },
    {
      "cell_type": "code",
      "source": [
        "def plot_result(testY , test_predict):\n",
        "    plt.figure(figsize=(15, 6), dpi=90)\n",
        "    plt.plot(testY)\n",
        "    plt.plot(test_predict)\n",
        "    plt.legend(['Реальное V1', 'Реальное V2', 'Предсказанное V1', 'Предсказанное V2'])\n",
        "    plt.xlabel('x')\n",
        "    plt.ylabel('y')\n",
        "    plt.title('Реальное и предсказанные значения')\n",
        "    plt.grid()\n",
        "plot_result(test_arr, test_predict)"
      ],
      "metadata": {
        "colab": {
          "base_uri": "https://localhost:8080/",
          "height": 510
        },
        "id": "jtu_1KB5nmIq",
        "outputId": "43d6d09e-680c-4b3a-f828-69340a97fe2a"
      },
      "execution_count": null,
      "outputs": [
        {
          "output_type": "display_data",
          "data": {
            "text/plain": [
              "<Figure size 1350x540 with 1 Axes>"
            ],
            "image/png": "[encoded data removed]"
          },
          "metadata": {}
        }
      ]
    },
    {
      "cell_type": "markdown",
      "source": [
        "Прогон по тестовой выборке"
      ],
      "metadata": {
        "id": "JT_5KpkxkMha"
      }
    },
    {
      "cell_type": "code",
      "source": [
        "for i in range(len(X_valid)):\n",
        "  data = np.array(predict_arr[i], ndmin=2)\n",
        "  y = Loading_model.predict(data)\n",
        "  print(f\" {i}-е Предсказание при вводных данных {data}  = {y}\")\n",
        "  print(f\"{i}-е Реальное значение = {test_arr[i]} \")"
      ],
      "metadata": {
        "id": "6DHSf0NHkKdS",
        "colab": {
          "base_uri": "https://localhost:8080/"
        },
        "outputId": "8abe5a2d-b502-4509-bff1-bc1059ecd439"
      },
      "execution_count": null,
      "outputs": [
        {
          "output_type": "stream",
          "name": "stdout",
          "text": [
            "1/1 [==============================] - 0s 81ms/step\n",
            " 0-е Предсказание при вводных данных [[ 1.      0.9529 -0.0297 -0.0028  0.6945  0.      0.      0.      0.8227\n",
            "   0.    ]]  = [[0.93352956 0.9107862 ]]\n",
            "0-е Реальное значение = [1.    0.944] \n",
            "1/1 [==============================] - 0s 21ms/step\n",
            " 1-е Предсказание при вводных данных [[ 0.9444  0.7961  0.0378 -0.04    0.6608 -0.0152  0.0148 -0.026   0.8109\n",
            "   0.    ]]  = [[0.80462354 0.77799886]]\n",
            "1-е Реальное значение = [0.844 0.78 ] \n",
            "1/1 [==============================] - 0s 20ms/step\n",
            " 2-е Предсказание при вводных данных [[ 0.8148  0.7333  0.0426 -0.0537  0.5074 -0.0079 -0.0079 -0.0079  0.8136\n",
            "   0.    ]]  = [[0.73746794 0.71515036]]\n",
            "2-е Реальное значение = [0.768 0.728] \n",
            "1/1 [==============================] - 0s 25ms/step\n",
            " 3-е Предсказание при вводных данных [[ 0.8333  0.8922  0.0776 -0.0009  0.6614 -0.026   0.      0.      0.8077\n",
            "   0.    ]]  = [[0.8752246  0.86720747]]\n",
            "3-е Реальное значение = [0.94 0.88] \n",
            "1/1 [==============================] - 0s 20ms/step\n",
            " 4-е Предсказание при вводных данных [[ 0.8704  0.7647  0.0311 -0.0555  0.5781  0.      0.      0.      0.8534\n",
            "   0.    ]]  = [[0.7677863 0.7420389]]\n",
            "4-е Реальное значение = [0.74 0.82] \n",
            "1/1 [==============================] - 0s 20ms/step\n",
            " 5-е Предсказание при вводных данных [[ 0.963   0.8294 -0.0364 -0.007   0.3818  0.      0.      0.      0.8109\n",
            "   0.025 ]]  = [[0.82428944 0.7930088 ]]\n",
            "5-е Реальное значение = [0.888 0.804] \n",
            "1/1 [==============================] - 0s 21ms/step\n",
            " 6-е Предсказание при вводных данных [[ 0.7407  0.7353  0.1034 -0.0336  0.4639  0.      0.      0.      0.8459\n",
            "   0.    ]]  = [[0.73920774 0.72155815]]\n",
            "6-е Реальное значение = [0.78 0.72] \n",
            "1/1 [==============================] - 0s 22ms/step\n",
            " 7-е Предсказание при вводных данных [[ 0.7963  0.7549  0.5416 -0.0557 -0.007   0.0229  0.      0.      0.9397\n",
            "  -0.275 ]]  = [[0.7328463 0.813799 ]]\n",
            "7-е Реальное значение = [0.8  0.74] \n",
            "1/1 [==============================] - 0s 23ms/step\n",
            " 8-е Предсказание при вводных данных [[ 0.9815  0.7549  0.0533 -0.0304  0.3071  0.      0.      0.      0.8297\n",
            "   0.    ]]  = [[0.7747208  0.75111765]]\n",
            "8-е Реальное значение = [0.82 0.72] \n",
            "1/1 [==============================] - 0s 25ms/step\n",
            " 9-е Предсказание при вводных данных [[ 0.9259  0.7059  0.0427 -0.0249  0.5414  0.      0.      0.      0.792\n",
            "   0.45  ]]  = [[0.679467   0.71403766]]\n",
            "9-е Реальное значение = [0.72 0.72] \n",
            "1/1 [==============================] - 0s 20ms/step\n",
            " 10-е Предсказание при вводных данных [[ 0.7963  0.7569  0.0067 -0.035   0.5577 -0.006   0.0052  0.0128  0.9445\n",
            "   0.    ]]  = [[0.7581616 0.7291883]]\n",
            "10-е Реальное значение = [0.792 0.752] \n",
            "1/1 [==============================] - 0s 32ms/step\n",
            " 11-е Предсказание при вводных данных [[ 0.9259  0.9157 -0.0334  0.1417  0.7096 -0.0293 -0.082   0.0069  0.9596\n",
            "   0.    ]]  = [[0.88683224 0.8529735 ]]\n",
            "11-е Реальное значение = [0.98  0.888] \n",
            "1/1 [==============================] - 0s 31ms/step\n",
            " 12-е Предсказание при вводных данных [[ 0.8148  0.8098 -0.5313 -0.5703  0.8594  0.      0.      0.      0.9186\n",
            "   0.125 ]]  = [[0.8241159  0.82668346]]\n",
            "12-е Реальное значение = [0.792 0.86 ] \n",
            "1/1 [==============================] - 0s 31ms/step\n",
            " 13-е Предсказание при вводных данных [[ 0.9259  0.7549  0.0609 -0.0205  0.539   0.      0.      0.      0.7947\n",
            "   0.3   ]]  = [[0.7299132 0.7527118]]\n",
            "13-е Реальное значение = [0.76 0.78] \n",
            "1/1 [==============================] - 0s 35ms/step\n",
            " 14-е Предсказание при вводных данных [[ 0.8148  0.8431 -0.0359  0.0499  0.5114 -0.0342  0.004   0.0234  0.9661\n",
            "   0.    ]]  = [[0.8278108  0.79647297]]\n",
            "14-е Реальное значение = [0.88 0.84] \n",
            "1/1 [==============================] - 0s 30ms/step\n",
            " 15-е Предсказание при вводных данных [[ 0.9259  0.7353  0.1244 -0.04    0.4651 -0.0628 -0.0628 -0.0628  0.944\n",
            "   0.075 ]]  = [[0.74479073 0.7348387 ]]\n",
            "15-е Реальное значение = [0.78 0.72] \n",
            "1/1 [==============================] - 0s 37ms/step\n",
            " 16-е Предсказание при вводных данных [[ 9.074e-01  7.118e-01  4.160e-02 -1.920e-02  5.366e-01 -1.450e-02\n",
            "   5.000e-04 -1.800e-03  9.569e-01  5.000e-02]]  = [[0.7181574  0.69367546]]\n",
            "16-е Реальное значение = [0.72  0.732] \n",
            "1/1 [==============================] - 0s 29ms/step\n",
            " 17-е Предсказание при вводных данных [[ 0.8333  0.7549  0.0627 -0.0054  0.4688  0.      0.      0.      0.75\n",
            "   0.275 ]]  = [[0.7270405  0.75656784]]\n",
            "17-е Реальное значение = [0.74 0.8 ] \n",
            "1/1 [==============================] - 0s 51ms/step\n",
            " 18-е Предсказание при вводных данных [[ 0.9444  0.8196  0.     -0.0287  0.5385 -0.0157 -0.0157 -0.0157  0.7241\n",
            "   0.    ]]  = [[0.8184697  0.79161954]]\n",
            "18-е Реальное значение = [0.868 0.804] \n",
            "1/1 [==============================] - 0s 32ms/step\n",
            " 19-е Предсказание при вводных данных [[0.8889 0.7294 0.0758 0.0425 0.5    0.     0.     0.     0.7328 0.    ]]  = [[0.7438661 0.7161253]]\n",
            "19-е Реальное значение = [0.736 0.752] \n",
            "1/1 [==============================] - 0s 39ms/step\n",
            " 20-е Предсказание при вводных данных [[ 0.8333  0.7255  0.8827 -0.3984 -0.9453  0.      0.      0.      0.8362\n",
            "   0.1875]]  = [[0.7941845 0.847081 ]]\n",
            "20-е Реальное значение = [0.72 0.76] \n",
            "1/1 [==============================] - 0s 37ms/step\n",
            " 21-е Предсказание при вводных данных [[ 0.8889  0.7412  0.0597 -0.0164  0.5     0.      0.      0.      0.9483\n",
            "   0.125 ]]  = [[0.7370209 0.7249033]]\n",
            "21-е Реальное значение = [0.74  0.772] \n"
          ]
        }
      ]
    },
    {
      "cell_type": "markdown",
      "source": [
        "### Root Mean Square Error (RMSE) - Среднеквадратичное отклонение"
      ],
      "metadata": {
        "id": "MlQ-oRaayl6c"
      }
    },
    {
      "cell_type": "code",
      "source": [
        "def print_error(trainY, testY, train_predict, test_predict):\n",
        "    # Ошибка предсказания\n",
        "    train_rmse = math.sqrt(mean_squared_error(trainY, train_predict))\n",
        "    test_rmse = math.sqrt(mean_squared_error(testY, test_predict))\n",
        "    # Печать значений\n",
        "    print('RMSE для тренировочной выборки: %.3f RMSE' % (train_rmse))\n",
        "    print('RMSE для тестовой выборки: %.3f RMSE' % (test_rmse))\n",
        "\n",
        "# Сделаем предсказания\n",
        "train_predict = Loading_model.predict(X_train)\n",
        "test_predict = Loading_model.predict(X_valid)\n",
        "# Среднеквадратичное отклонение\n",
        "print_error(y_train, y_valid, train_predict, test_predict)"
      ],
      "metadata": {
        "colab": {
          "base_uri": "https://localhost:8080/"
        },
        "id": "_qqi7PDmyn7s",
        "outputId": "bed0dd9e-1533-4dc0-ec11-d043b9789ef5"
      },
      "execution_count": null,
      "outputs": [
        {
          "output_type": "stream",
          "name": "stdout",
          "text": [
            "7/7 [==============================] - 0s 3ms/step\n",
            "1/1 [==============================] - 0s 23ms/step\n",
            "RMSE для тренировочной выборки: 0.035 RMSE\n",
            "RMSE для тестовой выборки: 0.044 RMSE\n"
          ]
        }
      ]
    },
    {
      "cell_type": "markdown",
      "source": [
        "## Проверка скорости работы"
      ],
      "metadata": {
        "id": "4h8ULi3EzbN6"
      }
    },
    {
      "cell_type": "code",
      "source": [
        "data = [[1, 0.9529, -0.0297, -0.0028, 0.6945, 0, 0, 0, 0.8227, 0]]\n",
        "data_2 = [[0.9259, 0.7549, 0.0609, -0.0205, 0.539, 0, 0, 0, 0.7947, 0.3]]\n",
        "data_3 = [[0.9259, 0.7353, 0.1244, -0.04, 0.4651, -0.0628, -0.0628, -0.0628,  0.944, 0.075]]\n",
        "start_time = time.time()\n",
        "Loading_model.predict(data)\n",
        "Loading_model.predict(data_2)\n",
        "Loading_model.predict(data_3)\n",
        "time_for_operation = (time.time() - start_time)\n",
        "print(f\"Среднее время на расчёт = {round(time_for_operation / 3, 5)} секунд\")"
      ],
      "metadata": {
        "colab": {
          "base_uri": "https://localhost:8080/"
        },
        "id": "eXgxXe85zdS6",
        "outputId": "9a836ed8-d49d-4ebe-d47e-941510c114dd"
      },
      "execution_count": null,
      "outputs": [
        {
          "output_type": "stream",
          "name": "stdout",
          "text": [
            "1/1 [==============================] - 0s 43ms/step\n",
            "1/1 [==============================] - 0s 40ms/step\n",
            "1/1 [==============================] - 0s 39ms/step\n",
            "Среднее время на расчёт = 0.10513 секунд\n"
          ]
        }
      ]
    },
    {
      "cell_type": "markdown",
      "source": [
        "Скорость расчёта при анализе пакета в 22 значения тестовой выборки"
      ],
      "metadata": {
        "id": "EFG8kROApZsk"
      }
    },
    {
      "cell_type": "code",
      "source": [
        "start_time = time.time()\n",
        "predict_arr = np.array(X_valid, ndmin=2)\n",
        "test_predict = Loading_model.predict(predict_arr)\n",
        "time_for_operation = (time.time() - start_time)\n",
        "print(f\"Время на расчёт = {round(time_for_operation / 3, 5)} секунд\")"
      ],
      "metadata": {
        "colab": {
          "base_uri": "https://localhost:8080/"
        },
        "id": "DrUH_k1qpCiZ",
        "outputId": "3ae0d769-d442-4b60-e6da-3a5fc7bb100e"
      },
      "execution_count": null,
      "outputs": [
        {
          "output_type": "stream",
          "name": "stdout",
          "text": [
            "1/1 [==============================] - 0s 22ms/step\n",
            "Время на расчёт = 0.02776 секунд\n"
          ]
        }
      ]
    }
  ]
}