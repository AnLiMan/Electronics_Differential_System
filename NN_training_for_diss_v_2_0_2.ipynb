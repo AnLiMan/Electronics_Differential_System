{
  "nbformat": 4,
  "nbformat_minor": 0,
  "metadata": {
    "colab": {
      "provenance": []
    },
    "kernelspec": {
      "name": "python3",
      "display_name": "Python 3"
    },
    "language_info": {
      "name": "python"
    }
  },
  "cells": [
    {
      "cell_type": "markdown",
      "source": [
        "# Результаты экспериментов\n",
        "\n",
        "1. Базовая модель\n",
        "\n",
        "```\n",
        "  model = tf.keras.models.Sequential([\n",
        "  tf.keras.layers.Flatten(),\n",
        "  tf.keras.layers.Dense(128, activation='relu', input_shape = (9,)),\n",
        "  tf.keras.layers.Dense(256, activation='relu'),\n",
        "  tf.keras.layers.Dense(512, activation='relu'),\n",
        "  tf.keras.layers.Dense(1024, activation='relu'),\n",
        "  tf.keras.layers.Dense(2)])\n",
        "```\n",
        "\n",
        "***3-я итерация.*** loss: 0.0038 - accuracy: 0.7128 - val_loss: 0.0055 - val_accuracy: 0.7273\n",
        "\n",
        "Параметры для модели:\n",
        "1. split_percent = 0.9\n",
        "2. BATCH_SIZE = 12\n",
        "3. EPOCHS = 30\n",
        "4. NN_optimizer = 'adam'\n",
        "5. NN_loss = 'mse'\n",
        "\n",
        "**4-я итерация.** loss: 0.0552 - accuracy: 0.6667 - val_loss: 0.0516 - val_accuracy: 0.6818\n",
        "1. split_percent = 0.9\n",
        "2. BATCH_SIZE = 12\n",
        "3. EPOCHS = 45\n",
        "4. NN_optimizer = 'SGD'\n",
        "5. NN_loss = 'MeanAbsoluteError'\n",
        "\n",
        "**5-я итерация.**  loss: 0.0057 - accuracy: 0.6462 - val_loss: 0.0044 - val_accuracy: 0.6818\n",
        "1. split_percent = 0.9\n",
        "2. BATCH_SIZE = 12\n",
        "3. EPOCHS = 45\n",
        "4. NN_optimizer = 'SGD'\n",
        "5. NN_loss = 'mse'\n",
        "\n",
        "**6-я итерация.**  loss: 0.0566 - accuracy: 0.4923 - val_loss: 0.0592 - val_accuracy: 0.6818\n",
        "1. split_percent = 0.9\n",
        "2. BATCH_SIZE = 12\n",
        "3. EPOCHS = 30\n",
        "4. NN_optimizer = 'adam'\n",
        "5. NN_loss = 'MeanAbsoluteError'\n",
        "\n",
        "***7-я итерация.*** loss: 0.0033 - accuracy: 0.7128 - val_loss: 0.0058 - val_accuracy: 0.7273\n",
        "\n",
        "Параметры для модели:\n",
        "1. split_percent = 0.9\n",
        "2. BATCH_SIZE = 10\n",
        "3. EPOCHS = 33\n",
        "4. NN_optimizer = 'adam'\n",
        "5. NN_loss = 'mse'\n",
        "\n",
        "\n",
        "2. Базовая модель\n",
        "\n",
        "```\n",
        "  model = tf.keras.models.Sequential([\n",
        "  tf.keras.layers.Flatten(),\n",
        "  tf.keras.layers.Dense(32, activation='relu', input_shape = (9,)),\n",
        "  tf.keras.layers.Dense(128, activation='relu'),\n",
        "  tf.keras.layers.Dense(256, activation='relu'),\n",
        "  tf.keras.layers.Dense(256, activation='relu'),\n",
        "  tf.keras.layers.Dropout(0.3),\n",
        "  tf.keras.layers.Dense(2)])\n",
        "```\n",
        "\n",
        "**8-я итерация.** loss: 0.0072 - accuracy: 0.5692 - val_loss: 0.0045 - val_accuracy: 0.8182\n",
        "Параметры для модели:\n",
        "1. split_percent = 0.9\n",
        "2. BATCH_SIZE = 10\n",
        "3. EPOCHS = 32\n",
        "4. NN_optimizer = 'adam'\n",
        "5. NN_loss = 'mse'\n",
        "\n",
        "\n",
        "\n",
        "\n"
      ],
      "metadata": {
        "id": "nstMFIE1wdrP"
      }
    },
    {
      "cell_type": "markdown",
      "source": [
        "Подключим Гугл.Диск для сохранения и загрузки моделей"
      ],
      "metadata": {
        "id": "V-RmHxp-fJGY"
      }
    },
    {
      "cell_type": "code",
      "execution_count": 1,
      "metadata": {
        "colab": {
          "base_uri": "https://localhost:8080/"
        },
        "id": "0_ZtuuescleK",
        "outputId": "3e2fac01-c19b-4916-d71d-2a46609afb94"
      },
      "outputs": [
        {
          "output_type": "stream",
          "name": "stdout",
          "text": [
            "Mounted at /content/drive\n",
            "Requirement already satisfied: pyyaml in /usr/local/lib/python3.10/dist-packages (6.0.1)\n",
            "Requirement already satisfied: h5py in /usr/local/lib/python3.10/dist-packages (3.9.0)\n",
            "Requirement already satisfied: numpy>=1.17.3 in /usr/local/lib/python3.10/dist-packages (from h5py) (1.25.2)\n"
          ]
        }
      ],
      "source": [
        "from google.colab import drive\n",
        "drive.mount('/content/drive')\n",
        "! pip install pyyaml h5py  # Требуется для сохранения и загрузки моделей в HDF5-формате"
      ]
    },
    {
      "cell_type": "markdown",
      "source": [
        "Настройки"
      ],
      "metadata": {
        "id": "cWIuF35Rc0KT"
      }
    },
    {
      "cell_type": "code",
      "source": [
        "number_of_interations = 8 #Номер итерации для сохранения и загрузки готовой модели\n",
        "split_percent = 0.9 # Процент данных для обучения\n",
        "\n",
        "BATCH_SIZE = 10 # Размер пакета для обучения\n",
        "EPOCHS = 32 # Количество эпох обучения\n",
        "NN_optimizer = 'adam' # Оптимизатор для модели НС\n",
        "NN_loss = 'mse' # Функция потерь\n",
        "csv_file = 'https://raw.githubusercontent.com/AnLiMan/Machine-Learning-Course/main/Datasets/Dataset_4.csv'  # Ссылка на датасет\n",
        "save_path = \"/content/drive/My Drive/Files for colab/NN for diss/NN_model_\" + str(number_of_interations) + \".h5\" # Путь для сохранения и загрузки моделей нейронки с гугл диска\n",
        "print('Текущий номер для сохранения модели, чекпоинтов, а также загрузки существующей модели с облака: ', number_of_interations)"
      ],
      "metadata": {
        "colab": {
          "base_uri": "https://localhost:8080/"
        },
        "id": "7rArNd4xczyr",
        "outputId": "3f170ce2-5096-48a3-8ade-4379c7897227"
      },
      "execution_count": 2,
      "outputs": [
        {
          "output_type": "stream",
          "name": "stdout",
          "text": [
            "Текущий номер для сохранения модели, чекпоинтов, а также загрузки существующей модели с облака:  8\n"
          ]
        }
      ]
    },
    {
      "cell_type": "markdown",
      "source": [
        "# Библиотеки"
      ],
      "metadata": {
        "id": "f4Om1GmWcvNs"
      }
    },
    {
      "cell_type": "code",
      "source": [
        "import pandas as pd\n",
        "import numpy as np\n",
        "\n",
        "import tensorflow as tf\n",
        "from keras import layers\n",
        "from tensorflow import keras\n",
        "import math\n",
        "from sklearn.metrics import mean_squared_error, accuracy_score\n",
        "from sklearn.model_selection import train_test_split\n",
        "import matplotlib.pyplot as plt\n",
        "import random\n",
        "import time"
      ],
      "metadata": {
        "id": "WWX8riPacwXs"
      },
      "execution_count": 3,
      "outputs": []
    },
    {
      "cell_type": "markdown",
      "source": [
        "# Подготовка данных"
      ],
      "metadata": {
        "id": "Og2Y-kPRdfTD"
      }
    },
    {
      "cell_type": "markdown",
      "source": [
        "## Загрузим датасет, выведем некоторую информацию и совершим серию проверок"
      ],
      "metadata": {
        "id": "7rGNb3OOdgTT"
      }
    },
    {
      "cell_type": "code",
      "source": [
        "df = pd.read_csv(csv_file) # Прочтём датасет\n",
        "df.head() # Выведем заголовок"
      ],
      "metadata": {
        "colab": {
          "base_uri": "https://localhost:8080/",
          "height": 206
        },
        "id": "XSJwyRU2df8j",
        "outputId": "55884cf0-7cd2-41e1-f2c0-42dced67d857"
      },
      "execution_count": 4,
      "outputs": [
        {
          "output_type": "execute_result",
          "data": {
            "text/plain": [
              "   AngleServo     ax     ay     az     gx     gy     gz   temp  Deviation  \\\n",
              "0       0.852  0.124 -0.052  0.437 -0.016 -0.016 -0.016  0.941        0.0   \n",
              "1       0.852  0.040 -0.008 -0.008 -0.008 -0.008  0.000  0.940        0.0   \n",
              "2       0.852  0.013 -0.031 -0.031 -0.031 -0.031  0.000  0.948        0.0   \n",
              "3       0.852 -0.003 -0.048  0.597 -0.018  0.000 -0.001  0.940        0.0   \n",
              "4       0.852 -0.034 -0.007  0.011  0.000  0.000 -0.008  0.966        0.0   \n",
              "\n",
              "      V1     V2  \n",
              "0  0.788  0.788  \n",
              "1  0.780  0.780  \n",
              "2  0.768  0.768  \n",
              "3  0.752  0.752  \n",
              "4  0.800  0.800  "
            ],
            "text/html": [
              "\n",
              "  <div id=\"df-4ff12c13-6b7d-48fe-97df-c9f06138cd0d\" class=\"colab-df-container\">\n",
              "    <div>\n",
              "<style scoped>\n",
              "    .dataframe tbody tr th:only-of-type {\n",
              "        vertical-align: middle;\n",
              "    }\n",
              "\n",
              "    .dataframe tbody tr th {\n",
              "        vertical-align: top;\n",
              "    }\n",
              "\n",
              "    .dataframe thead th {\n",
              "        text-align: right;\n",
              "    }\n",
              "</style>\n",
              "<table border=\"1\" class=\"dataframe\">\n",
              "  <thead>\n",
              "    <tr style=\"text-align: right;\">\n",
              "      <th></th>\n",
              "      <th>AngleServo</th>\n",
              "      <th>ax</th>\n",
              "      <th>ay</th>\n",
              "      <th>az</th>\n",
              "      <th>gx</th>\n",
              "      <th>gy</th>\n",
              "      <th>gz</th>\n",
              "      <th>temp</th>\n",
              "      <th>Deviation</th>\n",
              "      <th>V1</th>\n",
              "      <th>V2</th>\n",
              "    </tr>\n",
              "  </thead>\n",
              "  <tbody>\n",
              "    <tr>\n",
              "      <th>0</th>\n",
              "      <td>0.852</td>\n",
              "      <td>0.124</td>\n",
              "      <td>-0.052</td>\n",
              "      <td>0.437</td>\n",
              "      <td>-0.016</td>\n",
              "      <td>-0.016</td>\n",
              "      <td>-0.016</td>\n",
              "      <td>0.941</td>\n",
              "      <td>0.0</td>\n",
              "      <td>0.788</td>\n",
              "      <td>0.788</td>\n",
              "    </tr>\n",
              "    <tr>\n",
              "      <th>1</th>\n",
              "      <td>0.852</td>\n",
              "      <td>0.040</td>\n",
              "      <td>-0.008</td>\n",
              "      <td>-0.008</td>\n",
              "      <td>-0.008</td>\n",
              "      <td>-0.008</td>\n",
              "      <td>0.000</td>\n",
              "      <td>0.940</td>\n",
              "      <td>0.0</td>\n",
              "      <td>0.780</td>\n",
              "      <td>0.780</td>\n",
              "    </tr>\n",
              "    <tr>\n",
              "      <th>2</th>\n",
              "      <td>0.852</td>\n",
              "      <td>0.013</td>\n",
              "      <td>-0.031</td>\n",
              "      <td>-0.031</td>\n",
              "      <td>-0.031</td>\n",
              "      <td>-0.031</td>\n",
              "      <td>0.000</td>\n",
              "      <td>0.948</td>\n",
              "      <td>0.0</td>\n",
              "      <td>0.768</td>\n",
              "      <td>0.768</td>\n",
              "    </tr>\n",
              "    <tr>\n",
              "      <th>3</th>\n",
              "      <td>0.852</td>\n",
              "      <td>-0.003</td>\n",
              "      <td>-0.048</td>\n",
              "      <td>0.597</td>\n",
              "      <td>-0.018</td>\n",
              "      <td>0.000</td>\n",
              "      <td>-0.001</td>\n",
              "      <td>0.940</td>\n",
              "      <td>0.0</td>\n",
              "      <td>0.752</td>\n",
              "      <td>0.752</td>\n",
              "    </tr>\n",
              "    <tr>\n",
              "      <th>4</th>\n",
              "      <td>0.852</td>\n",
              "      <td>-0.034</td>\n",
              "      <td>-0.007</td>\n",
              "      <td>0.011</td>\n",
              "      <td>0.000</td>\n",
              "      <td>0.000</td>\n",
              "      <td>-0.008</td>\n",
              "      <td>0.966</td>\n",
              "      <td>0.0</td>\n",
              "      <td>0.800</td>\n",
              "      <td>0.800</td>\n",
              "    </tr>\n",
              "  </tbody>\n",
              "</table>\n",
              "</div>\n",
              "    <div class=\"colab-df-buttons\">\n",
              "\n",
              "  <div class=\"colab-df-container\">\n",
              "    <button class=\"colab-df-convert\" onclick=\"convertToInteractive('df-4ff12c13-6b7d-48fe-97df-c9f06138cd0d')\"\n",
              "            title=\"Convert this dataframe to an interactive table.\"\n",
              "            style=\"display:none;\">\n",
              "\n",
              "  <svg xmlns=\"http://www.w3.org/2000/svg\" height=\"24px\" viewBox=\"0 -960 960 960\">\n",
              "    <path d=\"M120-120v-720h720v720H120Zm60-500h600v-160H180v160Zm220 220h160v-160H400v160Zm0 220h160v-160H400v160ZM180-400h160v-160H180v160Zm440 0h160v-160H620v160ZM180-180h160v-160H180v160Zm440 0h160v-160H620v160Z\"/>\n",
              "  </svg>\n",
              "    </button>\n",
              "\n",
              "  <style>\n",
              "    .colab-df-container {\n",
              "      display:flex;\n",
              "      gap: 12px;\n",
              "    }\n",
              "\n",
              "    .colab-df-convert {\n",
              "      background-color: #E8F0FE;\n",
              "      border: none;\n",
              "      border-radius: 50%;\n",
              "      cursor: pointer;\n",
              "      display: none;\n",
              "      fill: #1967D2;\n",
              "      height: 32px;\n",
              "      padding: 0 0 0 0;\n",
              "      width: 32px;\n",
              "    }\n",
              "\n",
              "    .colab-df-convert:hover {\n",
              "      background-color: #E2EBFA;\n",
              "      box-shadow: 0px 1px 2px rgba(60, 64, 67, 0.3), 0px 1px 3px 1px rgba(60, 64, 67, 0.15);\n",
              "      fill: #174EA6;\n",
              "    }\n",
              "\n",
              "    .colab-df-buttons div {\n",
              "      margin-bottom: 4px;\n",
              "    }\n",
              "\n",
              "    [theme=dark] .colab-df-convert {\n",
              "      background-color: #3B4455;\n",
              "      fill: #D2E3FC;\n",
              "    }\n",
              "\n",
              "    [theme=dark] .colab-df-convert:hover {\n",
              "      background-color: #434B5C;\n",
              "      box-shadow: 0px 1px 3px 1px rgba(0, 0, 0, 0.15);\n",
              "      filter: drop-shadow(0px 1px 2px rgba(0, 0, 0, 0.3));\n",
              "      fill: #FFFFFF;\n",
              "    }\n",
              "  </style>\n",
              "\n",
              "    <script>\n",
              "      const buttonEl =\n",
              "        document.querySelector('#df-4ff12c13-6b7d-48fe-97df-c9f06138cd0d button.colab-df-convert');\n",
              "      buttonEl.style.display =\n",
              "        google.colab.kernel.accessAllowed ? 'block' : 'none';\n",
              "\n",
              "      async function convertToInteractive(key) {\n",
              "        const element = document.querySelector('#df-4ff12c13-6b7d-48fe-97df-c9f06138cd0d');\n",
              "        const dataTable =\n",
              "          await google.colab.kernel.invokeFunction('convertToInteractive',\n",
              "                                                    [key], {});\n",
              "        if (!dataTable) return;\n",
              "\n",
              "        const docLinkHtml = 'Like what you see? Visit the ' +\n",
              "          '<a target=\"_blank\" href=https://colab.research.google.com/notebooks/data_table.ipynb>data table notebook</a>'\n",
              "          + ' to learn more about interactive tables.';\n",
              "        element.innerHTML = '';\n",
              "        dataTable['output_type'] = 'display_data';\n",
              "        await google.colab.output.renderOutput(dataTable, element);\n",
              "        const docLink = document.createElement('div');\n",
              "        docLink.innerHTML = docLinkHtml;\n",
              "        element.appendChild(docLink);\n",
              "      }\n",
              "    </script>\n",
              "  </div>\n",
              "\n",
              "\n",
              "<div id=\"df-f48c865d-2888-4f7a-946f-50b1d2cdba47\">\n",
              "  <button class=\"colab-df-quickchart\" onclick=\"quickchart('df-f48c865d-2888-4f7a-946f-50b1d2cdba47')\"\n",
              "            title=\"Suggest charts\"\n",
              "            style=\"display:none;\">\n",
              "\n",
              "<svg xmlns=\"http://www.w3.org/2000/svg\" height=\"24px\"viewBox=\"0 0 24 24\"\n",
              "     width=\"24px\">\n",
              "    <g>\n",
              "        <path d=\"M19 3H5c-1.1 0-2 .9-2 2v14c0 1.1.9 2 2 2h14c1.1 0 2-.9 2-2V5c0-1.1-.9-2-2-2zM9 17H7v-7h2v7zm4 0h-2V7h2v10zm4 0h-2v-4h2v4z\"/>\n",
              "    </g>\n",
              "</svg>\n",
              "  </button>\n",
              "\n",
              "<style>\n",
              "  .colab-df-quickchart {\n",
              "      --bg-color: #E8F0FE;\n",
              "      --fill-color: #1967D2;\n",
              "      --hover-bg-color: #E2EBFA;\n",
              "      --hover-fill-color: #174EA6;\n",
              "      --disabled-fill-color: #AAA;\n",
              "      --disabled-bg-color: #DDD;\n",
              "  }\n",
              "\n",
              "  [theme=dark] .colab-df-quickchart {\n",
              "      --bg-color: #3B4455;\n",
              "      --fill-color: #D2E3FC;\n",
              "      --hover-bg-color: #434B5C;\n",
              "      --hover-fill-color: #FFFFFF;\n",
              "      --disabled-bg-color: #3B4455;\n",
              "      --disabled-fill-color: #666;\n",
              "  }\n",
              "\n",
              "  .colab-df-quickchart {\n",
              "    background-color: var(--bg-color);\n",
              "    border: none;\n",
              "    border-radius: 50%;\n",
              "    cursor: pointer;\n",
              "    display: none;\n",
              "    fill: var(--fill-color);\n",
              "    height: 32px;\n",
              "    padding: 0;\n",
              "    width: 32px;\n",
              "  }\n",
              "\n",
              "  .colab-df-quickchart:hover {\n",
              "    background-color: var(--hover-bg-color);\n",
              "    box-shadow: 0 1px 2px rgba(60, 64, 67, 0.3), 0 1px 3px 1px rgba(60, 64, 67, 0.15);\n",
              "    fill: var(--button-hover-fill-color);\n",
              "  }\n",
              "\n",
              "  .colab-df-quickchart-complete:disabled,\n",
              "  .colab-df-quickchart-complete:disabled:hover {\n",
              "    background-color: var(--disabled-bg-color);\n",
              "    fill: var(--disabled-fill-color);\n",
              "    box-shadow: none;\n",
              "  }\n",
              "\n",
              "  .colab-df-spinner {\n",
              "    border: 2px solid var(--fill-color);\n",
              "    border-color: transparent;\n",
              "    border-bottom-color: var(--fill-color);\n",
              "    animation:\n",
              "      spin 1s steps(1) infinite;\n",
              "  }\n",
              "\n",
              "  @keyframes spin {\n",
              "    0% {\n",
              "      border-color: transparent;\n",
              "      border-bottom-color: var(--fill-color);\n",
              "      border-left-color: var(--fill-color);\n",
              "    }\n",
              "    20% {\n",
              "      border-color: transparent;\n",
              "      border-left-color: var(--fill-color);\n",
              "      border-top-color: var(--fill-color);\n",
              "    }\n",
              "    30% {\n",
              "      border-color: transparent;\n",
              "      border-left-color: var(--fill-color);\n",
              "      border-top-color: var(--fill-color);\n",
              "      border-right-color: var(--fill-color);\n",
              "    }\n",
              "    40% {\n",
              "      border-color: transparent;\n",
              "      border-right-color: var(--fill-color);\n",
              "      border-top-color: var(--fill-color);\n",
              "    }\n",
              "    60% {\n",
              "      border-color: transparent;\n",
              "      border-right-color: var(--fill-color);\n",
              "    }\n",
              "    80% {\n",
              "      border-color: transparent;\n",
              "      border-right-color: var(--fill-color);\n",
              "      border-bottom-color: var(--fill-color);\n",
              "    }\n",
              "    90% {\n",
              "      border-color: transparent;\n",
              "      border-bottom-color: var(--fill-color);\n",
              "    }\n",
              "  }\n",
              "</style>\n",
              "\n",
              "  <script>\n",
              "    async function quickchart(key) {\n",
              "      const quickchartButtonEl =\n",
              "        document.querySelector('#' + key + ' button');\n",
              "      quickchartButtonEl.disabled = true;  // To prevent multiple clicks.\n",
              "      quickchartButtonEl.classList.add('colab-df-spinner');\n",
              "      try {\n",
              "        const charts = await google.colab.kernel.invokeFunction(\n",
              "            'suggestCharts', [key], {});\n",
              "      } catch (error) {\n",
              "        console.error('Error during call to suggestCharts:', error);\n",
              "      }\n",
              "      quickchartButtonEl.classList.remove('colab-df-spinner');\n",
              "      quickchartButtonEl.classList.add('colab-df-quickchart-complete');\n",
              "    }\n",
              "    (() => {\n",
              "      let quickchartButtonEl =\n",
              "        document.querySelector('#df-f48c865d-2888-4f7a-946f-50b1d2cdba47 button');\n",
              "      quickchartButtonEl.style.display =\n",
              "        google.colab.kernel.accessAllowed ? 'block' : 'none';\n",
              "    })();\n",
              "  </script>\n",
              "</div>\n",
              "    </div>\n",
              "  </div>\n"
            ],
            "application/vnd.google.colaboratory.intrinsic+json": {
              "type": "dataframe",
              "variable_name": "df",
              "summary": "{\n  \"name\": \"df\",\n  \"rows\": 217,\n  \"fields\": [\n    {\n      \"column\": \"AngleServo\",\n      \"properties\": {\n        \"dtype\": \"number\",\n        \"std\": 0.07841603662168747,\n        \"min\": 0.741,\n        \"max\": 1.0,\n        \"num_unique_values\": 15,\n        \"samples\": [\n          0.907,\n          0.944,\n          0.852\n        ],\n        \"semantic_type\": \"\",\n        \"description\": \"\"\n      }\n    },\n    {\n      \"column\": \"ax\",\n      \"properties\": {\n        \"dtype\": \"number\",\n        \"std\": 0.14787346126967835,\n        \"min\": -0.867,\n        \"max\": 0.914,\n        \"num_unique_values\": 139,\n        \"samples\": [\n          -0.015,\n          0.11,\n          0.06\n        ],\n        \"semantic_type\": \"\",\n        \"description\": \"\"\n      }\n    },\n    {\n      \"column\": \"ay\",\n      \"properties\": {\n        \"dtype\": \"number\",\n        \"std\": 0.13899679054891198,\n        \"min\": -0.601,\n        \"max\": 0.906,\n        \"num_unique_values\": 126,\n        \"samples\": [\n          -0.023,\n          0.005,\n          -0.069\n        ],\n        \"semantic_type\": \"\",\n        \"description\": \"\"\n      }\n    },\n    {\n      \"column\": \"az\",\n      \"properties\": {\n        \"dtype\": \"number\",\n        \"std\": 0.2681524713041633,\n        \"min\": -0.945,\n        \"max\": 1.0,\n        \"num_unique_values\": 146,\n        \"samples\": [\n          0.578,\n          0.559,\n          0.554\n        ],\n        \"semantic_type\": \"\",\n        \"description\": \"\"\n      }\n    },\n    {\n      \"column\": \"gx\",\n      \"properties\": {\n        \"dtype\": \"number\",\n        \"std\": 0.0493009703773688,\n        \"min\": -0.067,\n        \"max\": 0.509,\n        \"num_unique_values\": 47,\n        \"samples\": [\n          0.002,\n          -0.022,\n          0.315\n        ],\n        \"semantic_type\": \"\",\n        \"description\": \"\"\n      }\n    },\n    {\n      \"column\": \"gy\",\n      \"properties\": {\n        \"dtype\": \"number\",\n        \"std\": 0.019903056995364054,\n        \"min\": -0.139,\n        \"max\": 0.055,\n        \"num_unique_values\": 34,\n        \"samples\": [\n          0.005,\n          -0.028,\n          0.021\n        ],\n        \"semantic_type\": \"\",\n        \"description\": \"\"\n      }\n    },\n    {\n      \"column\": \"gz\",\n      \"properties\": {\n        \"dtype\": \"number\",\n        \"std\": 0.026663882343120685,\n        \"min\": -0.251,\n        \"max\": 0.063,\n        \"num_unique_values\": 43,\n        \"samples\": [\n          -0.039,\n          -0.007,\n          -0.013\n        ],\n        \"semantic_type\": \"\",\n        \"description\": \"\"\n      }\n    },\n    {\n      \"column\": \"temp\",\n      \"properties\": {\n        \"dtype\": \"number\",\n        \"std\": 0.13577396555229404,\n        \"min\": -0.828,\n        \"max\": 1.0,\n        \"num_unique_values\": 98,\n        \"samples\": [\n          0.724,\n          0.962,\n          0.817\n        ],\n        \"semantic_type\": \"\",\n        \"description\": \"\"\n      }\n    },\n    {\n      \"column\": \"Deviation\",\n      \"properties\": {\n        \"dtype\": \"number\",\n        \"std\": 0.23425565918248445,\n        \"min\": -1.0,\n        \"max\": 0.688,\n        \"num_unique_values\": 44,\n        \"samples\": [\n          0.075,\n          -0.8,\n          0.25\n        ],\n        \"semantic_type\": \"\",\n        \"description\": \"\"\n      }\n    },\n    {\n      \"column\": \"V1\",\n      \"properties\": {\n        \"dtype\": \"number\",\n        \"std\": 0.07772379664299389,\n        \"min\": 0.72,\n        \"max\": 1.0,\n        \"num_unique_values\": 56,\n        \"samples\": [\n          0.788,\n          0.84,\n          0.876\n        ],\n        \"semantic_type\": \"\",\n        \"description\": \"\"\n      }\n    },\n    {\n      \"column\": \"V2\",\n      \"properties\": {\n        \"dtype\": \"number\",\n        \"std\": 0.07494305968476206,\n        \"min\": 0.712,\n        \"max\": 1.0,\n        \"num_unique_values\": 53,\n        \"samples\": [\n          0.736,\n          0.98,\n          0.868\n        ],\n        \"semantic_type\": \"\",\n        \"description\": \"\"\n      }\n    }\n  ]\n}"
            }
          },
          "metadata": {},
          "execution_count": 4
        }
      ]
    },
    {
      "cell_type": "code",
      "source": [
        "df.dtypes # Используемые типы данных"
      ],
      "metadata": {
        "colab": {
          "base_uri": "https://localhost:8080/"
        },
        "id": "XrtlpRp4dqfJ",
        "outputId": "5b422052-f7cc-4565-a986-c69df4a6293f"
      },
      "execution_count": 5,
      "outputs": [
        {
          "output_type": "execute_result",
          "data": {
            "text/plain": [
              "AngleServo    float64\n",
              "ax            float64\n",
              "ay            float64\n",
              "az            float64\n",
              "gx            float64\n",
              "gy            float64\n",
              "gz            float64\n",
              "temp          float64\n",
              "Deviation     float64\n",
              "V1            float64\n",
              "V2            float64\n",
              "dtype: object"
            ]
          },
          "metadata": {},
          "execution_count": 5
        }
      ]
    },
    {
      "cell_type": "code",
      "source": [
        "print(df.info())"
      ],
      "metadata": {
        "colab": {
          "base_uri": "https://localhost:8080/"
        },
        "id": "9G-cbbl8dr9x",
        "outputId": "9fd3323d-b873-4ed2-ec87-e871e82cc548"
      },
      "execution_count": 6,
      "outputs": [
        {
          "output_type": "stream",
          "name": "stdout",
          "text": [
            "<class 'pandas.core.frame.DataFrame'>\n",
            "RangeIndex: 217 entries, 0 to 216\n",
            "Data columns (total 11 columns):\n",
            " #   Column      Non-Null Count  Dtype  \n",
            "---  ------      --------------  -----  \n",
            " 0   AngleServo  217 non-null    float64\n",
            " 1   ax          217 non-null    float64\n",
            " 2   ay          217 non-null    float64\n",
            " 3   az          217 non-null    float64\n",
            " 4   gx          217 non-null    float64\n",
            " 5   gy          217 non-null    float64\n",
            " 6   gz          217 non-null    float64\n",
            " 7   temp        217 non-null    float64\n",
            " 8   Deviation   217 non-null    float64\n",
            " 9   V1          217 non-null    float64\n",
            " 10  V2          217 non-null    float64\n",
            "dtypes: float64(11)\n",
            "memory usage: 18.8 KB\n",
            "None\n"
          ]
        }
      ]
    },
    {
      "cell_type": "code",
      "source": [
        "print(df.shape)"
      ],
      "metadata": {
        "colab": {
          "base_uri": "https://localhost:8080/"
        },
        "id": "uV9gDOONdtcc",
        "outputId": "a79dbcd5-8906-46af-e615-692fd6633fd1"
      },
      "execution_count": null,
      "outputs": [
        {
          "output_type": "stream",
          "name": "stdout",
          "text": [
            "(217, 11)\n"
          ]
        }
      ]
    },
    {
      "cell_type": "markdown",
      "source": [
        "Проверим наличие отсутствующих значений."
      ],
      "metadata": {
        "id": "L7CKKzY6dydK"
      }
    },
    {
      "cell_type": "code",
      "source": [
        "print(df.isna().sum())"
      ],
      "metadata": {
        "colab": {
          "base_uri": "https://localhost:8080/"
        },
        "id": "6TyasRvUdu2D",
        "outputId": "7aa35f2e-bc8a-43f7-8982-b9bae6d66973"
      },
      "execution_count": null,
      "outputs": [
        {
          "output_type": "stream",
          "name": "stdout",
          "text": [
            "AngleServo    0\n",
            "ax            0\n",
            "ay            0\n",
            "az            0\n",
            "gx            0\n",
            "gy            0\n",
            "gz            0\n",
            "temp          0\n",
            "Deviation     0\n",
            "V1            0\n",
            "V2            0\n",
            "dtype: int64\n"
          ]
        }
      ]
    },
    {
      "cell_type": "markdown",
      "source": [
        "Проверим на дубликаты"
      ],
      "metadata": {
        "id": "7g2N5IzWd0Cy"
      }
    },
    {
      "cell_type": "code",
      "source": [
        "print(df.duplicated(keep = False).value_counts())\n",
        "print(df[df.duplicated(keep = False)])"
      ],
      "metadata": {
        "colab": {
          "base_uri": "https://localhost:8080/"
        },
        "id": "Fz8kSoNTd1Xi",
        "outputId": "52310066-a069-4813-f8f9-d766c2b158ef"
      },
      "execution_count": null,
      "outputs": [
        {
          "output_type": "stream",
          "name": "stdout",
          "text": [
            "False    217\n",
            "dtype: int64\n",
            "Empty DataFrame\n",
            "Columns: [AngleServo, ax, ay, az, gx, gy, gz, temp, Deviation, V1, V2]\n",
            "Index: []\n"
          ]
        }
      ]
    },
    {
      "cell_type": "markdown",
      "source": [
        "Выкинем дубликаты"
      ],
      "metadata": {
        "id": "nvqkGnxNd3AS"
      }
    },
    {
      "cell_type": "code",
      "source": [
        "df = df.drop_duplicates(keep = 'first').copy()\n",
        "print(df.shape)"
      ],
      "metadata": {
        "colab": {
          "base_uri": "https://localhost:8080/"
        },
        "id": "yyOf-A4qd3tS",
        "outputId": "e2f4241a-c093-406f-f300-eb38683cd6f0"
      },
      "execution_count": null,
      "outputs": [
        {
          "output_type": "stream",
          "name": "stdout",
          "text": [
            "(217, 11)\n"
          ]
        }
      ]
    },
    {
      "cell_type": "markdown",
      "source": [
        "Сбросим индекс dataframe"
      ],
      "metadata": {
        "id": "z98KC_1Td6Yx"
      }
    },
    {
      "cell_type": "code",
      "source": [
        "df = df.reset_index(drop = True)"
      ],
      "metadata": {
        "id": "1nlGW-VLd8iW"
      },
      "execution_count": null,
      "outputs": []
    },
    {
      "cell_type": "markdown",
      "source": [
        "Выделим колонки из датасета, которые нужно будет предсказывать в будущем (Y)."
      ],
      "metadata": {
        "id": "XgcOMupgd-nd"
      }
    },
    {
      "cell_type": "code",
      "source": [
        "target_names = ['V1', 'V2']\n",
        "y = df[target_names]\n",
        "y.head()"
      ],
      "metadata": {
        "colab": {
          "base_uri": "https://localhost:8080/",
          "height": 206
        },
        "id": "_Nt9SK_yd_W9",
        "outputId": "21a7bad3-bbc7-45c0-99c8-b41a32c20f11"
      },
      "execution_count": 7,
      "outputs": [
        {
          "output_type": "execute_result",
          "data": {
            "text/plain": [
              "      V1     V2\n",
              "0  0.788  0.788\n",
              "1  0.780  0.780\n",
              "2  0.768  0.768\n",
              "3  0.752  0.752\n",
              "4  0.800  0.800"
            ],
            "text/html": [
              "\n",
              "  <div id=\"df-0c0da16f-8cac-4f75-ab9e-40cd0a4ab0c1\" class=\"colab-df-container\">\n",
              "    <div>\n",
              "<style scoped>\n",
              "    .dataframe tbody tr th:only-of-type {\n",
              "        vertical-align: middle;\n",
              "    }\n",
              "\n",
              "    .dataframe tbody tr th {\n",
              "        vertical-align: top;\n",
              "    }\n",
              "\n",
              "    .dataframe thead th {\n",
              "        text-align: right;\n",
              "    }\n",
              "</style>\n",
              "<table border=\"1\" class=\"dataframe\">\n",
              "  <thead>\n",
              "    <tr style=\"text-align: right;\">\n",
              "      <th></th>\n",
              "      <th>V1</th>\n",
              "      <th>V2</th>\n",
              "    </tr>\n",
              "  </thead>\n",
              "  <tbody>\n",
              "    <tr>\n",
              "      <th>0</th>\n",
              "      <td>0.788</td>\n",
              "      <td>0.788</td>\n",
              "    </tr>\n",
              "    <tr>\n",
              "      <th>1</th>\n",
              "      <td>0.780</td>\n",
              "      <td>0.780</td>\n",
              "    </tr>\n",
              "    <tr>\n",
              "      <th>2</th>\n",
              "      <td>0.768</td>\n",
              "      <td>0.768</td>\n",
              "    </tr>\n",
              "    <tr>\n",
              "      <th>3</th>\n",
              "      <td>0.752</td>\n",
              "      <td>0.752</td>\n",
              "    </tr>\n",
              "    <tr>\n",
              "      <th>4</th>\n",
              "      <td>0.800</td>\n",
              "      <td>0.800</td>\n",
              "    </tr>\n",
              "  </tbody>\n",
              "</table>\n",
              "</div>\n",
              "    <div class=\"colab-df-buttons\">\n",
              "\n",
              "  <div class=\"colab-df-container\">\n",
              "    <button class=\"colab-df-convert\" onclick=\"convertToInteractive('df-0c0da16f-8cac-4f75-ab9e-40cd0a4ab0c1')\"\n",
              "            title=\"Convert this dataframe to an interactive table.\"\n",
              "            style=\"display:none;\">\n",
              "\n",
              "  <svg xmlns=\"http://www.w3.org/2000/svg\" height=\"24px\" viewBox=\"0 -960 960 960\">\n",
              "    <path d=\"M120-120v-720h720v720H120Zm60-500h600v-160H180v160Zm220 220h160v-160H400v160Zm0 220h160v-160H400v160ZM180-400h160v-160H180v160Zm440 0h160v-160H620v160ZM180-180h160v-160H180v160Zm440 0h160v-160H620v160Z\"/>\n",
              "  </svg>\n",
              "    </button>\n",
              "\n",
              "  <style>\n",
              "    .colab-df-container {\n",
              "      display:flex;\n",
              "      gap: 12px;\n",
              "    }\n",
              "\n",
              "    .colab-df-convert {\n",
              "      background-color: #E8F0FE;\n",
              "      border: none;\n",
              "      border-radius: 50%;\n",
              "      cursor: pointer;\n",
              "      display: none;\n",
              "      fill: #1967D2;\n",
              "      height: 32px;\n",
              "      padding: 0 0 0 0;\n",
              "      width: 32px;\n",
              "    }\n",
              "\n",
              "    .colab-df-convert:hover {\n",
              "      background-color: #E2EBFA;\n",
              "      box-shadow: 0px 1px 2px rgba(60, 64, 67, 0.3), 0px 1px 3px 1px rgba(60, 64, 67, 0.15);\n",
              "      fill: #174EA6;\n",
              "    }\n",
              "\n",
              "    .colab-df-buttons div {\n",
              "      margin-bottom: 4px;\n",
              "    }\n",
              "\n",
              "    [theme=dark] .colab-df-convert {\n",
              "      background-color: #3B4455;\n",
              "      fill: #D2E3FC;\n",
              "    }\n",
              "\n",
              "    [theme=dark] .colab-df-convert:hover {\n",
              "      background-color: #434B5C;\n",
              "      box-shadow: 0px 1px 3px 1px rgba(0, 0, 0, 0.15);\n",
              "      filter: drop-shadow(0px 1px 2px rgba(0, 0, 0, 0.3));\n",
              "      fill: #FFFFFF;\n",
              "    }\n",
              "  </style>\n",
              "\n",
              "    <script>\n",
              "      const buttonEl =\n",
              "        document.querySelector('#df-0c0da16f-8cac-4f75-ab9e-40cd0a4ab0c1 button.colab-df-convert');\n",
              "      buttonEl.style.display =\n",
              "        google.colab.kernel.accessAllowed ? 'block' : 'none';\n",
              "\n",
              "      async function convertToInteractive(key) {\n",
              "        const element = document.querySelector('#df-0c0da16f-8cac-4f75-ab9e-40cd0a4ab0c1');\n",
              "        const dataTable =\n",
              "          await google.colab.kernel.invokeFunction('convertToInteractive',\n",
              "                                                    [key], {});\n",
              "        if (!dataTable) return;\n",
              "\n",
              "        const docLinkHtml = 'Like what you see? Visit the ' +\n",
              "          '<a target=\"_blank\" href=https://colab.research.google.com/notebooks/data_table.ipynb>data table notebook</a>'\n",
              "          + ' to learn more about interactive tables.';\n",
              "        element.innerHTML = '';\n",
              "        dataTable['output_type'] = 'display_data';\n",
              "        await google.colab.output.renderOutput(dataTable, element);\n",
              "        const docLink = document.createElement('div');\n",
              "        docLink.innerHTML = docLinkHtml;\n",
              "        element.appendChild(docLink);\n",
              "      }\n",
              "    </script>\n",
              "  </div>\n",
              "\n",
              "\n",
              "<div id=\"df-26e74ca1-efff-4cea-b796-607ca83028a9\">\n",
              "  <button class=\"colab-df-quickchart\" onclick=\"quickchart('df-26e74ca1-efff-4cea-b796-607ca83028a9')\"\n",
              "            title=\"Suggest charts\"\n",
              "            style=\"display:none;\">\n",
              "\n",
              "<svg xmlns=\"http://www.w3.org/2000/svg\" height=\"24px\"viewBox=\"0 0 24 24\"\n",
              "     width=\"24px\">\n",
              "    <g>\n",
              "        <path d=\"M19 3H5c-1.1 0-2 .9-2 2v14c0 1.1.9 2 2 2h14c1.1 0 2-.9 2-2V5c0-1.1-.9-2-2-2zM9 17H7v-7h2v7zm4 0h-2V7h2v10zm4 0h-2v-4h2v4z\"/>\n",
              "    </g>\n",
              "</svg>\n",
              "  </button>\n",
              "\n",
              "<style>\n",
              "  .colab-df-quickchart {\n",
              "      --bg-color: #E8F0FE;\n",
              "      --fill-color: #1967D2;\n",
              "      --hover-bg-color: #E2EBFA;\n",
              "      --hover-fill-color: #174EA6;\n",
              "      --disabled-fill-color: #AAA;\n",
              "      --disabled-bg-color: #DDD;\n",
              "  }\n",
              "\n",
              "  [theme=dark] .colab-df-quickchart {\n",
              "      --bg-color: #3B4455;\n",
              "      --fill-color: #D2E3FC;\n",
              "      --hover-bg-color: #434B5C;\n",
              "      --hover-fill-color: #FFFFFF;\n",
              "      --disabled-bg-color: #3B4455;\n",
              "      --disabled-fill-color: #666;\n",
              "  }\n",
              "\n",
              "  .colab-df-quickchart {\n",
              "    background-color: var(--bg-color);\n",
              "    border: none;\n",
              "    border-radius: 50%;\n",
              "    cursor: pointer;\n",
              "    display: none;\n",
              "    fill: var(--fill-color);\n",
              "    height: 32px;\n",
              "    padding: 0;\n",
              "    width: 32px;\n",
              "  }\n",
              "\n",
              "  .colab-df-quickchart:hover {\n",
              "    background-color: var(--hover-bg-color);\n",
              "    box-shadow: 0 1px 2px rgba(60, 64, 67, 0.3), 0 1px 3px 1px rgba(60, 64, 67, 0.15);\n",
              "    fill: var(--button-hover-fill-color);\n",
              "  }\n",
              "\n",
              "  .colab-df-quickchart-complete:disabled,\n",
              "  .colab-df-quickchart-complete:disabled:hover {\n",
              "    background-color: var(--disabled-bg-color);\n",
              "    fill: var(--disabled-fill-color);\n",
              "    box-shadow: none;\n",
              "  }\n",
              "\n",
              "  .colab-df-spinner {\n",
              "    border: 2px solid var(--fill-color);\n",
              "    border-color: transparent;\n",
              "    border-bottom-color: var(--fill-color);\n",
              "    animation:\n",
              "      spin 1s steps(1) infinite;\n",
              "  }\n",
              "\n",
              "  @keyframes spin {\n",
              "    0% {\n",
              "      border-color: transparent;\n",
              "      border-bottom-color: var(--fill-color);\n",
              "      border-left-color: var(--fill-color);\n",
              "    }\n",
              "    20% {\n",
              "      border-color: transparent;\n",
              "      border-left-color: var(--fill-color);\n",
              "      border-top-color: var(--fill-color);\n",
              "    }\n",
              "    30% {\n",
              "      border-color: transparent;\n",
              "      border-left-color: var(--fill-color);\n",
              "      border-top-color: var(--fill-color);\n",
              "      border-right-color: var(--fill-color);\n",
              "    }\n",
              "    40% {\n",
              "      border-color: transparent;\n",
              "      border-right-color: var(--fill-color);\n",
              "      border-top-color: var(--fill-color);\n",
              "    }\n",
              "    60% {\n",
              "      border-color: transparent;\n",
              "      border-right-color: var(--fill-color);\n",
              "    }\n",
              "    80% {\n",
              "      border-color: transparent;\n",
              "      border-right-color: var(--fill-color);\n",
              "      border-bottom-color: var(--fill-color);\n",
              "    }\n",
              "    90% {\n",
              "      border-color: transparent;\n",
              "      border-bottom-color: var(--fill-color);\n",
              "    }\n",
              "  }\n",
              "</style>\n",
              "\n",
              "  <script>\n",
              "    async function quickchart(key) {\n",
              "      const quickchartButtonEl =\n",
              "        document.querySelector('#' + key + ' button');\n",
              "      quickchartButtonEl.disabled = true;  // To prevent multiple clicks.\n",
              "      quickchartButtonEl.classList.add('colab-df-spinner');\n",
              "      try {\n",
              "        const charts = await google.colab.kernel.invokeFunction(\n",
              "            'suggestCharts', [key], {});\n",
              "      } catch (error) {\n",
              "        console.error('Error during call to suggestCharts:', error);\n",
              "      }\n",
              "      quickchartButtonEl.classList.remove('colab-df-spinner');\n",
              "      quickchartButtonEl.classList.add('colab-df-quickchart-complete');\n",
              "    }\n",
              "    (() => {\n",
              "      let quickchartButtonEl =\n",
              "        document.querySelector('#df-26e74ca1-efff-4cea-b796-607ca83028a9 button');\n",
              "      quickchartButtonEl.style.display =\n",
              "        google.colab.kernel.accessAllowed ? 'block' : 'none';\n",
              "    })();\n",
              "  </script>\n",
              "</div>\n",
              "    </div>\n",
              "  </div>\n"
            ],
            "application/vnd.google.colaboratory.intrinsic+json": {
              "type": "dataframe",
              "variable_name": "y",
              "summary": "{\n  \"name\": \"y\",\n  \"rows\": 217,\n  \"fields\": [\n    {\n      \"column\": \"V1\",\n      \"properties\": {\n        \"dtype\": \"number\",\n        \"std\": 0.07772379664299389,\n        \"min\": 0.72,\n        \"max\": 1.0,\n        \"num_unique_values\": 56,\n        \"samples\": [\n          0.788,\n          0.84,\n          0.876\n        ],\n        \"semantic_type\": \"\",\n        \"description\": \"\"\n      }\n    },\n    {\n      \"column\": \"V2\",\n      \"properties\": {\n        \"dtype\": \"number\",\n        \"std\": 0.07494305968476206,\n        \"min\": 0.712,\n        \"max\": 1.0,\n        \"num_unique_values\": 53,\n        \"samples\": [\n          0.736,\n          0.98,\n          0.868\n        ],\n        \"semantic_type\": \"\",\n        \"description\": \"\"\n      }\n    }\n  ]\n}"
            }
          },
          "metadata": {},
          "execution_count": 7
        }
      ]
    },
    {
      "cell_type": "markdown",
      "source": [
        "Выделим все независимые переменные из датасета, значений типа \"строка\" здесь быть не должно."
      ],
      "metadata": {
        "id": "2AT4hWNVeGds"
      }
    },
    {
      "cell_type": "code",
      "source": [
        "feature_names = ['AngleServo', 'ax', 'ay', 'az', 'gx', 'gy', 'gz', 'temp','Deviation']\n",
        "X = df[feature_names]\n",
        "X.head()"
      ],
      "metadata": {
        "colab": {
          "base_uri": "https://localhost:8080/",
          "height": 206
        },
        "id": "d5dcOaBCeRuB",
        "outputId": "bb5f5546-3e29-4143-fea1-eb3d0981d84e"
      },
      "execution_count": 8,
      "outputs": [
        {
          "output_type": "execute_result",
          "data": {
            "text/plain": [
              "   AngleServo     ax     ay     az     gx     gy     gz   temp  Deviation\n",
              "0       0.852  0.124 -0.052  0.437 -0.016 -0.016 -0.016  0.941        0.0\n",
              "1       0.852  0.040 -0.008 -0.008 -0.008 -0.008  0.000  0.940        0.0\n",
              "2       0.852  0.013 -0.031 -0.031 -0.031 -0.031  0.000  0.948        0.0\n",
              "3       0.852 -0.003 -0.048  0.597 -0.018  0.000 -0.001  0.940        0.0\n",
              "4       0.852 -0.034 -0.007  0.011  0.000  0.000 -0.008  0.966        0.0"
            ],
            "text/html": [
              "\n",
              "  <div id=\"df-a40c3132-83da-4670-adec-a4623476037b\" class=\"colab-df-container\">\n",
              "    <div>\n",
              "<style scoped>\n",
              "    .dataframe tbody tr th:only-of-type {\n",
              "        vertical-align: middle;\n",
              "    }\n",
              "\n",
              "    .dataframe tbody tr th {\n",
              "        vertical-align: top;\n",
              "    }\n",
              "\n",
              "    .dataframe thead th {\n",
              "        text-align: right;\n",
              "    }\n",
              "</style>\n",
              "<table border=\"1\" class=\"dataframe\">\n",
              "  <thead>\n",
              "    <tr style=\"text-align: right;\">\n",
              "      <th></th>\n",
              "      <th>AngleServo</th>\n",
              "      <th>ax</th>\n",
              "      <th>ay</th>\n",
              "      <th>az</th>\n",
              "      <th>gx</th>\n",
              "      <th>gy</th>\n",
              "      <th>gz</th>\n",
              "      <th>temp</th>\n",
              "      <th>Deviation</th>\n",
              "    </tr>\n",
              "  </thead>\n",
              "  <tbody>\n",
              "    <tr>\n",
              "      <th>0</th>\n",
              "      <td>0.852</td>\n",
              "      <td>0.124</td>\n",
              "      <td>-0.052</td>\n",
              "      <td>0.437</td>\n",
              "      <td>-0.016</td>\n",
              "      <td>-0.016</td>\n",
              "      <td>-0.016</td>\n",
              "      <td>0.941</td>\n",
              "      <td>0.0</td>\n",
              "    </tr>\n",
              "    <tr>\n",
              "      <th>1</th>\n",
              "      <td>0.852</td>\n",
              "      <td>0.040</td>\n",
              "      <td>-0.008</td>\n",
              "      <td>-0.008</td>\n",
              "      <td>-0.008</td>\n",
              "      <td>-0.008</td>\n",
              "      <td>0.000</td>\n",
              "      <td>0.940</td>\n",
              "      <td>0.0</td>\n",
              "    </tr>\n",
              "    <tr>\n",
              "      <th>2</th>\n",
              "      <td>0.852</td>\n",
              "      <td>0.013</td>\n",
              "      <td>-0.031</td>\n",
              "      <td>-0.031</td>\n",
              "      <td>-0.031</td>\n",
              "      <td>-0.031</td>\n",
              "      <td>0.000</td>\n",
              "      <td>0.948</td>\n",
              "      <td>0.0</td>\n",
              "    </tr>\n",
              "    <tr>\n",
              "      <th>3</th>\n",
              "      <td>0.852</td>\n",
              "      <td>-0.003</td>\n",
              "      <td>-0.048</td>\n",
              "      <td>0.597</td>\n",
              "      <td>-0.018</td>\n",
              "      <td>0.000</td>\n",
              "      <td>-0.001</td>\n",
              "      <td>0.940</td>\n",
              "      <td>0.0</td>\n",
              "    </tr>\n",
              "    <tr>\n",
              "      <th>4</th>\n",
              "      <td>0.852</td>\n",
              "      <td>-0.034</td>\n",
              "      <td>-0.007</td>\n",
              "      <td>0.011</td>\n",
              "      <td>0.000</td>\n",
              "      <td>0.000</td>\n",
              "      <td>-0.008</td>\n",
              "      <td>0.966</td>\n",
              "      <td>0.0</td>\n",
              "    </tr>\n",
              "  </tbody>\n",
              "</table>\n",
              "</div>\n",
              "    <div class=\"colab-df-buttons\">\n",
              "\n",
              "  <div class=\"colab-df-container\">\n",
              "    <button class=\"colab-df-convert\" onclick=\"convertToInteractive('df-a40c3132-83da-4670-adec-a4623476037b')\"\n",
              "            title=\"Convert this dataframe to an interactive table.\"\n",
              "            style=\"display:none;\">\n",
              "\n",
              "  <svg xmlns=\"http://www.w3.org/2000/svg\" height=\"24px\" viewBox=\"0 -960 960 960\">\n",
              "    <path d=\"M120-120v-720h720v720H120Zm60-500h600v-160H180v160Zm220 220h160v-160H400v160Zm0 220h160v-160H400v160ZM180-400h160v-160H180v160Zm440 0h160v-160H620v160ZM180-180h160v-160H180v160Zm440 0h160v-160H620v160Z\"/>\n",
              "  </svg>\n",
              "    </button>\n",
              "\n",
              "  <style>\n",
              "    .colab-df-container {\n",
              "      display:flex;\n",
              "      gap: 12px;\n",
              "    }\n",
              "\n",
              "    .colab-df-convert {\n",
              "      background-color: #E8F0FE;\n",
              "      border: none;\n",
              "      border-radius: 50%;\n",
              "      cursor: pointer;\n",
              "      display: none;\n",
              "      fill: #1967D2;\n",
              "      height: 32px;\n",
              "      padding: 0 0 0 0;\n",
              "      width: 32px;\n",
              "    }\n",
              "\n",
              "    .colab-df-convert:hover {\n",
              "      background-color: #E2EBFA;\n",
              "      box-shadow: 0px 1px 2px rgba(60, 64, 67, 0.3), 0px 1px 3px 1px rgba(60, 64, 67, 0.15);\n",
              "      fill: #174EA6;\n",
              "    }\n",
              "\n",
              "    .colab-df-buttons div {\n",
              "      margin-bottom: 4px;\n",
              "    }\n",
              "\n",
              "    [theme=dark] .colab-df-convert {\n",
              "      background-color: #3B4455;\n",
              "      fill: #D2E3FC;\n",
              "    }\n",
              "\n",
              "    [theme=dark] .colab-df-convert:hover {\n",
              "      background-color: #434B5C;\n",
              "      box-shadow: 0px 1px 3px 1px rgba(0, 0, 0, 0.15);\n",
              "      filter: drop-shadow(0px 1px 2px rgba(0, 0, 0, 0.3));\n",
              "      fill: #FFFFFF;\n",
              "    }\n",
              "  </style>\n",
              "\n",
              "    <script>\n",
              "      const buttonEl =\n",
              "        document.querySelector('#df-a40c3132-83da-4670-adec-a4623476037b button.colab-df-convert');\n",
              "      buttonEl.style.display =\n",
              "        google.colab.kernel.accessAllowed ? 'block' : 'none';\n",
              "\n",
              "      async function convertToInteractive(key) {\n",
              "        const element = document.querySelector('#df-a40c3132-83da-4670-adec-a4623476037b');\n",
              "        const dataTable =\n",
              "          await google.colab.kernel.invokeFunction('convertToInteractive',\n",
              "                                                    [key], {});\n",
              "        if (!dataTable) return;\n",
              "\n",
              "        const docLinkHtml = 'Like what you see? Visit the ' +\n",
              "          '<a target=\"_blank\" href=https://colab.research.google.com/notebooks/data_table.ipynb>data table notebook</a>'\n",
              "          + ' to learn more about interactive tables.';\n",
              "        element.innerHTML = '';\n",
              "        dataTable['output_type'] = 'display_data';\n",
              "        await google.colab.output.renderOutput(dataTable, element);\n",
              "        const docLink = document.createElement('div');\n",
              "        docLink.innerHTML = docLinkHtml;\n",
              "        element.appendChild(docLink);\n",
              "      }\n",
              "    </script>\n",
              "  </div>\n",
              "\n",
              "\n",
              "<div id=\"df-078e1d6c-c127-4623-9810-e5f877d9857a\">\n",
              "  <button class=\"colab-df-quickchart\" onclick=\"quickchart('df-078e1d6c-c127-4623-9810-e5f877d9857a')\"\n",
              "            title=\"Suggest charts\"\n",
              "            style=\"display:none;\">\n",
              "\n",
              "<svg xmlns=\"http://www.w3.org/2000/svg\" height=\"24px\"viewBox=\"0 0 24 24\"\n",
              "     width=\"24px\">\n",
              "    <g>\n",
              "        <path d=\"M19 3H5c-1.1 0-2 .9-2 2v14c0 1.1.9 2 2 2h14c1.1 0 2-.9 2-2V5c0-1.1-.9-2-2-2zM9 17H7v-7h2v7zm4 0h-2V7h2v10zm4 0h-2v-4h2v4z\"/>\n",
              "    </g>\n",
              "</svg>\n",
              "  </button>\n",
              "\n",
              "<style>\n",
              "  .colab-df-quickchart {\n",
              "      --bg-color: #E8F0FE;\n",
              "      --fill-color: #1967D2;\n",
              "      --hover-bg-color: #E2EBFA;\n",
              "      --hover-fill-color: #174EA6;\n",
              "      --disabled-fill-color: #AAA;\n",
              "      --disabled-bg-color: #DDD;\n",
              "  }\n",
              "\n",
              "  [theme=dark] .colab-df-quickchart {\n",
              "      --bg-color: #3B4455;\n",
              "      --fill-color: #D2E3FC;\n",
              "      --hover-bg-color: #434B5C;\n",
              "      --hover-fill-color: #FFFFFF;\n",
              "      --disabled-bg-color: #3B4455;\n",
              "      --disabled-fill-color: #666;\n",
              "  }\n",
              "\n",
              "  .colab-df-quickchart {\n",
              "    background-color: var(--bg-color);\n",
              "    border: none;\n",
              "    border-radius: 50%;\n",
              "    cursor: pointer;\n",
              "    display: none;\n",
              "    fill: var(--fill-color);\n",
              "    height: 32px;\n",
              "    padding: 0;\n",
              "    width: 32px;\n",
              "  }\n",
              "\n",
              "  .colab-df-quickchart:hover {\n",
              "    background-color: var(--hover-bg-color);\n",
              "    box-shadow: 0 1px 2px rgba(60, 64, 67, 0.3), 0 1px 3px 1px rgba(60, 64, 67, 0.15);\n",
              "    fill: var(--button-hover-fill-color);\n",
              "  }\n",
              "\n",
              "  .colab-df-quickchart-complete:disabled,\n",
              "  .colab-df-quickchart-complete:disabled:hover {\n",
              "    background-color: var(--disabled-bg-color);\n",
              "    fill: var(--disabled-fill-color);\n",
              "    box-shadow: none;\n",
              "  }\n",
              "\n",
              "  .colab-df-spinner {\n",
              "    border: 2px solid var(--fill-color);\n",
              "    border-color: transparent;\n",
              "    border-bottom-color: var(--fill-color);\n",
              "    animation:\n",
              "      spin 1s steps(1) infinite;\n",
              "  }\n",
              "\n",
              "  @keyframes spin {\n",
              "    0% {\n",
              "      border-color: transparent;\n",
              "      border-bottom-color: var(--fill-color);\n",
              "      border-left-color: var(--fill-color);\n",
              "    }\n",
              "    20% {\n",
              "      border-color: transparent;\n",
              "      border-left-color: var(--fill-color);\n",
              "      border-top-color: var(--fill-color);\n",
              "    }\n",
              "    30% {\n",
              "      border-color: transparent;\n",
              "      border-left-color: var(--fill-color);\n",
              "      border-top-color: var(--fill-color);\n",
              "      border-right-color: var(--fill-color);\n",
              "    }\n",
              "    40% {\n",
              "      border-color: transparent;\n",
              "      border-right-color: var(--fill-color);\n",
              "      border-top-color: var(--fill-color);\n",
              "    }\n",
              "    60% {\n",
              "      border-color: transparent;\n",
              "      border-right-color: var(--fill-color);\n",
              "    }\n",
              "    80% {\n",
              "      border-color: transparent;\n",
              "      border-right-color: var(--fill-color);\n",
              "      border-bottom-color: var(--fill-color);\n",
              "    }\n",
              "    90% {\n",
              "      border-color: transparent;\n",
              "      border-bottom-color: var(--fill-color);\n",
              "    }\n",
              "  }\n",
              "</style>\n",
              "\n",
              "  <script>\n",
              "    async function quickchart(key) {\n",
              "      const quickchartButtonEl =\n",
              "        document.querySelector('#' + key + ' button');\n",
              "      quickchartButtonEl.disabled = true;  // To prevent multiple clicks.\n",
              "      quickchartButtonEl.classList.add('colab-df-spinner');\n",
              "      try {\n",
              "        const charts = await google.colab.kernel.invokeFunction(\n",
              "            'suggestCharts', [key], {});\n",
              "      } catch (error) {\n",
              "        console.error('Error during call to suggestCharts:', error);\n",
              "      }\n",
              "      quickchartButtonEl.classList.remove('colab-df-spinner');\n",
              "      quickchartButtonEl.classList.add('colab-df-quickchart-complete');\n",
              "    }\n",
              "    (() => {\n",
              "      let quickchartButtonEl =\n",
              "        document.querySelector('#df-078e1d6c-c127-4623-9810-e5f877d9857a button');\n",
              "      quickchartButtonEl.style.display =\n",
              "        google.colab.kernel.accessAllowed ? 'block' : 'none';\n",
              "    })();\n",
              "  </script>\n",
              "</div>\n",
              "    </div>\n",
              "  </div>\n"
            ],
            "application/vnd.google.colaboratory.intrinsic+json": {
              "type": "dataframe",
              "variable_name": "X",
              "summary": "{\n  \"name\": \"X\",\n  \"rows\": 217,\n  \"fields\": [\n    {\n      \"column\": \"AngleServo\",\n      \"properties\": {\n        \"dtype\": \"number\",\n        \"std\": 0.07841603662168747,\n        \"min\": 0.741,\n        \"max\": 1.0,\n        \"num_unique_values\": 15,\n        \"samples\": [\n          0.907,\n          0.944,\n          0.852\n        ],\n        \"semantic_type\": \"\",\n        \"description\": \"\"\n      }\n    },\n    {\n      \"column\": \"ax\",\n      \"properties\": {\n        \"dtype\": \"number\",\n        \"std\": 0.14787346126967835,\n        \"min\": -0.867,\n        \"max\": 0.914,\n        \"num_unique_values\": 139,\n        \"samples\": [\n          -0.015,\n          0.11,\n          0.06\n        ],\n        \"semantic_type\": \"\",\n        \"description\": \"\"\n      }\n    },\n    {\n      \"column\": \"ay\",\n      \"properties\": {\n        \"dtype\": \"number\",\n        \"std\": 0.13899679054891198,\n        \"min\": -0.601,\n        \"max\": 0.906,\n        \"num_unique_values\": 126,\n        \"samples\": [\n          -0.023,\n          0.005,\n          -0.069\n        ],\n        \"semantic_type\": \"\",\n        \"description\": \"\"\n      }\n    },\n    {\n      \"column\": \"az\",\n      \"properties\": {\n        \"dtype\": \"number\",\n        \"std\": 0.2681524713041633,\n        \"min\": -0.945,\n        \"max\": 1.0,\n        \"num_unique_values\": 146,\n        \"samples\": [\n          0.578,\n          0.559,\n          0.554\n        ],\n        \"semantic_type\": \"\",\n        \"description\": \"\"\n      }\n    },\n    {\n      \"column\": \"gx\",\n      \"properties\": {\n        \"dtype\": \"number\",\n        \"std\": 0.0493009703773688,\n        \"min\": -0.067,\n        \"max\": 0.509,\n        \"num_unique_values\": 47,\n        \"samples\": [\n          0.002,\n          -0.022,\n          0.315\n        ],\n        \"semantic_type\": \"\",\n        \"description\": \"\"\n      }\n    },\n    {\n      \"column\": \"gy\",\n      \"properties\": {\n        \"dtype\": \"number\",\n        \"std\": 0.019903056995364054,\n        \"min\": -0.139,\n        \"max\": 0.055,\n        \"num_unique_values\": 34,\n        \"samples\": [\n          0.005,\n          -0.028,\n          0.021\n        ],\n        \"semantic_type\": \"\",\n        \"description\": \"\"\n      }\n    },\n    {\n      \"column\": \"gz\",\n      \"properties\": {\n        \"dtype\": \"number\",\n        \"std\": 0.026663882343120685,\n        \"min\": -0.251,\n        \"max\": 0.063,\n        \"num_unique_values\": 43,\n        \"samples\": [\n          -0.039,\n          -0.007,\n          -0.013\n        ],\n        \"semantic_type\": \"\",\n        \"description\": \"\"\n      }\n    },\n    {\n      \"column\": \"temp\",\n      \"properties\": {\n        \"dtype\": \"number\",\n        \"std\": 0.13577396555229404,\n        \"min\": -0.828,\n        \"max\": 1.0,\n        \"num_unique_values\": 98,\n        \"samples\": [\n          0.724,\n          0.962,\n          0.817\n        ],\n        \"semantic_type\": \"\",\n        \"description\": \"\"\n      }\n    },\n    {\n      \"column\": \"Deviation\",\n      \"properties\": {\n        \"dtype\": \"number\",\n        \"std\": 0.23425565918248445,\n        \"min\": -1.0,\n        \"max\": 0.688,\n        \"num_unique_values\": 44,\n        \"samples\": [\n          0.075,\n          -0.8,\n          0.25\n        ],\n        \"semantic_type\": \"\",\n        \"description\": \"\"\n      }\n    }\n  ]\n}"
            }
          },
          "metadata": {},
          "execution_count": 8
        }
      ]
    },
    {
      "cell_type": "markdown",
      "source": [
        "Проверим размерности"
      ],
      "metadata": {
        "id": "2FIZ6ceKfvDR"
      }
    },
    {
      "cell_type": "code",
      "source": [
        "print(f\"Рамерность Х, строки(общее количество значений), колонны (количество независимых переменных) = {X.shape}\")\n",
        "print(f\"Рамерность Y, строки(общее количество значений), колонны (количество зависимых переменных) = {y.shape} \")"
      ],
      "metadata": {
        "colab": {
          "base_uri": "https://localhost:8080/"
        },
        "id": "VbyAvkqeeojl",
        "outputId": "b40cc58e-92cf-4052-df13-ceeda0f3e01f"
      },
      "execution_count": 9,
      "outputs": [
        {
          "output_type": "stream",
          "name": "stdout",
          "text": [
            "Рамерность Х, строки(общее количество значений), колонны (количество независимых переменных) = (217, 9)\n",
            "Рамерность Y, строки(общее количество значений), колонны (количество зависимых переменных) = (217, 2) \n"
          ]
        }
      ]
    },
    {
      "cell_type": "code",
      "source": [
        "print(\"Значения Х \")\n",
        "print(X)"
      ],
      "metadata": {
        "colab": {
          "base_uri": "https://localhost:8080/"
        },
        "id": "XJoX7Z38e4wL",
        "outputId": "f5547228-191a-4c0b-d0ea-ca4fc2f13621"
      },
      "execution_count": null,
      "outputs": [
        {
          "output_type": "stream",
          "name": "stdout",
          "text": [
            "Значения Х \n",
            "     AngleServo     ax     ay     az     gx     gy     gz   temp  Deviation\n",
            "0         0.852  0.124 -0.052  0.437 -0.016 -0.016 -0.016  0.941      0.000\n",
            "1         0.852  0.040 -0.008 -0.008 -0.008 -0.008  0.000  0.940      0.000\n",
            "2         0.852  0.013 -0.031 -0.031 -0.031 -0.031  0.000  0.948      0.000\n",
            "3         0.852 -0.003 -0.048  0.597 -0.018  0.000 -0.001  0.940      0.000\n",
            "4         0.852 -0.034 -0.007  0.011  0.000  0.000 -0.008  0.966      0.000\n",
            "..          ...    ...    ...    ...    ...    ...    ...    ...        ...\n",
            "212       1.000 -0.030 -0.003  0.694  0.000  0.000  0.000  0.823      0.000\n",
            "213       1.000 -0.009 -0.002  0.555  0.000  0.000  0.000  0.824      0.250\n",
            "214       1.000  0.914  0.500  0.000  0.008  0.000  0.000  0.825      0.025\n",
            "215       1.000 -0.027  0.551 -0.081  0.002  0.000  0.000  0.824     -0.075\n",
            "216       1.000 -0.029 -0.031  0.554 -0.016 -0.016 -0.016  0.823     -0.100\n",
            "\n",
            "[217 rows x 9 columns]\n"
          ]
        }
      ]
    },
    {
      "cell_type": "code",
      "source": [
        "print(\"Значения Y\")\n",
        "print(y)"
      ],
      "metadata": {
        "colab": {
          "base_uri": "https://localhost:8080/"
        },
        "id": "irTeuQ8Pe61a",
        "outputId": "8a142743-1473-49f2-9219-ccb0f847b441"
      },
      "execution_count": null,
      "outputs": [
        {
          "output_type": "stream",
          "name": "stdout",
          "text": [
            "Значения Y\n",
            "        V1     V2\n",
            "0    0.788  0.788\n",
            "1    0.780  0.780\n",
            "2    0.768  0.768\n",
            "3    0.752  0.752\n",
            "4    0.800  0.800\n",
            "..     ...    ...\n",
            "212  1.000  0.944\n",
            "213  0.752  0.860\n",
            "214  0.748  0.820\n",
            "215  0.836  0.800\n",
            "216  0.920  0.876\n",
            "\n",
            "[217 rows x 2 columns]\n"
          ]
        }
      ]
    },
    {
      "cell_type": "markdown",
      "source": [
        "Далее данные следует нормализовать, но т.к. это было сделано ранее, то этот этап можно пропустить и приступить к разделению данных на тренировочную и тестовые выборки"
      ],
      "metadata": {
        "id": "zXNqgOlNfHoY"
      }
    },
    {
      "cell_type": "code",
      "source": [
        "X_train, X_valid, y_train, y_valid = train_test_split(X, y, test_size = 1 - split_percent)"
      ],
      "metadata": {
        "id": "r1PWetRIfSUW"
      },
      "execution_count": 13,
      "outputs": []
    },
    {
      "cell_type": "code",
      "source": [
        "print(\"Тренировочные данные\")\n",
        "print(X_train)"
      ],
      "metadata": {
        "colab": {
          "base_uri": "https://localhost:8080/"
        },
        "id": "aDXgYC8GuH7r",
        "outputId": "31e4ad9a-81e4-4088-b25c-313b7cd9f229"
      },
      "execution_count": null,
      "outputs": [
        {
          "output_type": "stream",
          "name": "stdout",
          "text": [
            "Тренировочные данные\n",
            "     AngleServo     ax     ay     az     gx     gy     gz   temp  Deviation\n",
            "53        0.796 -0.051  0.031  0.344 -0.016 -0.016 -0.016  0.944      0.000\n",
            "174       0.963  0.032 -0.029  0.591 -0.016 -0.016 -0.016  0.905      0.188\n",
            "5         0.852  0.095 -0.007  0.500  0.000  0.000  0.000  0.948      0.000\n",
            "67        0.778  0.046 -0.008  0.522 -0.004  0.000  0.000  0.966     -0.325\n",
            "180       0.963  0.125 -0.065  0.570 -0.030 -0.016 -0.016  0.828      0.000\n",
            "..          ...    ...    ...    ...    ...    ...    ...    ...        ...\n",
            "160       0.944  0.013  0.009  0.659 -0.012  0.000  0.000  0.716      0.000\n",
            "114       0.889  0.023 -0.007  0.644 -0.008 -0.008 -0.008  0.724      0.000\n",
            "190       0.981  0.009 -0.004  0.242 -0.007  0.004 -0.042  0.821      0.475\n",
            "73        0.759  0.059 -0.052  0.572 -0.031 -0.031 -0.031  0.962     -0.063\n",
            "115       0.889  0.141  0.022  0.531  0.000  0.000  0.000  0.724      0.000\n",
            "\n",
            "[195 rows x 9 columns]\n"
          ]
        }
      ]
    },
    {
      "cell_type": "code",
      "source": [
        "print(\"Выходные данные для тренировочных\")\n",
        "print(y_train)"
      ],
      "metadata": {
        "colab": {
          "base_uri": "https://localhost:8080/"
        },
        "id": "Y6vE1hjduKsi",
        "outputId": "35a4d945-30ba-49dd-b9a8-ec70d82fef43"
      },
      "execution_count": null,
      "outputs": [
        {
          "output_type": "stream",
          "name": "stdout",
          "text": [
            "Выходные данные для тренировочных\n",
            "        V1     V2\n",
            "53   0.780  0.740\n",
            "174  0.772  0.812\n",
            "5    0.840  0.840\n",
            "67   0.800  0.740\n",
            "180  0.900  0.920\n",
            "..     ...    ...\n",
            "160  0.824  0.760\n",
            "114  0.912  0.928\n",
            "190  0.780  0.728\n",
            "73   0.768  0.720\n",
            "115  0.956  0.972\n",
            "\n",
            "[195 rows x 2 columns]\n"
          ]
        }
      ]
    },
    {
      "cell_type": "code",
      "source": [
        "print(\"Данные для валидации (проверки)\")\n",
        "print(X_valid)"
      ],
      "metadata": {
        "colab": {
          "base_uri": "https://localhost:8080/"
        },
        "id": "uxUPQxKvuUjz",
        "outputId": "0105f86d-3917-4779-cf13-7eab0628b8d1"
      },
      "execution_count": null,
      "outputs": [
        {
          "output_type": "stream",
          "name": "stdout",
          "text": [
            "Данные для валидации (проверки)\n",
            "     AngleServo     ax     ay     az     gx     gy     gz   temp  Deviation\n",
            "90        0.741  0.061  0.056  0.535  0.000  0.000  0.000  0.838      0.000\n",
            "60        0.778  0.041  0.020  0.527  0.000  0.000  0.000  0.966      0.025\n",
            "144       0.926  0.018  0.009  0.603 -0.008 -0.008 -0.008  0.799      0.250\n",
            "182       0.963  0.152 -0.052  0.359 -0.063 -0.063 -0.063  0.819      0.000\n",
            "69        0.778  0.121  0.023 -0.031 -0.031 -0.031 -0.031  0.974     -0.175\n",
            "84        0.741  0.099  0.015  0.484  0.000  0.000  0.000  0.837      0.125\n",
            "13        0.852  0.033 -0.029  0.503  0.000  0.000  0.000  0.763      0.050\n",
            "65        0.778  0.074 -0.060  0.516  0.000  0.000  0.000  0.964      0.000\n",
            "72        0.759  0.051 -0.057  0.594  0.000  0.000  0.000  0.964     -0.050\n",
            "24        0.833  0.028 -0.124  0.529 -0.031 -0.031 -0.031  0.853      0.000\n",
            "10        0.852  0.037 -0.008  0.000  0.000  0.000  0.000  0.802      0.000\n",
            "45        0.815  0.039  0.172 -0.883  0.250  0.000  0.000  0.918      0.325\n",
            "22        0.833  0.136 -0.003 -0.008 -0.008 -0.008 -0.008  0.767      0.000\n",
            "86        0.741  0.103 -0.034  0.464  0.000  0.000  0.000  0.846      0.000\n",
            "130       0.907 -0.042 -0.127  0.379  0.000  0.000  0.000  0.897      0.000\n",
            "2         0.852  0.013 -0.031 -0.031 -0.031 -0.031  0.000  0.948      0.000\n",
            "179       0.963  0.126 -0.047  0.468 -0.008 -0.008 -0.008  0.858      0.000\n",
            "42        0.815  0.015  0.202  0.613 -0.064  0.000  0.000  0.943      0.000\n",
            "6         0.852  0.155 -0.017  0.636 -0.030  0.016  0.000  0.949      0.000\n",
            "39        0.815  0.079 -0.053  0.750  0.000  0.000  0.000  0.821      0.000\n",
            "188       0.981  0.005 -0.040  0.267 -0.008 -0.008 -0.008  0.800      0.500\n",
            "3         0.852 -0.003 -0.048  0.597 -0.018  0.000 -0.001  0.940      0.000\n"
          ]
        }
      ]
    },
    {
      "cell_type": "code",
      "source": [
        "print(\"Выходные данные для валидации (проверки)\")\n",
        "print(y_valid)"
      ],
      "metadata": {
        "colab": {
          "base_uri": "https://localhost:8080/"
        },
        "id": "hSWnIk5MuWWo",
        "outputId": "05a87186-48fa-410f-b12d-1d14ab94ac80"
      },
      "execution_count": null,
      "outputs": [
        {
          "output_type": "stream",
          "name": "stdout",
          "text": [
            "Выходные данные для валидации (проверки)\n",
            "        V1     V2\n",
            "90   0.900  0.840\n",
            "60   0.800  0.760\n",
            "144  0.760  0.740\n",
            "182  0.952  0.968\n",
            "69   0.760  0.900\n",
            "84   0.760  0.720\n",
            "13   0.740  0.720\n",
            "65   0.900  0.852\n",
            "72   0.752  0.720\n",
            "24   0.788  0.728\n",
            "10   0.840  0.840\n",
            "45   0.760  0.860\n",
            "22   0.840  0.780\n",
            "86   0.780  0.720\n",
            "130  0.880  0.888\n",
            "2    0.768  0.768\n",
            "179  0.864  0.884\n",
            "42   0.920  0.880\n",
            "6    0.896  0.896\n",
            "39   0.792  0.752\n",
            "188  0.720  0.740\n",
            "3    0.752  0.752\n"
          ]
        }
      ]
    },
    {
      "cell_type": "markdown",
      "source": [
        "# Модель нейросети"
      ],
      "metadata": {
        "id": "En9Kxf4wusOr"
      }
    },
    {
      "cell_type": "markdown",
      "source": [
        "Параметр input_shape = (9,) задает количество входных независимых переменных"
      ],
      "metadata": {
        "id": "Vz7Id286vtPW"
      }
    },
    {
      "cell_type": "code",
      "source": [
        "def get_basic_model():\n",
        "  model = tf.keras.models.Sequential([\n",
        "  tf.keras.layers.Flatten(),\n",
        "  tf.keras.layers.Dense(32, activation='relu', input_shape = (9,)),\n",
        "  tf.keras.layers.Dense(128, activation='relu'),\n",
        "  tf.keras.layers.Dense(256, activation='relu'),\n",
        "  tf.keras.layers.Dense(256, activation='relu'),\n",
        "  tf.keras.layers.Dropout(0.3),\n",
        "  tf.keras.layers.Dense(2)])\n",
        "\n",
        "  model.compile(metrics = ['accuracy'], optimizer = NN_optimizer,loss = NN_loss)\n",
        "  return model"
      ],
      "metadata": {
        "id": "MjTjX261urrM"
      },
      "execution_count": null,
      "outputs": []
    },
    {
      "cell_type": "markdown",
      "source": [
        "# Обучение нейросети и её сохранение"
      ],
      "metadata": {
        "id": "b1N6T6m5u7UI"
      }
    },
    {
      "cell_type": "code",
      "source": [
        "model = get_basic_model() #Получаем модель и компилируем её\n",
        "\n",
        "#Обучаем\n",
        "history = model.fit(X_train, y_train,\n",
        "          batch_size = BATCH_SIZE,\n",
        "          epochs = EPOCHS,\n",
        "          verbose = 1,\n",
        "          validation_data = (X_valid, y_valid))\n",
        "\n",
        "model.summary() #Выводим резюме\n",
        "model.save(save_path) #Сохраняем"
      ],
      "metadata": {
        "colab": {
          "base_uri": "https://localhost:8080/"
        },
        "id": "DNhvFISiu60o",
        "outputId": "9bedd647-687b-48aa-dea5-cc9f6adbce0c"
      },
      "execution_count": null,
      "outputs": [
        {
          "output_type": "stream",
          "name": "stdout",
          "text": [
            "Epoch 1/32\n",
            "20/20 [==============================] - 2s 25ms/step - loss: 0.1645 - accuracy: 0.5538 - val_loss: 0.0252 - val_accuracy: 0.6364\n",
            "Epoch 2/32\n",
            "20/20 [==============================] - 0s 12ms/step - loss: 0.0252 - accuracy: 0.4821 - val_loss: 0.0083 - val_accuracy: 0.4545\n",
            "Epoch 3/32\n",
            "20/20 [==============================] - 0s 12ms/step - loss: 0.0179 - accuracy: 0.4359 - val_loss: 0.0071 - val_accuracy: 0.7273\n",
            "Epoch 4/32\n",
            "20/20 [==============================] - 0s 10ms/step - loss: 0.0142 - accuracy: 0.4974 - val_loss: 0.0066 - val_accuracy: 0.2727\n",
            "Epoch 5/32\n",
            "20/20 [==============================] - 0s 11ms/step - loss: 0.0127 - accuracy: 0.5487 - val_loss: 0.0073 - val_accuracy: 0.7273\n",
            "Epoch 6/32\n",
            "20/20 [==============================] - 0s 12ms/step - loss: 0.0141 - accuracy: 0.5282 - val_loss: 0.0063 - val_accuracy: 0.7727\n",
            "Epoch 7/32\n",
            "20/20 [==============================] - 0s 6ms/step - loss: 0.0123 - accuracy: 0.4974 - val_loss: 0.0073 - val_accuracy: 0.8182\n",
            "Epoch 8/32\n",
            "20/20 [==============================] - 0s 7ms/step - loss: 0.0114 - accuracy: 0.5128 - val_loss: 0.0063 - val_accuracy: 0.2727\n",
            "Epoch 9/32\n",
            "20/20 [==============================] - 0s 8ms/step - loss: 0.0124 - accuracy: 0.4974 - val_loss: 0.0051 - val_accuracy: 0.2273\n",
            "Epoch 10/32\n",
            "20/20 [==============================] - 0s 7ms/step - loss: 0.0105 - accuracy: 0.5179 - val_loss: 0.0056 - val_accuracy: 0.6818\n",
            "Epoch 11/32\n",
            "20/20 [==============================] - 0s 7ms/step - loss: 0.0110 - accuracy: 0.5436 - val_loss: 0.0053 - val_accuracy: 0.5000\n",
            "Epoch 12/32\n",
            "20/20 [==============================] - 0s 8ms/step - loss: 0.0107 - accuracy: 0.5385 - val_loss: 0.0052 - val_accuracy: 0.4091\n",
            "Epoch 13/32\n",
            "20/20 [==============================] - 0s 7ms/step - loss: 0.0105 - accuracy: 0.5026 - val_loss: 0.0068 - val_accuracy: 0.6818\n",
            "Epoch 14/32\n",
            "20/20 [==============================] - 0s 7ms/step - loss: 0.0111 - accuracy: 0.5744 - val_loss: 0.0061 - val_accuracy: 0.2727\n",
            "Epoch 15/32\n",
            "20/20 [==============================] - 0s 7ms/step - loss: 0.0119 - accuracy: 0.4923 - val_loss: 0.0099 - val_accuracy: 0.7273\n",
            "Epoch 16/32\n",
            "20/20 [==============================] - 0s 7ms/step - loss: 0.0095 - accuracy: 0.5436 - val_loss: 0.0049 - val_accuracy: 0.2727\n",
            "Epoch 17/32\n",
            "20/20 [==============================] - 0s 7ms/step - loss: 0.0088 - accuracy: 0.5436 - val_loss: 0.0064 - val_accuracy: 0.7727\n",
            "Epoch 18/32\n",
            "20/20 [==============================] - 0s 6ms/step - loss: 0.0093 - accuracy: 0.5487 - val_loss: 0.0047 - val_accuracy: 0.8182\n",
            "Epoch 19/32\n",
            "20/20 [==============================] - 0s 6ms/step - loss: 0.0101 - accuracy: 0.5692 - val_loss: 0.0043 - val_accuracy: 0.7727\n",
            "Epoch 20/32\n",
            "20/20 [==============================] - 0s 7ms/step - loss: 0.0102 - accuracy: 0.5897 - val_loss: 0.0062 - val_accuracy: 0.6818\n",
            "Epoch 21/32\n",
            "20/20 [==============================] - 0s 6ms/step - loss: 0.0101 - accuracy: 0.6154 - val_loss: 0.0043 - val_accuracy: 0.2727\n",
            "Epoch 22/32\n",
            "20/20 [==============================] - 0s 6ms/step - loss: 0.0090 - accuracy: 0.5641 - val_loss: 0.0082 - val_accuracy: 0.7273\n",
            "Epoch 23/32\n",
            "20/20 [==============================] - 0s 8ms/step - loss: 0.0086 - accuracy: 0.5744 - val_loss: 0.0046 - val_accuracy: 0.7727\n",
            "Epoch 24/32\n",
            "20/20 [==============================] - 0s 6ms/step - loss: 0.0088 - accuracy: 0.5949 - val_loss: 0.0051 - val_accuracy: 0.7727\n",
            "Epoch 25/32\n",
            "20/20 [==============================] - 0s 6ms/step - loss: 0.0104 - accuracy: 0.5897 - val_loss: 0.0044 - val_accuracy: 0.5000\n",
            "Epoch 26/32\n",
            "20/20 [==============================] - 0s 7ms/step - loss: 0.0101 - accuracy: 0.5333 - val_loss: 0.0045 - val_accuracy: 0.8182\n",
            "Epoch 27/32\n",
            "20/20 [==============================] - 0s 6ms/step - loss: 0.0101 - accuracy: 0.5897 - val_loss: 0.0061 - val_accuracy: 0.8182\n",
            "Epoch 28/32\n",
            "20/20 [==============================] - 0s 7ms/step - loss: 0.0111 - accuracy: 0.5692 - val_loss: 0.0040 - val_accuracy: 0.8182\n",
            "Epoch 29/32\n",
            "20/20 [==============================] - 0s 6ms/step - loss: 0.0088 - accuracy: 0.5590 - val_loss: 0.0046 - val_accuracy: 0.8182\n",
            "Epoch 30/32\n",
            "20/20 [==============================] - 0s 7ms/step - loss: 0.0096 - accuracy: 0.6000 - val_loss: 0.0047 - val_accuracy: 0.7273\n",
            "Epoch 31/32\n",
            "20/20 [==============================] - 0s 7ms/step - loss: 0.0114 - accuracy: 0.5436 - val_loss: 0.0051 - val_accuracy: 0.8636\n",
            "Epoch 32/32\n",
            "20/20 [==============================] - 0s 7ms/step - loss: 0.0072 - accuracy: 0.5692 - val_loss: 0.0045 - val_accuracy: 0.8182\n",
            "Model: \"sequential_19\"\n",
            "_________________________________________________________________\n",
            " Layer (type)                Output Shape              Param #   \n",
            "=================================================================\n",
            " flatten_19 (Flatten)        (None, 9)                 0         \n",
            "                                                                 \n",
            " dense_96 (Dense)            (None, 32)                320       \n",
            "                                                                 \n",
            " dense_97 (Dense)            (None, 128)               4224      \n",
            "                                                                 \n",
            " dense_98 (Dense)            (None, 256)               33024     \n",
            "                                                                 \n",
            " dense_99 (Dense)            (None, 256)               65792     \n",
            "                                                                 \n",
            " dropout_1 (Dropout)         (None, 256)               0         \n",
            "                                                                 \n",
            " dense_100 (Dense)           (None, 2)                 514       \n",
            "                                                                 \n",
            "=================================================================\n",
            "Total params: 103874 (405.76 KB)\n",
            "Trainable params: 103874 (405.76 KB)\n",
            "Non-trainable params: 0 (0.00 Byte)\n",
            "_________________________________________________________________\n"
          ]
        },
        {
          "output_type": "stream",
          "name": "stderr",
          "text": [
            "/usr/local/lib/python3.10/dist-packages/keras/src/engine/training.py:3103: UserWarning: You are saving your model as an HDF5 file via `model.save()`. This file format is considered legacy. We recommend using instead the native Keras format, e.g. `model.save('my_model.keras')`.\n",
            "  saving_api.save_model(\n"
          ]
        }
      ]
    },
    {
      "cell_type": "markdown",
      "source": [
        "### Графики процесса обучения"
      ],
      "metadata": {
        "id": "YS6TEmq3v8w9"
      }
    },
    {
      "cell_type": "markdown",
      "source": [
        "Точность прогнозирования модели"
      ],
      "metadata": {
        "id": "QgI3SMgfwJ5S"
      }
    },
    {
      "cell_type": "code",
      "source": [
        "plt.figure(figsize=(10, 5), dpi=90)\n",
        "plt.plot(history.history['accuracy'])\n",
        "plt.plot(history.history['val_accuracy'])\n",
        "plt.title('Точность прогнозирования модели')\n",
        "plt.ylabel('Точность')\n",
        "plt.xlabel('Эпоха')\n",
        "plt.grid()\n",
        "plt.legend(['train', 'test'], loc='upper left')"
      ],
      "metadata": {
        "colab": {
          "base_uri": "https://localhost:8080/",
          "height": 457
        },
        "id": "pkM57Iynv8Ot",
        "outputId": "d088e8dc-ad6c-4516-9728-870f1e408429"
      },
      "execution_count": null,
      "outputs": [
        {
          "output_type": "execute_result",
          "data": {
            "text/plain": [
              "<matplotlib.legend.Legend at 0x7dd4eeeb6710>"
            ]
          },
          "metadata": {},
          "execution_count": 71
        },
        {
          "output_type": "display_data",
          "data": {
            "text/plain": [
              "<Figure size 900x450 with 1 Axes>"
            ],
            "image/png": "[encoded data removed]"
          },
          "metadata": {}
        }
      ]
    },
    {
      "cell_type": "markdown",
      "source": [
        "Потери модели"
      ],
      "metadata": {
        "id": "Qkt5lQfkwNC5"
      }
    },
    {
      "cell_type": "code",
      "source": [
        "plt.figure(figsize=(10, 5), dpi=90)\n",
        "plt.plot(history.history['loss'])\n",
        "plt.plot(history.history['val_loss'])\n",
        "plt.title('Потери модели')\n",
        "plt.ylabel('Потери')\n",
        "plt.grid()\n",
        "plt.xlabel('Эпоха')\n",
        "plt.legend(['train', 'test'], loc='upper right')\n",
        "plt.show()"
      ],
      "metadata": {
        "colab": {
          "base_uri": "https://localhost:8080/",
          "height": 440
        },
        "id": "RXhjThr3wRsI",
        "outputId": "ec385395-bdb3-444c-c1ba-05b2e1cb42c8"
      },
      "execution_count": null,
      "outputs": [
        {
          "output_type": "display_data",
          "data": {
            "text/plain": [
              "<Figure size 900x450 with 1 Axes>"
            ],
            "image/png": "[encoded data removed]"
          },
          "metadata": {}
        }
      ]
    },
    {
      "cell_type": "markdown",
      "source": [
        "# Работа с загруженной моделью"
      ],
      "metadata": {
        "id": "HHn8gtZZxNcc"
      }
    },
    {
      "cell_type": "code",
      "source": [
        "Loading_model = tf.keras.models.load_model(save_path)\n",
        "Loading_model.summary()"
      ],
      "metadata": {
        "colab": {
          "base_uri": "https://localhost:8080/"
        },
        "id": "hOlaKS62xPDU",
        "outputId": "047048ea-eabb-4582-a816-dbc829bfc201"
      },
      "execution_count": 10,
      "outputs": [
        {
          "output_type": "stream",
          "name": "stdout",
          "text": [
            "Model: \"sequential_19\"\n",
            "_________________________________________________________________\n",
            " Layer (type)                Output Shape              Param #   \n",
            "=================================================================\n",
            " flatten_19 (Flatten)        (None, 9)                 0         \n",
            "                                                                 \n",
            " dense_96 (Dense)            (None, 32)                320       \n",
            "                                                                 \n",
            " dense_97 (Dense)            (None, 128)               4224      \n",
            "                                                                 \n",
            " dense_98 (Dense)            (None, 256)               33024     \n",
            "                                                                 \n",
            " dense_99 (Dense)            (None, 256)               65792     \n",
            "                                                                 \n",
            " dropout_1 (Dropout)         (None, 256)               0         \n",
            "                                                                 \n",
            " dense_100 (Dense)           (None, 2)                 514       \n",
            "                                                                 \n",
            "=================================================================\n",
            "Total params: 103874 (405.76 KB)\n",
            "Trainable params: 103874 (405.76 KB)\n",
            "Non-trainable params: 0 (0.00 Byte)\n",
            "_________________________________________________________________\n"
          ]
        }
      ]
    },
    {
      "cell_type": "markdown",
      "source": [
        "## Визуализация архитектуры модели"
      ],
      "metadata": {
        "id": "8eZSvaK8xY2j"
      }
    },
    {
      "cell_type": "code",
      "source": [
        "keras.utils.plot_model(Loading_model, 'Model.png')"
      ],
      "metadata": {
        "colab": {
          "base_uri": "https://localhost:8080/",
          "height": 758
        },
        "id": "W_M_3ps6xXPj",
        "outputId": "d01333af-c362-4c1c-d81a-388634ec56c4"
      },
      "execution_count": null,
      "outputs": [
        {
          "output_type": "execute_result",
          "data": {
            "image/png": "[encoded data removed]",
            "text/plain": [
              "<IPython.core.display.Image object>"
            ]
          },
          "metadata": {},
          "execution_count": 74
        }
      ]
    },
    {
      "cell_type": "code",
      "source": [
        "keras.utils.plot_model(Loading_model, 'model_with_shape_info.png', show_shapes=True)"
      ],
      "metadata": {
        "colab": {
          "base_uri": "https://localhost:8080/",
          "height": 865
        },
        "id": "PfKiucMVxa7a",
        "outputId": "15653aef-8d9d-4ac1-f253-217a8091bcf5"
      },
      "execution_count": null,
      "outputs": [
        {
          "output_type": "execute_result",
          "data": {
            "image/png": "[encoded data removed]",
            "text/plain": [
              "<IPython.core.display.Image object>"
            ]
          },
          "metadata": {},
          "execution_count": 75
        }
      ]
    },
    {
      "cell_type": "markdown",
      "source": [
        "## Проверка точности предсказания"
      ],
      "metadata": {
        "id": "GZZ75NK5xgwZ"
      }
    },
    {
      "cell_type": "markdown",
      "source": [
        "Пробное предсказание"
      ],
      "metadata": {
        "id": "bM9wDQMOxpjn"
      }
    },
    {
      "cell_type": "code",
      "source": [
        "data = [[ 0.944,  0.025, -0.011,  0.576,  0.000,  0.000,  0.000,  0.750, 0.000]] # X_valid[0]\n",
        "print(f\"Предсказание = {Loading_model.predict(data)}\")\n",
        "print(f\"Реальное значение = 0.804  0.740]\")"
      ],
      "metadata": {
        "colab": {
          "base_uri": "https://localhost:8080/"
        },
        "id": "tN7xRWTDxhfK",
        "outputId": "f8bcfd0e-1284-4cad-baed-b038e7b09717"
      },
      "execution_count": 11,
      "outputs": [
        {
          "output_type": "stream",
          "name": "stdout",
          "text": [
            "1/1 [==============================] - 0s 208ms/step\n",
            "Предсказание = [[0.8474109  0.80723506]]\n",
            "Реальное значение = 0.804  0.740]\n"
          ]
        }
      ]
    },
    {
      "cell_type": "code",
      "source": [
        "test_arr = np.array(y_valid, ndmin=2)\n",
        "predict_arr = np.array(X_valid, ndmin=2)\n",
        "test_predict = Loading_model.predict(predict_arr)"
      ],
      "metadata": {
        "colab": {
          "base_uri": "https://localhost:8080/"
        },
        "id": "tF-SbyoVm76i",
        "outputId": "28914531-dd5c-472e-f76d-688e549bb8ce"
      },
      "execution_count": 16,
      "outputs": [
        {
          "output_type": "stream",
          "name": "stdout",
          "text": [
            "1/1 [==============================] - 0s 104ms/step\n"
          ]
        }
      ]
    },
    {
      "cell_type": "markdown",
      "source": [
        "### График тестовой выборки"
      ],
      "metadata": {
        "id": "8bn1pGEgoGEM"
      }
    },
    {
      "cell_type": "code",
      "source": [
        "def plot_result(testY , test_predict):\n",
        "    plt.figure(figsize=(15, 6), dpi=90)\n",
        "    plt.plot(testY)\n",
        "    plt.plot(test_predict)\n",
        "    plt.legend(['Реальное V1', 'Реальное V2', 'Предсказанное V1', 'Предсказанное V2'])\n",
        "    plt.xlabel('x')\n",
        "    plt.ylabel('y')\n",
        "    plt.title('Реальное и предсказанные значения')\n",
        "    plt.grid()\n",
        "plot_result(test_arr, test_predict)"
      ],
      "metadata": {
        "colab": {
          "base_uri": "https://localhost:8080/",
          "height": 510
        },
        "id": "jtu_1KB5nmIq",
        "outputId": "9a964e8b-8f41-43d8-a474-7a68d61b646f"
      },
      "execution_count": 17,
      "outputs": [
        {
          "output_type": "display_data",
          "data": {
            "text/plain": [
              "<Figure size 1350x540 with 1 Axes>"
            ],
            "image/png": "[encoded data removed]"
          },
          "metadata": {}
        }
      ]
    },
    {
      "cell_type": "markdown",
      "source": [
        "Прогон по тестовой выборке"
      ],
      "metadata": {
        "id": "JT_5KpkxkMha"
      }
    },
    {
      "cell_type": "code",
      "source": [
        "for i in range(len(X_valid)):\n",
        "  data = np.array(predict_arr[i], ndmin=2)\n",
        "  y = Loading_model.predict(data)\n",
        "  print(f\" {i}-е Предсказание при вводных данных {data}  = {y}\")\n",
        "  print(f\"{i}-е Реальное значение = {test_arr[i]} \")"
      ],
      "metadata": {
        "id": "6DHSf0NHkKdS",
        "colab": {
          "base_uri": "https://localhost:8080/"
        },
        "outputId": "3299cd27-9ddb-4a82-f96b-10813debe550"
      },
      "execution_count": 20,
      "outputs": [
        {
          "output_type": "stream",
          "name": "stdout",
          "text": [
            "1/1 [==============================] - 0s 24ms/step\n",
            " 0-е Предсказание при вводных данных [[ 0.981  0.067 -0.037  0.479 -0.008 -0.008 -0.008  0.821  0.25 ]]  = [[0.80796355 0.7982451 ]]\n",
            "0-е Реальное значение = [0.728 0.78 ] \n",
            "1/1 [==============================] - 0s 20ms/step\n",
            " 1-е Предсказание при вводных данных [[ 0.963  0.018 -0.036  0.574 -0.008 -0.008 -0.008  0.922  0.375]]  = [[0.8167914 0.8146069]]\n",
            "1-е Реальное значение = [0.72 0.72] \n",
            "1/1 [==============================] - 0s 22ms/step\n",
            " 2-е Предсказание при вводных данных [[ 0.907  0.067 -0.054  0.479 -0.008 -0.008 -0.008  0.843  0.   ]]  = [[0.8330414 0.8010299]]\n",
            "2-е Реальное значение = [0.88  0.888] \n",
            "1/1 [==============================] - 0s 24ms/step\n",
            " 3-е Предсказание при вводных данных [[ 0.852  0.155 -0.017  0.636 -0.03   0.016  0.     0.949  0.   ]]  = [[0.8765735  0.84313095]]\n",
            "3-е Реальное значение = [0.896 0.896] \n",
            "1/1 [==============================] - 0s 24ms/step\n",
            " 4-е Предсказание при вводных данных [[ 0.926 -0.172  0.422  0.516  0.125  0.     0.     0.955  0.   ]]  = [[0.8025857 0.7496274]]\n",
            "4-е Реальное значение = [0.812 0.72 ] \n",
            "1/1 [==============================] - 0s 25ms/step\n",
            " 5-е Предсказание при вводных данных [[ 0.87   0.072  0.014  0.471 -0.016 -0.016 -0.016  0.897  0.   ]]  = [[0.82346505 0.79258627]]\n",
            "5-е Реальное значение = [0.72 0.8 ] \n",
            "1/1 [==============================] - 0s 28ms/step\n",
            " 6-е Предсказание при вводных данных [[ 0.926  0.018  0.009  0.603 -0.008 -0.008 -0.008  0.799  0.25 ]]  = [[0.8090233 0.794498 ]]\n",
            "6-е Реальное значение = [0.76 0.74] \n",
            "1/1 [==============================] - 0s 23ms/step\n",
            " 7-е Предсказание при вводных данных [[ 0.741  0.101 -0.342 -0.211  0.509 -0.063 -0.063  0.905 -0.025]]  = [[0.8225934  0.82904327]]\n",
            "7-е Реальное значение = [0.84 0.9 ] \n",
            "1/1 [==============================] - 0s 24ms/step\n",
            " 8-е Предсказание при вводных данных [[ 0.944  0.041 -0.029  0.554 -0.01  -0.008 -0.008  0.776  0.275]]  = [[0.7951764 0.7858836]]\n",
            "8-е Реальное значение = [0.72 0.74] \n",
            "1/1 [==============================] - 0s 26ms/step\n",
            " 9-е Предсказание при вводных данных [[ 0.963  0.063 -0.066  0.487 -0.008 -0.008 -0.008  0.852  0.   ]]  = [[0.8505403 0.817665 ]]\n",
            "9-е Реальное значение = [0.8  0.82] \n",
            "1/1 [==============================] - 0s 25ms/step\n",
            " 10-е Предсказание при вводных данных [[0.889 0.071 0.042 0.538 0.    0.    0.    0.733 0.   ]]  = [[0.8313697 0.7929168]]\n",
            "10-е Реальное значение = [0.752 0.768] \n",
            "1/1 [==============================] - 0s 25ms/step\n",
            " 11-е Предсказание при вводных данных [[ 0.796  0.138 -0.068  0.455 -0.008 -0.008 -0.008  0.962  0.   ]]  = [[0.8273998  0.79909146]]\n",
            "11-е Реальное значение = [0.964 0.924] \n",
            "1/1 [==============================] - 0s 24ms/step\n",
            " 12-е Предсказание при вводных данных [[ 0.852  0.124 -0.052  0.437 -0.016 -0.016 -0.016  0.941  0.   ]]  = [[0.8320027 0.8048701]]\n",
            "12-е Реальное значение = [0.788 0.788] \n",
            "1/1 [==============================] - 0s 25ms/step\n",
            " 13-е Предсказание при вводных данных [[ 1.    -0.03  -0.003  0.694  0.     0.     0.     0.823  0.   ]]  = [[0.88938767 0.84509647]]\n",
            "13-е Реальное значение = [1.    0.944] \n",
            "1/1 [==============================] - 0s 26ms/step\n",
            " 14-е Предсказание при вводных данных [[ 0.963  0.125 -0.065  0.57  -0.03  -0.016 -0.016  0.828  0.   ]]  = [[0.88100183 0.84808105]]\n",
            "14-е Реальное значение = [0.9  0.92] \n",
            "1/1 [==============================] - 0s 30ms/step\n",
            " 15-е Предсказание при вводных данных [[ 0.833  0.039 -0.077  0.496 -0.001  0.014  0.     0.802 -0.188]]  = [[0.8057347  0.76104516]]\n",
            "15-е Реальное значение = [0.76 0.72] \n",
            "1/1 [==============================] - 0s 24ms/step\n",
            " 16-е Предсказание при вводных данных [[ 0.926  0.061 -0.021  0.539  0.     0.     0.     0.795  0.3  ]]  = [[0.79044527 0.7840015 ]]\n",
            "16-е Реальное значение = [0.76 0.78] \n",
            "1/1 [==============================] - 0s 26ms/step\n",
            " 17-е Предсказание при вводных данных [[ 0.926  0.04  -0.049  0.59  -0.063 -0.063 -0.063  0.8    0.1  ]]  = [[0.83888626 0.8139853 ]]\n",
            "17-е Реальное значение = [0.72  0.732] \n",
            "1/1 [==============================] - 0s 27ms/step\n",
            " 18-е Предсказание при вводных данных [[ 0.907  0.042 -0.026  0.54   0.     0.002 -0.251  0.789 -0.25 ]]  = [[0.8807101 0.8307316]]\n",
            "18-е Реальное значение = [0.96 0.92] \n",
            "1/1 [==============================] - 0s 24ms/step\n",
            " 19-е Предсказание при вводных данных [[ 0.889  0.059 -0.026  0.53  -0.02   0.02  -0.013  0.905  0.525]]  = [[0.7579187 0.7721244]]\n",
            "19-е Реальное значение = [0.732 0.8  ] \n",
            "1/1 [==============================] - 0s 23ms/step\n",
            " 20-е Предсказание при вводных данных [[ 0.981  0.005 -0.04   0.267 -0.008 -0.008 -0.008  0.8    0.5  ]]  = [[0.7426048 0.7505603]]\n",
            "20-е Реальное значение = [0.72 0.74] \n",
            "1/1 [==============================] - 0s 24ms/step\n",
            " 21-е Предсказание при вводных данных [[ 0.741  0.046 -0.045  0.594  0.     0.     0.     0.841 -0.025]]  = [[0.8073556  0.77131814]]\n",
            "21-е Реальное значение = [0.788 0.72 ] \n"
          ]
        }
      ]
    },
    {
      "cell_type": "markdown",
      "source": [
        "### Root Mean Square Error (RMSE) - Среднеквадратичное отклонение"
      ],
      "metadata": {
        "id": "MlQ-oRaayl6c"
      }
    },
    {
      "cell_type": "code",
      "source": [
        "def print_error(trainY, testY, train_predict, test_predict):\n",
        "    # Ошибка предсказания\n",
        "    train_rmse = math.sqrt(mean_squared_error(trainY, train_predict))\n",
        "    test_rmse = math.sqrt(mean_squared_error(testY, test_predict))\n",
        "    # Печать значений\n",
        "    print('RMSE для тренировочной выборки: %.3f RMSE' % (train_rmse))\n",
        "    print('RMSE для тестовой выборки: %.3f RMSE' % (test_rmse))\n",
        "\n",
        "# Сделаем предсказания\n",
        "train_predict = Loading_model.predict(X_train)\n",
        "test_predict = Loading_model.predict(X_valid)\n",
        "# Среднеквадратичное отклонение\n",
        "print_error(y_train, y_valid, train_predict, test_predict)"
      ],
      "metadata": {
        "colab": {
          "base_uri": "https://localhost:8080/"
        },
        "id": "_qqi7PDmyn7s",
        "outputId": "927f0c82-2aa9-4c12-d249-a7b943d1e6d3"
      },
      "execution_count": 19,
      "outputs": [
        {
          "output_type": "stream",
          "name": "stdout",
          "text": [
            "7/7 [==============================] - 0s 3ms/step\n",
            "1/1 [==============================] - 0s 21ms/step\n",
            "RMSE для тренировочной выборки: 0.064 RMSE\n",
            "RMSE для тестовой выборки: 0.065 RMSE\n"
          ]
        }
      ]
    },
    {
      "cell_type": "markdown",
      "source": [
        "## Проверка скорости работы"
      ],
      "metadata": {
        "id": "4h8ULi3EzbN6"
      }
    },
    {
      "cell_type": "markdown",
      "source": [
        "С заранее смасштабированными данными"
      ],
      "metadata": {
        "id": "eB2kk4fNkFNE"
      }
    },
    {
      "cell_type": "code",
      "source": [
        "data = [[0.944, 0.025, -0.011, 0.576, 0.000, 0.000,  0.000,  0.750, 0.000]]\n",
        "data_2 = [[0.926, 0.057, -0.091,  0.466, -0.008, -0.008, -0.008, 0.957, 0.025]]\n",
        "data_3 = [[0.833, 0.169, -0.003, 0.437, 0.000, 0.000,  0.000,  0.853, 0.000]]\n",
        "start_time = time.time()\n",
        "Loading_model.predict(data)\n",
        "Loading_model.predict(data_2)\n",
        "Loading_model.predict(data_3)\n",
        "time_for_operation = (time.time() - start_time)\n",
        "print(f\"Среднее время на расчёт = {round(time_for_operation / 3, 5)} секунд\")"
      ],
      "metadata": {
        "colab": {
          "base_uri": "https://localhost:8080/"
        },
        "id": "eXgxXe85zdS6",
        "outputId": "def660b2-f137-4867-b6c0-e9cbc68ed80c"
      },
      "execution_count": 23,
      "outputs": [
        {
          "output_type": "stream",
          "name": "stdout",
          "text": [
            "1/1 [==============================] - 0s 41ms/step\n",
            "1/1 [==============================] - 0s 48ms/step\n",
            "1/1 [==============================] - 0s 38ms/step\n",
            "Среднее время на расчёт = 0.1048 секунд\n"
          ]
        }
      ]
    },
    {
      "cell_type": "markdown",
      "source": [
        "Скорость расчёта при анализе пакета в 22 значения тестовой выборки"
      ],
      "metadata": {
        "id": "EFG8kROApZsk"
      }
    },
    {
      "cell_type": "code",
      "source": [
        "start_time = time.time()\n",
        "predict_arr = np.array(X_valid, ndmin=2)\n",
        "test_predict = Loading_model.predict(predict_arr)\n",
        "time_for_operation = (time.time() - start_time)\n",
        "print(f\"Время на расчёт = {round(time_for_operation / 3, 5)} секунд\")"
      ],
      "metadata": {
        "colab": {
          "base_uri": "https://localhost:8080/"
        },
        "id": "DrUH_k1qpCiZ",
        "outputId": "3b7ef86a-53d0-4457-b522-47698e30893e"
      },
      "execution_count": 22,
      "outputs": [
        {
          "output_type": "stream",
          "name": "stdout",
          "text": [
            "1/1 [==============================] - 0s 36ms/step\n",
            "Время на расчёт = 0.04792 секунд\n"
          ]
        }
      ]
    }
  ]
}